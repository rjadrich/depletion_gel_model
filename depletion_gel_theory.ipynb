{
 "cells": [
  {
   "cell_type": "markdown",
   "metadata": {},
   "source": [
    "#Theoretical model for a mixture of charged colloids, with counterions and salt and a polymer depletant"
   ]
  },
  {
   "cell_type": "markdown",
   "metadata": {},
   "source": [
    "###Required imports\n",
    "\n",
    "---"
   ]
  },
  {
   "cell_type": "code",
   "execution_count": 2,
   "metadata": {
    "collapsed": false
   },
   "outputs": [],
   "source": [
    "import os\n",
    "import csv\n",
    "import pandas as pd\n",
    "import numdifftools as nd\n",
    "from math import pi, exp, sqrt, log\n",
    "from numpy.linalg import det, slogdet\n",
    "from numpy import array\n",
    "import matplotlib.pyplot as plt\n",
    "import collections\n",
    "import functools\n",
    "%matplotlib inline "
   ]
  },
  {
   "cell_type": "markdown",
   "metadata": {},
   "source": [
    "###Create a memoized class to decorate some functions with and prevent trivial re-evaluation\n",
    "\n",
    "---"
   ]
  },
  {
   "cell_type": "code",
   "execution_count": 3,
   "metadata": {
    "collapsed": true
   },
   "outputs": [],
   "source": [
    "class memoized(object):\n",
    "    '''Decorator. Caches a function's return value each time it is called.\n",
    "    If called later with the same arguments, the cached value is returned\n",
    "    (not reevaluated).\n",
    "    '''\n",
    "    def __init__(self, func):\n",
    "        self.func = func\n",
    "        self.cache = {}\n",
    "    def __call__(self, *args):\n",
    "        if not isinstance(args, collections.Hashable):\n",
    "            # uncacheable. a list, for instance.\n",
    "            # better to not cache than blow up.\n",
    "            return self.func(*args)\n",
    "        if args in self.cache:\n",
    "            return self.cache[args]\n",
    "        else:\n",
    "            value = self.func(*args)\n",
    "            self.cache[args] = value\n",
    "            return value\n",
    "    def __repr__(self):\n",
    "        '''Return the function's docstring.'''\n",
    "        return self.func.__doc__\n",
    "    def __get__(self, obj, objtype):\n",
    "        '''Support instance methods.'''\n",
    "        return functools.partial(self.__call__, obj)"
   ]
  },
  {
   "cell_type": "markdown",
   "metadata": {},
   "source": [
    "###Function to make the hard sphere RDF dictionary\n",
    "This reads in all of the hard sphere g(r) csv files in \"\\data\\hs_structure\\\" of the working directory and places each (in order of increasing volumne fraction) into a pandas dataframe. There is also an \"r\" column that correpsonds to the radial distance and appears at the very end of the dataframe\n",
    "\n",
    "**NOTE**: the RDF files must start at zero volume fraction and increase in one fixed increment (automatically detected when read in)\n",
    "\n",
    "---"
   ]
  },
  {
   "cell_type": "code",
   "execution_count": 4,
   "metadata": {
    "collapsed": true
   },
   "outputs": [],
   "source": [
    "#read each rdf file at each volume fraction and store in a dictionary within a dictionary\n",
    "#with volume fraction as the first key and r as the second key for very rapid read\n",
    "def load_hs_rdf_data(rdf_directory):    \n",
    "    rdf_files = os.listdir(rdf_directory) \n",
    "    \n",
    "    rdf_file = rdf_files[0] #extract first filename\n",
    "    eta = rdf_file[-11:-4] #extract the volume fraction from filename\n",
    "    rdf_data = pd.read_csv(filepath_or_buffer = rdf_directory + rdf_file, header = None, names = [\"r\", float(eta)]) \n",
    "    \n",
    "    for rdf_file in rdf_files[1:]: #loop over the various files in the rdf_data folder\n",
    "        eta = rdf_file[-11:-4]\n",
    "        rdf_data_2 = pd.read_csv(filepath_or_buffer = rdf_directory + rdf_file, header = None, names = [\"r\", float(eta)])[float(eta)]\n",
    "        rdf_data = pd.concat([rdf_data, rdf_data_2], axis=1)   \n",
    "    \n",
    "    rdf_data = rdf_data.reindex_axis(sorted(rdf_data.columns), axis=1) #make sure columns go in ascending order of volume fraction\n",
    "        \n",
    "    return rdf_data"
   ]
  },
  {
   "cell_type": "markdown",
   "metadata": {},
   "source": [
    "###Function to create an RDF at a specified volume fraction\n",
    "This works by linearly interpolating between the two nearest stored volume fractions.\n",
    "\n",
    "---"
   ]
  },
  {
   "cell_type": "code",
   "execution_count": 5,
   "metadata": {
    "collapsed": false
   },
   "outputs": [],
   "source": [
    "#takes as input the desired volume fraction and the gr data in dataframe format\n",
    "#and linearly interpolates between the two nearest stored volume fractions\n",
    "@memoized\n",
    "def calculate_rdf(eta, d):\n",
    "    rdf = pd.DataFrame()\n",
    "    \n",
    "    eta_inc = rdf_data.columns[1] #store the eta increment\n",
    "    eta_max = rdf_data.columns[-2] #store the maximum eta to check if overstepped\n",
    "    upper_index = int(eta / eta_inc) + 1 #for storing the nearest low and high volume fractions\n",
    "    lower_index = int(eta / eta_inc)\n",
    "    \n",
    "    if eta >= eta_max:\n",
    "        print \"error: eta is too large to calculate!\"\n",
    "        return rdf\n",
    "    try:\n",
    "        eta_upper = rdf_data.columns[upper_index] #grab the lower and upper packing fractions for interpolation\n",
    "        eta_lower = rdf_data.columns[lower_index]\n",
    "    except:\n",
    "        print \"error: something went wrong with rdf calculation!\"\n",
    "        return rdf\n",
    "    \n",
    "    #create the interpolated rdf\n",
    "    rdf[\"gr\"] = ((eta_upper - eta)/(eta_upper - eta_lower))*rdf_data[eta_lower] + ((eta - eta_lower)/(eta_upper - eta_lower))*rdf_data[eta_upper]\n",
    "    rdf[\"r\"] = d*rdf_data[\"r\"]\n",
    "    return rdf"
   ]
  },
  {
   "cell_type": "markdown",
   "metadata": {},
   "source": [
    "###Load RDF data into memory\n",
    "The loaded RDF data will be used as a **global** variable to avoid having to copy things around from one function to another. All RDF's are normalized to use a core diameter of unit length which is then easily converted (by rescaling r) to another of different size when generating the desired interpolated RDF.\n",
    "\n",
    "---"
   ]
  },
  {
   "cell_type": "markdown",
   "metadata": {},
   "source": [
    "**Global structure variable**"
   ]
  },
  {
   "cell_type": "code",
   "execution_count": 6,
   "metadata": {
    "collapsed": false
   },
   "outputs": [],
   "source": [
    "rdf_data = load_hs_rdf_data(\"data/hs_structure/\")"
   ]
  },
  {
   "cell_type": "markdown",
   "metadata": {},
   "source": [
    "Example calculation of an RDF follows as:"
   ]
  },
  {
   "cell_type": "code",
   "execution_count": 11,
   "metadata": {
    "collapsed": false
   },
   "outputs": [
    {
     "name": "stdout",
     "output_type": "stream",
     "text": [
      "         gr     r\n",
      "0  2.741410  6.00\n",
      "1  2.697945  6.03\n",
      "2  2.655185  6.06\n",
      "3  2.613303  6.09\n",
      "4  2.572280  6.12\n"
     ]
    }
   ],
   "source": [
    "rdf = calculate_rdf(0.332, 6.0)\n",
    "if not rdf.empty:\n",
    "    print rdf.head()"
   ]
  },
  {
   "cell_type": "code",
   "execution_count": 12,
   "metadata": {
    "collapsed": false
   },
   "outputs": [
    {
     "name": "stdout",
     "output_type": "stream",
     "text": [
      "error: eta is too large to calculate!\n"
     ]
    }
   ],
   "source": [
    "rdf = calculate_rdf(0.61, 2.0)\n",
    "if not rdf.empty:\n",
    "    print rdf.head()"
   ]
  },
  {
   "cell_type": "markdown",
   "metadata": {},
   "source": [
    "###Calculates ideal free energy contribution\n",
    "This is comprised of the large colloids (or polyions), the polymer and the two monovalent ions. The form I use below is technically incorrect as the density has dimensions and I apply a log to it. This is irrelevant though as any arbitrary constant volume multiplicative factor can be introduced in the log without penalty. Upon taking a derivative with repect to density, one would find this term cancels itself. This is the same as saying the free energy is totally arbitrary to within a constant additive factor\n",
    "\n",
    "---"
   ]
  },
  {
   "cell_type": "code",
   "execution_count": 13,
   "metadata": {
    "collapsed": true
   },
   "outputs": [],
   "source": [
    "def calculate_f_id(p_c, p_p, p_pos, p_neg, d_c, d_p):\n",
    "    \n",
    "    #just creating an arbitrary length scale to non-dimensionalize the log term\n",
    "    vol = (d_c/2.0 + d_p/2.0)**3.0\n",
    "    p = p_c + p_p + p_pos + p_neg\n",
    "    \n",
    "    #ideal contribution containing both mixing and translational entropy\n",
    "    fid = p_c*log(p_c*vol) + p_p*log(p_p*vol) + p_pos*log(p_pos*vol) + p_neg*log(p_neg*vol) - p\n",
    "    \n",
    "    return fid"
   ]
  },
  {
   "cell_type": "markdown",
   "metadata": {},
   "source": [
    "###Calculates perturbative polyion-polyion DLVO free energy contribution\n",
    "I use an approximation due to Hamad which says the non-additive RDF contact values can be determined from a purely hard sphere contact value at a rescaled volume fraction. I go beyond this and extend this argument to say the whole RDF can be approximated as this is needed for the repulsive DLVO pair contribution to the free energy.\n",
    "\n",
    "---"
   ]
  },
  {
   "cell_type": "code",
   "execution_count": 14,
   "metadata": {
    "collapsed": false
   },
   "outputs": [],
   "source": [
    "def cc_perturb_integral(p_c, #state variables (removed p_p)\n",
    "                        n_c, k, #redundant state variables already calculated in calling function\n",
    "                        l, Z_c, d_c, d_p #system parameters\n",
    "                        ):\n",
    "    \n",
    "    #effective charge parameter to be used in calculating the DLVO colloid-colloid pair interaction\n",
    "    Z_eff = Z_c*(exp(k*(d_c/2.0))/(1.0 + k*(d_c/2.0)))\n",
    "    \n",
    "    #calculate the AO rdf according to Hamad with extension to the whole RDF (Hamad only used for contact value)\n",
    "    #w_cc = calculate_n_scale(\"cc\", p_c, p_p, d_c, d_p)\n",
    "    #rdf = calculate_rdf(w_cc*n_c, d_c)\n",
    "    rdf = calculate_rdf(n_c, d_c)\n",
    "    \n",
    "    #calculate the integral\n",
    "    #the rdf only contains data outside the core region\n",
    "    dr = rdf[\"r\"][1] - rdf[\"r\"][0]\n",
    "    integral = 0.0\n",
    "    for index in rdf.index.values[:-1]:\n",
    "        r_1 = rdf[\"r\"][index]\n",
    "        r_2 = rdf[\"r\"][index + 1]\n",
    "        gr_1 = rdf[\"gr\"][index]\n",
    "        gr_2 = rdf[\"gr\"][index + 1]\n",
    "        Bur_1 = (Z_eff**2.0)*l*(exp(-k*r_1)/r_1)\n",
    "        Bur_2 = (Z_eff**2.0)*l*(exp(-k*r_2)/r_2)\n",
    "        fr_1 = exp(-Bur_1) - 1.0\n",
    "        fr_2 = exp(-Bur_2) - 1.0\n",
    "        integral = integral + (1.0/2.0)*dr*((r_1**2.0)*gr_1*fr_1 + (r_2**2.0)*gr_2*fr_2)\n",
    "        \n",
    "    return integral\n",
    "\n",
    "#############################################################################################\n",
    "\n",
    "@memoized\n",
    "def calculate_f_ex_dlvo(p_c, p_pos, p_neg, #state variables\n",
    "                        l, Z_c, d_c, d_p #system parameters\n",
    "                        ):\n",
    "    \n",
    "    #calculate various other parameters that make the below expression a little cleaner\n",
    "    #ion variables\n",
    "    p_ions = p_pos + p_neg\n",
    "    s = (2.0*p_pos*p_neg)/p_ions\n",
    "    k = sqrt(4.0*pi*l*p_ions)\n",
    "    #colloid variables\n",
    "    n_c = (pi/6.0)*(d_c**3.0)*p_c\n",
    "        \n",
    "    #breaking up the various contributions for simplicity\n",
    "    f_ex_dlvo_ion_coord = -(p_c*(Z_c**2.0)*(l/d_c))*((k*(d_c/2.0))/(1.0 + k*(d_c/2.0)))\n",
    "    f_ex_dlvo_exc_vol = (n_c*s)/(1.0-n_c)\n",
    "    f_ex_dlvo_neg_mean_field = -(1.0/2.0)*((4.0*pi*l*((p_c*Z_c)**2.0))/(k**2.0))\n",
    "    f_ex_dlvo_pair_perturb = -2.0*pi*(p_c**2.0)*cc_perturb_integral(p_c, n_c, k, l, Z_c, d_c, d_p)\n",
    "    \n",
    "    #total DLVO contribution to the free energy\n",
    "    f_ex_dlvo = f_ex_dlvo_ion_coord + f_ex_dlvo_exc_vol + f_ex_dlvo_neg_mean_field + f_ex_dlvo_pair_perturb\n",
    "    \n",
    "    return f_ex_dlvo"
   ]
  },
  {
   "cell_type": "markdown",
   "metadata": {},
   "source": [
    "###Calculates the perturbative polyion-polymer adsorption free energy contribution\n",
    "This uses a perturbative inclusion of short range attractions between the polyions and polymers. These attractions can be throught of as including both VDW and dipole-ion interactions\n",
    "\n",
    "---"
   ]
  },
  {
   "cell_type": "code",
   "execution_count": 15,
   "metadata": {
    "collapsed": true
   },
   "outputs": [],
   "source": [
    "def calculate_f_ex_int(p_c, p_p, #state variables\n",
    "                        d_c, d_p, R_cp, BA, #system parameters\n",
    "                        ):\n",
    "    \n",
    "    #transform to some helpful variables\n",
    "    n_c = (pi/6.0)*(d_c**3.0)*p_c\n",
    "    \n",
    "    #calculate the AO rdf according to Hamad with extension to the whole RDF (Hamad only used for contact value)\n",
    "    #w_cp = calculate_n_scale(\"cp\", p_c, p_p, d_c, d_p)\n",
    "    #g_contact = calculate_rdf(w_cp*n_c, (d_c/2.0 + d_p/2.0))[\"gr\"][0]\n",
    "    g_contact = 1.0/(1.0 - n_c)\n",
    "    \n",
    "    #interfacial free energy contribution\n",
    "    f_ex_int = -4.0*pi*p_c*p_p*R_cp*((d_c/2.0 + d_p/2.0)**2.0)*g_contact*(exp(BA)-1.0)\n",
    "    \n",
    "    return f_ex_int"
   ]
  },
  {
   "cell_type": "markdown",
   "metadata": {
    "collapsed": true
   },
   "source": [
    "###Calculates the excess contribution of the non-addittive AO model to the free energy\n",
    "This uses the approximate equation of state of Woodward et al. I use this as apposed to the Santos theory as it is simpler and yields similar results to the free volume form which agrees well with Santos.\n",
    "\n",
    "---"
   ]
  },
  {
   "cell_type": "code",
   "execution_count": 16,
   "metadata": {
    "collapsed": true
   },
   "outputs": [],
   "source": [
    "def calculate_f_ex_ao(p_c, p_p, #state variables\n",
    "                      d_c, d_p #system parameters\n",
    "                      ):\n",
    "    \n",
    "    #calculate volume fraction\n",
    "    n_c = (pi/6.0)*(d_c**3.0)*p_c\n",
    "    \n",
    "    #ratio\n",
    "    q = d_p/d_c\n",
    "    \n",
    "    #some parameters\n",
    "    A = 3.0*q + 3.0*(q**2.0) + q**3.0\n",
    "    B = (9.0/2.0)*(q**2.0) + 3.0*(q**3.0)\n",
    "    C = 3.0*(q**3.0)\n",
    "    w = -log(1.0 - n_c) + A*(n_c/(1.0 - n_c)) + B*((n_c/(1.0 - n_c))**2.0) + C*((n_c/(1.0 - n_c))**3.0)\n",
    "    \n",
    "    #free volume theory free energy\n",
    "    f_ex_hs_ref = p_c*(-3.0 + 2.0/(1.0 - n_c) + 1.0/((1.0 - n_c)**2.0)) \n",
    "    f_ex_fv_pert = p_p*w\n",
    "    \n",
    "    #total free energy\n",
    "    f_ex_ao = f_ex_hs_ref + f_ex_fv_pert\n",
    "    \n",
    "    return f_ex_ao   "
   ]
  },
  {
   "cell_type": "markdown",
   "metadata": {
    "collapsed": false
   },
   "source": [
    "###Calculates the total free energy of the colloid-polymer-ion system\n",
    "This just calls the four separate free energy functions and adds them all up. \n",
    "\n",
    "Up to this point I have treated the colloid and ions all as separate entities. Formally this is fine but electroneutrality ultimately sets a linear constraint on what combinations of the three charges species are possible. For this I first assume that the charge on the colloid is positive (as it is in the experimental system) which means the density of positive ions is the density of the added salt in this simple system. Thus, when performing phase coexistence calculations the phases can be expressed as the amount of colloid, polymer and extra salt.\n",
    "\n",
    "---"
   ]
  },
  {
   "cell_type": "code",
   "execution_count": 17,
   "metadata": {
    "collapsed": false
   },
   "outputs": [],
   "source": [
    "def calculate_f_explicit_ions(p_c, p_p, p_pos, p_neg, #state variables\n",
    "               d_c, d_p, #particle sizes\n",
    "               l, Z_c, #ionic solution parameters\n",
    "               R_cp, BA #interfacial attraction parameters\n",
    "               ):\n",
    "    \n",
    "    #ideal\n",
    "    f_id = calculate_f_id(p_c, p_p, p_pos, p_neg, d_c, d_p)\n",
    "    #excess dlvo\n",
    "    f_ex_dlvo = calculate_f_ex_dlvo(p_c, p_pos, p_neg, l, Z_c, d_c, d_p) \n",
    "    #excess c-p interfacial\n",
    "    f_ex_int = calculate_f_ex_int(p_c, p_p, d_c, d_p, R_cp, BA)\n",
    "    #excess ao\n",
    "    f_ex_ao = calculate_f_ex_ao(p_c, p_p, d_c, d_p)\n",
    "    #the whole thing\n",
    "    f = f_id + f_ex_dlvo + f_ex_int + f_ex_ao\n",
    "    \n",
    "    return f"
   ]
  },
  {
   "cell_type": "markdown",
   "metadata": {
    "collapsed": true
   },
   "source": [
    "This is an alternative form that expresses the free energy in terms of densities alone by simply referencing the other form--this makes the stability calculation easier to work with."
   ]
  },
  {
   "cell_type": "code",
   "execution_count": 18,
   "metadata": {
    "collapsed": false
   },
   "outputs": [],
   "source": [
    "def calculate_f(p_c, p_p, p_s, #state variables\n",
    "               d_c, d_p, #particle sizes\n",
    "               l, Z_c, #ionic solution parameters\n",
    "               R_cp, BA, #interfacial attraction parameters\n",
    "               ):\n",
    "    \n",
    "    #calculate the various densities based on specifying the salt density and the colloid and polymer\n",
    "    if Z_c > 0.0:\n",
    "        p_pos = p_s\n",
    "        p_neg = p_pos + Z_c*p_c #charge neutrality condition\n",
    "    else:\n",
    "        p_neg = p_s\n",
    "        p_pos = p_neg - Z_c*p_c #charge neutrality condition\n",
    "    \n",
    "    #sum up the contributions\n",
    "    f = calculate_f_explicit_ions(p_c, p_p, p_pos, p_neg, d_c, d_p, l, Z_c, R_cp, BA)\n",
    "\n",
    "    return (f, f/(p_c + p_p + p_neg + p_pos))"
   ]
  },
  {
   "cell_type": "markdown",
   "metadata": {
    "collapsed": true
   },
   "source": [
    "###Function for calculating the stability matrix and its determinant\n",
    "This calculates the determinant of the 3x3 stability matrix for use in finding homogenous phase spinodal limits. The matrix is only 3x3 despite the 4 components due to charge neutrality. The particular choice I make for the matrix is the 3x3 of chemical potential derivatives with respect to the colloid, polymer and salt particle numbers. Also, the **free energy is per V** (not N) as this simplifies the matrix elements.\n",
    "\n",
    "---"
   ]
  },
  {
   "cell_type": "code",
   "execution_count": 83,
   "metadata": {
    "collapsed": false
   },
   "outputs": [],
   "source": [
    "def calculate_stability_determinant(p_c, p_p, p_s, #state variables\n",
    "                                    d_c, d_p, #particle sizes\n",
    "                                    l, Z_c, #ionic solution parameters \n",
    "                                    R_cp, BA, #interfacial attraction parameters\n",
    "                                    min_step #minimum step to use for hessian calculation\n",
    "                                   ):\n",
    "    \n",
    "    #calculate the hessian matrix\n",
    "    hess_steps = nd.MinStepGenerator(base_step=min_step, step_ratio=2.0, num_steps = 2)\n",
    "    calculate_hessian = lambda x: calculate_f(x[0], x[1], x[2], d_c, d_p, l, Z_c, R_cp, BA)[0]\n",
    "    stability_matrix = nd.Hessian(calculate_hessian, step = hess_steps)([p_c, p_p, p_s])\n",
    "    \n",
    "    #build the 3x3 stability matrix as a numpy array and calculate the determinant \n",
    "    #logdet is used to avoid issues with a small determinant (such as when an instability is reached)\n",
    "    (sign, logdet) = slogdet(stability_matrix)\n",
    "    stability_determinant = sign*exp(logdet)    \n",
    "        \n",
    "    #return the stability determinant\n",
    "    return (stability_matrix, stability_determinant)"
   ]
  },
  {
   "cell_type": "markdown",
   "metadata": {},
   "source": [
    "**Test to see if stability calculation is even working**"
   ]
  },
  {
   "cell_type": "code",
   "execution_count": 84,
   "metadata": {
    "collapsed": false
   },
   "outputs": [
    {
     "name": "stdout",
     "output_type": "stream",
     "text": [
      "0.0477464829276\n",
      "63.6619772368\n",
      "0.9\n",
      "(array([[  1.24951117e+02,   1.21014058e+00,   1.95859299e+01],\n",
      "       [  1.21014058e+00,   1.57079742e-02,   0.00000000e+00],\n",
      "       [  1.95859299e+01,   0.00000000e+00,   2.25887316e+02]]), 106.53138391624279)\n",
      "0.0477464829276\n",
      "70.7355302631\n",
      "1.0\n",
      "(array([[  1.34217579e+02,   1.21014056e+00,   1.95859299e+01],\n",
      "       [  1.21014056e+00,   1.41371643e-02,   0.00000000e+00],\n",
      "       [  1.95859299e+01,   0.00000000e+00,   2.25887316e+02]]), 92.38963486503944)\n",
      "0.0477464829276\n",
      "77.8090832894\n",
      "1.1\n",
      "(array([[  1.43484040e+02,   1.21014056e+00,   1.95859299e+01],\n",
      "       [  1.21014056e+00,   1.28519719e-02,   0.00000000e+00],\n",
      "       [  1.95859299e+01,   0.00000000e+00,   2.25887316e+02]]), 80.819560523413529)\n",
      "0.0477464829276\n",
      "84.8826363157\n",
      "1.2\n",
      "(array([[  1.52750502e+02,   1.21014058e+00,   1.95859299e+01],\n",
      "       [  1.21014058e+00,   1.17809869e-02,   1.18423789e-09],\n",
      "       [  1.95859299e+01,   1.18423789e-09,   2.25887316e+02]]), 71.178135785269689)\n",
      "0.0477464829276\n",
      "91.956189342\n",
      "1.3\n",
      "(array([[  1.62016963e+02,   1.21014058e+00,   1.95859299e+01],\n",
      "       [  1.21014058e+00,   1.08747062e-02,   1.18423789e-09],\n",
      "       [  1.95859299e+01,   1.18423789e-09,   2.25887316e+02]]), 63.017796561797248)\n",
      "0.0477464829276\n",
      "99.0297423683\n",
      "1.4\n",
      "(array([[  1.71283425e+02,   1.21014058e+00,   1.95859299e+01],\n",
      "       [  1.21014058e+00,   1.00979864e-02,   5.92118946e-10],\n",
      "       [  1.95859299e+01,   5.92118946e-10,   2.25887316e+02]]), 56.026552204010507)\n",
      "0.0477464829276\n",
      "106.103295395\n",
      "1.5\n",
      "(array([[  1.80549886e+02,   1.21014059e+00,   1.95859299e+01],\n",
      "       [  1.21014059e+00,   9.42476438e-03,   2.01320442e-08],\n",
      "       [  1.95859299e+01,   2.01320442e-08,   2.25887316e+02]]), 49.96502453600268)\n",
      "0.0477464829276\n",
      "113.176848421\n",
      "1.6\n",
      "(array([[  1.89816348e+02,   1.21014057e+00,   1.95859299e+01],\n",
      "       [  1.21014057e+00,   8.83567234e-03,   1.18423789e-09],\n",
      "       [  1.95859299e+01,   1.18423789e-09,   2.25887316e+02]]), 44.660145859312685)\n",
      "0.0477464829276\n",
      "120.250401447\n",
      "1.7\n",
      "(array([[  1.99082809e+02,   1.21014057e+00,   1.95859299e+01],\n",
      "       [  1.21014057e+00,   8.31592454e-03,  -1.18423789e-09],\n",
      "       [  1.95859299e+01,  -1.18423789e-09,   2.25887316e+02]]), 39.980938253197998)\n",
      "0.0477464829276\n",
      "127.323954474\n",
      "1.8\n",
      "(array([[  2.08349271e+02,   1.21014057e+00,   1.95859299e+01],\n",
      "       [  1.21014057e+00,   7.85398531e-03,   0.00000000e+00],\n",
      "       [  1.95859299e+01,   0.00000000e+00,   2.25887316e+02]]), 35.824380323642998)\n",
      "0.0477464829276\n",
      "134.3975075\n",
      "1.9\n",
      "(array([[  2.17615732e+02,   1.21014055e+00,   1.95859299e+01],\n",
      "       [  1.21014055e+00,   7.44063774e-03,   1.89478063e-08],\n",
      "       [  1.95859299e+01,   1.89478063e-08,   2.25887316e+02]]), 32.103954265203718)\n",
      "0.0477464829276\n",
      "141.471060526\n",
      "2.0\n",
      "(array([[  2.26882194e+02,   1.21014057e+00,   1.95859300e+01],\n",
      "       [  1.21014057e+00,   7.06861295e-03,   1.89478063e-08],\n",
      "       [  1.95859300e+01,   1.89478063e-08,   2.25887317e+02]]), 28.75502116405405)\n",
      "0.0477464829276\n",
      "148.544613552\n",
      "2.1\n",
      "(array([[  2.36148655e+02,   1.21014055e+00,   1.95859299e+01],\n",
      "       [  1.21014055e+00,   6.73201465e-03,  -1.89478063e-08],\n",
      "       [  1.95859299e+01,  -1.89478063e-08,   2.25887317e+02]]), 25.724845627399244)\n",
      "0.0477464829276\n",
      "155.618166579\n",
      "2.2\n",
      "(array([[  2.45415117e+02,   1.21014059e+00,   1.95859300e+01],\n",
      "       [  1.21014059e+00,   6.42599337e-03,   1.89478063e-08],\n",
      "       [  1.95859300e+01,   1.89478063e-08,   2.25887317e+02]]), 22.968865939759553)\n",
      "0.0477464829276\n",
      "162.691719605\n",
      "2.3\n",
      "(array([[  2.54681579e+02,   1.21014053e+00,   1.95859299e+01],\n",
      "       [  1.21014053e+00,   6.14657244e-03,  -1.89478063e-08],\n",
      "       [  1.95859299e+01,  -1.89478063e-08,   2.25887317e+02]]), 20.451918850020338)\n",
      "0.0477464829276\n",
      "169.765272631\n",
      "2.4\n",
      "(array([[  2.63948040e+02,   1.21014056e+00,   1.95859299e+01],\n",
      "       [  1.21014056e+00,   5.89043007e-03,  -1.89478063e-08],\n",
      "       [  1.95859299e+01,  -1.89478063e-08,   2.25887316e+02]]), 18.144172219290443)\n",
      "0.0477464829276\n",
      "176.838825658\n",
      "2.5\n",
      "(array([[  2.73214502e+02,   1.21014054e+00,   1.95859299e+01],\n",
      "       [  1.21014054e+00,   5.65490884e-03,  -3.78956126e-08],\n",
      "       [  1.95859299e+01,  -3.78956126e-08,   2.25887316e+02]]), 16.028881862074272)\n",
      "0.0477464829276\n",
      "183.912378684\n",
      "2.6\n",
      "(array([[  2.82480963e+02,   1.21014057e+00,   1.95859299e+01],\n",
      "       [  1.21014057e+00,   5.43731934e-03,  -3.78956126e-08],\n",
      "       [  1.95859299e+01,  -3.78956126e-08,   2.25887316e+02]]), 14.064910855197587)\n",
      "0.0477464829276\n",
      "190.98593171\n",
      "2.7\n",
      "(array([[  2.91747425e+02,   1.21014061e+00,   1.95859300e+01],\n",
      "       [  1.21014061e+00,   5.23602495e-03,   3.78956126e-08],\n",
      "       [  1.95859300e+01,   3.78956126e-08,   2.25887316e+02]]), 12.257668989929504)\n",
      "0.0477464829276\n",
      "198.059484737\n",
      "2.8\n",
      "(array([[  3.01013886e+02,   1.21014053e+00,   1.95859299e+01],\n",
      "       [  1.21014053e+00,   5.04900773e-03,   2.36847579e-09],\n",
      "       [  1.95859299e+01,   2.36847579e-09,   2.25887316e+02]]), 10.573097270598328)\n",
      "0.0477464829276\n",
      "205.133037763\n",
      "2.9\n",
      "(array([[  3.10280348e+02,   1.21014065e+00,   1.95859300e+01],\n",
      "       [  1.21014065e+00,   4.87489397e-03,   0.00000000e+00],\n",
      "       [  1.95859300e+01,   0.00000000e+00,   2.25887316e+02]]), 9.0049336374255695)\n",
      "0.0477464829276\n",
      "212.206590789\n",
      "3.0\n",
      "(array([[  3.19546809e+02,   1.21014058e+00,   1.95859299e+01],\n",
      "       [  1.21014058e+00,   4.71233363e-03,  -3.78956126e-08],\n",
      "       [  1.95859299e+01,  -3.78956126e-08,   2.25887316e+02]]), 7.5374813822473481)\n"
     ]
    }
   ],
   "source": [
    "d_c = 1.0 #1.0\n",
    "d_p = 0.3 #0.3\n",
    "R_cp = 0.01 #0.05\n",
    "l = 1.0\n",
    "Z_c = 1.0\n",
    "BA = 0.00000001\n",
    "\n",
    "#colloid and polymer\n",
    "n_c = 0.025\n",
    "p_c = 6.0*n_c/(pi*d_c*d_c*d_c)\n",
    "\n",
    "#salt\n",
    "p_s = 0.1*p_c\n",
    "\n",
    "n_p_inc = 0.1\n",
    "n_p_min = 1.0 #2.1\n",
    "n_p_max = 3.0 #2.5\n",
    "n_p_data_2 = []\n",
    "det_data_2 = []\n",
    "#det_data_3 = []\n",
    "#det_data_4 = []\n",
    "min_step= 0.001 #0.001\n",
    "for k in range(int(n_p_min/n_p_inc) - 1, int(n_p_max/n_p_inc) + 1):\n",
    "    n_p = n_p_inc*k\n",
    "    p_p = 6.0*n_p/(pi*d_p*d_p*d_p)\n",
    "    \n",
    "    print p_c\n",
    "    print p_p\n",
    "    \n",
    "    determinant = calculate_stability_determinant(p_c, p_p, p_s, d_c, d_p, l, Z_c, R_cp, BA, min_step)\n",
    "    #determinant2 = calculate_stability_determinant_ao_pure(p_c, p_p, d_c, d_p, min_step)\n",
    "\n",
    "    \n",
    "    print n_p\n",
    "    print determinant\n",
    "    n_p_data_2.append(n_p)\n",
    "    det_data_2.append(determinant[1])\n",
    "    #det_data_3.append(determinant[1])\n",
    "    #det_data_4.append(determinant[1])\n"
   ]
  },
  {
   "cell_type": "code",
   "execution_count": 85,
   "metadata": {
    "collapsed": false
   },
   "outputs": [
    {
     "data": {
      "text/plain": [
       "[<matplotlib.lines.Line2D at 0x20f4c4a8>]"
      ]
     },
     "execution_count": 85,
     "metadata": {},
     "output_type": "execute_result"
    },
    {
     "data": {
      "image/png": "[encoded data removed]",
      "text/plain": [
       "<matplotlib.figure.Figure at 0x20e61518>"
      ]
     },
     "metadata": {},
     "output_type": "display_data"
    }
   ],
   "source": [
    "#plt.plot(n_p_data, det_data, 'ro')\n",
    "plt.plot(n_p_data_2, det_data_2, 'ro')\n",
    "#plt.plot(n_p_data_2, det_data_3, 'go')\n",
    "#plt.plot(n_p_data_2, det_data_4, 'bo')\n",
    "#plt.plot(0.04954419342053111, 0, 'o')\n",
    "#plt.ylim((-60,60))\n",
    "#plt.xlim((0.043,0.045))"
   ]
  },
  {
   "cell_type": "markdown",
   "metadata": {},
   "source": [
    "###Spinodal calculation from stability matrix\n",
    "This is a grid search that identifies points as being stable or unstable. Both types are passed back in separate arrays that can be plotted together to get a coarse grained view of the underlying phase behavior.\n",
    "\n",
    "---"
   ]
  },
  {
   "cell_type": "code",
   "execution_count": 90,
   "metadata": {
    "collapsed": true
   },
   "outputs": [],
   "source": [
    "def calculate_spinodal(p_c_low, p_c_hi, p_c_inc, p_p_low, p_p_hi, p_p_inc, #state variables for grid search\n",
    "                    p_s, #state variables held fixed\n",
    "                    d_c, d_p, #particle sizes\n",
    "                    l, Z_c, #ionic solution parameters \n",
    "                    R_cp, BA, #interfacial attraction parameters\n",
    "                    min_step #minimum step to use for hessian calculation\n",
    "                    ):\n",
    "    \n",
    "    #lists for storing the grid points classified as stable and unstable \n",
    "    stable = [[],[],[]]\n",
    "    unstable = [[],[],[]]\n",
    "    \n",
    "    #sample the grid points\n",
    "    p_c = p_c_low\n",
    "    while p_c < p_c_hi:\n",
    "        p_p = p_p_low\n",
    "        while p_p < p_p_hi:\n",
    "            determinant = calculate_stability_determinant(p_c, p_p, p_s, d_c, d_p, l, Z_c, R_cp, BA, min_step)[1]\n",
    "            if determinant < 0.0:\n",
    "                unstable[0].append(p_c)\n",
    "                unstable[1].append(p_p)\n",
    "                unstable[2].append(p_p/p_c)\n",
    "            else:\n",
    "                stable[0].append(p_c)\n",
    "                stable[1].append(p_p)\n",
    "                stable[2].append(p_p/p_c)\n",
    "            p_p = p_p + p_p_inc\n",
    "            #print p_p\n",
    "        p_c = p_c + p_c_inc\n",
    "        #print p_c\n",
    "    \n",
    "    return (stable, unstable)"
   ]
  },
  {
   "cell_type": "markdown",
   "metadata": {
    "collapsed": true
   },
   "source": [
    "**Set parameters and calculate the phase diagram**"
   ]
  },
  {
   "cell_type": "code",
   "execution_count": 108,
   "metadata": {
    "collapsed": false
   },
   "outputs": [],
   "source": [
    "#actual experimental parameters (with dimensions of nm)\n",
    "#d_c_exp = 6.6\n",
    "#d_p_exp = 2.2\n",
    "#l_exp = 1.56\n",
    "\n",
    "#parameters\n",
    "d_c = 1.0\n",
    "d_p = 0.33\n",
    "R_cp = 0.01\n",
    "l = 0.2364\n",
    "Z_c = 0.000000001\n",
    "BA = 0.000000001 #1.5 #3.3\n",
    "\n",
    "#colloid\n",
    "n_c_low = 0.005\n",
    "n_c_hi = 0.6\n",
    "n_c_inc = 0.005\n",
    "#polymer\n",
    "n_p_low = 0.01\n",
    "n_p_hi = 10.5\n",
    "n_p_inc = 0.05\n",
    "\n",
    "#recalculate in terms of densities\n",
    "p_c_low = 6.0*n_c_low/(pi*d_c*d_c*d_c)\n",
    "p_c_hi = 6.0*n_c_hi/(pi*d_c*d_c*d_c)\n",
    "p_c_inc = 6.0*n_c_inc/(pi*d_c*d_c*d_c)\n",
    "p_p_low = 6.0*n_p_low/(pi*d_p*d_p*d_p)\n",
    "p_p_hi = 6.0*n_p_hi/(pi*d_p*d_p*d_p)\n",
    "p_p_inc = 6.0*n_p_inc/(pi*d_p*d_p*d_p)\n",
    "\n",
    "#salt\n",
    "p_s = 0.01\n",
    "\n",
    "min_step= 0.001\n",
    "stable, unstable = calculate_spinodal(p_c_low, p_c_hi, p_c_inc, p_p_low, p_p_hi, p_p_inc, p_s, d_c, d_p, l, Z_c, R_cp, BA, min_step)\n",
    "stable_n = []\n",
    "unstable_n = []\n",
    "stable_n.append([((pi/6.0)*d_c*d_c*d_c)*rho for rho in stable[0]])\n",
    "stable_n.append([((pi/6.0)*d_p*d_p*d_p)*rho for rho in stable[1]])\n",
    "unstable_n.append([((pi/6.0)*d_c*d_c*d_c)*rho for rho in unstable[0]])\n",
    "unstable_n.append([((pi/6.0)*d_p*d_p*d_p)*rho for rho in unstable[1]])"
   ]
  },
  {
   "cell_type": "markdown",
   "metadata": {},
   "source": [
    "**Plot the phase diagram**"
   ]
  },
  {
   "cell_type": "code",
   "execution_count": 113,
   "metadata": {
    "collapsed": false
   },
   "outputs": [
    {
     "data": {
      "text/plain": [
       "<matplotlib.text.Text at 0x33db3320>"
      ]
     },
     "execution_count": 113,
     "metadata": {},
     "output_type": "execute_result"
    },
    {
     "data": {
      "image/png": "[encoded data removed]",
      "text/plain": [
       "<matplotlib.figure.Figure at 0x33c48ac8>"
      ]
     },
     "metadata": {},
     "output_type": "display_data"
    }
   ],
   "source": [
    "#font scpecifications\n",
    "title_font = {'family' : 'arial', 'color'  : 'black', 'weight' : 'heavy','size': 20}\n",
    "axis_label_font = {'family' : 'arial', 'color'  : 'black', 'weight' : 'normal','size': 20}\n",
    "\n",
    "#figure size and tick style\n",
    "plt.rcParams[\"figure.figsize\"] = [6,6]\n",
    "plt.rc('axes',edgecolor='black',linewidth=1)\n",
    "plt.tick_params(which='both', axis='both', color='black', length=4, width=0.5)\n",
    "plt.rcParams['xtick.direction'] = 'in'\n",
    "plt.rcParams['ytick.direction'] = 'in'\n",
    "\n",
    "\n",
    "plt.xlabel('Colloid volume fraction', fontsize=20, fontdict = axis_label_font)\n",
    "plt.ylabel('Polymer volume fraction', fontsize=20, fontdict = axis_label_font)\n",
    "plt.scatter(stable_n[0], stable_n[1], c=\"b\", marker=\"s\", s=40, alpha=0.3, linewidths=0.0)\n",
    "plt.scatter(unstable_n[0],unstable_n[1], c=\"g\", marker=\"s\", s=40, alpha=0.8, linewidths=0.0)\n",
    "plt.ylim((0,4))\n",
    "plt.xlim((0,0.3))\n",
    "\n",
    "#title and axis labels\n",
    "plt.tick_params(axis='both', labelsize=20)\n",
    "plt.title(\"Stability phase diagram\", y=1.05, fontdict = title_font)\n"
   ]
  },
  {
   "cell_type": "code",
   "execution_count": 114,
   "metadata": {
    "collapsed": false
   },
   "outputs": [
    {
     "data": {
      "text/plain": [
       "<matplotlib.text.Text at 0x33f0d390>"
      ]
     },
     "execution_count": 114,
     "metadata": {},
     "output_type": "execute_result"
    },
    {
     "data": {
      "image/png": "[encoded data removed]",
      "text/plain": [
       "<matplotlib.figure.Figure at 0x340d3860>"
      ]
     },
     "metadata": {},
     "output_type": "display_data"
    }
   ],
   "source": [
    "#font scpecifications\n",
    "title_font = {'family' : 'arial', 'color'  : 'black', 'weight' : 'heavy','size': 20}\n",
    "axis_label_font = {'family' : 'arial', 'color'  : 'black', 'weight' : 'normal','size': 20}\n",
    "\n",
    "#figure size and tick style\n",
    "plt.rcParams[\"figure.figsize\"] = [6,6]\n",
    "plt.rc('axes',edgecolor='black',linewidth=1)\n",
    "plt.tick_params(which='both', axis='both', color='black', length=4, width=0.5)\n",
    "plt.rcParams['xtick.direction'] = 'in'\n",
    "plt.rcParams['ytick.direction'] = 'in'\n",
    "\n",
    "\n",
    "plt.xlabel('Colloid volume fraction', fontsize=20, fontdict = axis_label_font)\n",
    "plt.ylabel('Polymer / Colloid', fontsize=20, fontdict = axis_label_font)\n",
    "plt.scatter(stable_n[0], stable[2], c=\"b\", marker=\"s\", s=90, alpha=0.3, linewidths=0.0)\n",
    "plt.scatter(unstable_n[0],unstable[2], c=\"g\", marker=\"s\", s=90, alpha=0.8, linewidths=0.0)\n",
    "plt.ylim((0,400))\n",
    "plt.xlim((0,0.3))\n",
    "\n",
    "#title and axis labels\n",
    "plt.tick_params(axis='both', labelsize=20)\n",
    "plt.title(\"Stability phase diagram\", y=1.05, fontdict = title_font)"
   ]
  },
  {
   "cell_type": "code",
   "execution_count": null,
   "metadata": {
    "collapsed": true
   },
   "outputs": [],
   "source": []
  },
  {
   "cell_type": "code",
   "execution_count": null,
   "metadata": {
    "collapsed": true
   },
   "outputs": [],
   "source": []
  },
  {
   "cell_type": "code",
   "execution_count": null,
   "metadata": {
    "collapsed": true
   },
   "outputs": [],
   "source": []
  },
  {
   "cell_type": "code",
   "execution_count": null,
   "metadata": {
    "collapsed": true
   },
   "outputs": [],
   "source": []
  },
  {
   "cell_type": "code",
   "execution_count": null,
   "metadata": {
    "collapsed": true
   },
   "outputs": [],
   "source": []
  },
  {
   "cell_type": "code",
   "execution_count": null,
   "metadata": {
    "collapsed": true
   },
   "outputs": [],
   "source": []
  },
  {
   "cell_type": "code",
   "execution_count": null,
   "metadata": {
    "collapsed": true
   },
   "outputs": [],
   "source": []
  },
  {
   "cell_type": "code",
   "execution_count": null,
   "metadata": {
    "collapsed": true
   },
   "outputs": [],
   "source": []
  },
  {
   "cell_type": "markdown",
   "metadata": {},
   "source": [
    "###Extra functions\n",
    "\n",
    "---\n",
    "\n",
    "---\n",
    "\n",
    "---"
   ]
  },
  {
   "cell_type": "markdown",
   "metadata": {},
   "source": [
    "**Sizes**"
   ]
  },
  {
   "cell_type": "code",
   "execution_count": null,
   "metadata": {
    "collapsed": true
   },
   "outputs": [],
   "source": [
    "d_c = 1.0 #diameter of colloid\n",
    "d_p = 0.33 #diameter of the polymer (~2xR_G)"
   ]
  },
  {
   "cell_type": "markdown",
   "metadata": {},
   "source": [
    "**Colloid packing fraction**"
   ]
  },
  {
   "cell_type": "code",
   "execution_count": null,
   "metadata": {
    "collapsed": true
   },
   "outputs": [],
   "source": [
    "n_c = 0.05 #set volume fraction of the colloids"
   ]
  },
  {
   "cell_type": "markdown",
   "metadata": {},
   "source": [
    "**Number of polymers and ions per colloid**"
   ]
  },
  {
   "cell_type": "code",
   "execution_count": null,
   "metadata": {
    "collapsed": true
   },
   "outputs": [],
   "source": [
    "\n",
    "\n",
    "p_c = 6.0*n_c/(pi*d_c*d_c*d_c)\n",
    "p_p = 0.5*p_c\n",
    "p_pos = 10.0*p_c\n",
    "p_neg = 20.0*p_c\n",
    "\n",
    "\n",
    "p = \n",
    "x_c = \n",
    "x_p = \n"
   ]
  },
  {
   "cell_type": "code",
   "execution_count": 10,
   "metadata": {
    "collapsed": false
   },
   "outputs": [
    {
     "name": "stdout",
     "output_type": "stream",
     "text": [
      "hi\n",
      "3\n"
     ]
    }
   ],
   "source": [
    "i=3 \n",
    "\n",
    "def test_func(x):\n",
    "    x = 5\n",
    "    return \"hi\"\n",
    "    \n",
    "print test_func(i)\n",
    "\n",
    "print i"
   ]
  },
  {
   "cell_type": "code",
   "execution_count": 34,
   "metadata": {
    "collapsed": false
   },
   "outputs": [
    {
     "name": "stdout",
     "output_type": "stream",
     "text": [
      "hello\n"
     ]
    }
   ],
   "source": [
    "thingy = \"pp\"\n",
    "if thingy in [\"cc\", \"pp\", \"ss\"]:\n",
    "    print \"hello\"\n"
   ]
  },
  {
   "cell_type": "code",
   "execution_count": null,
   "metadata": {
    "collapsed": true
   },
   "outputs": [],
   "source": []
  },
  {
   "cell_type": "code",
   "execution_count": null,
   "metadata": {
    "collapsed": true
   },
   "outputs": [],
   "source": []
  },
  {
   "cell_type": "code",
   "execution_count": null,
   "metadata": {
    "collapsed": true
   },
   "outputs": [],
   "source": [
    "def calculate_f_ex_int(p, x_c, x_p, #state variables\n",
    "                        d_c, R_G, R_cp, BA, #system parameters\n",
    "                        g_AO #reference structure\n",
    "                        ):\n",
    "    \n",
    "    #some convenient transformations of the various inputs\n",
    "    #n_c = p*x_c*(pi/6.0)*(d_c**3.0)\n",
    "    #n_p = p*x_p*(4.0/3.0)*pi*(R_G**3.0)\n",
    "    #z_cp = ((4.0*R_G)/d_c)/(1.0 + (2.0*R_G)/d_c)\n",
    "    \n",
    "    #AO adjusted contact value\n",
    "    #g_AO = (1.0/(1.0-n_c-n_p)) + (g_HS - 1.0/(1.0-n_c-n_p))*z_cp\n",
    "    \n",
    "    #interfacial free energy contribution\n",
    "    f_ex_int = -4.0*pi*p*x_c*x_p*R_cp*((d_c/2.0 + R_G)**2.0)*g_AO*(exp(BA)-1.0)\n",
    "    \n",
    "    return f_ex_int"
   ]
  },
  {
   "cell_type": "code",
   "execution_count": null,
   "metadata": {
    "collapsed": true
   },
   "outputs": [],
   "source": [
    "def calculate_C(type_1, type_2, type_3)\n",
    "\n",
    "def calculate_B_3(type_1, type_2, type_3, d_c, R_G):\n",
    "    if type_1 == \"c\":\n",
    "        d_1 = d_c\n",
    "\n",
    "\n",
    "def calculate_f_ex_ao(p, x_c, x_p, #state variables\n",
    "                        d_c, R_G #system parameters\n",
    "                      ):\n",
    "    \n",
    "    #the dimensionless 2nd and 3rd hard sphere virial coefficients in 3D\n",
    "    b_2 = 4.0\n",
    "    b_3 = 10.0\n",
    "    \n",
    "    #various c parameters used to calculate the mixture virial coefficients\n",
    "    #colloid terms\n",
    "    C_c_cc = (b_3/b_2)*(d_c**3.0)\n",
    "    C_c_pp = (d_c + 2.0*R_G)**3.0\n",
    "    C_c_cp = (d_c**3.0) + (b_3/b_2 - 1.0)*((4.0*R_G*(d_c**3.0))/(d_c + 2.0*R_G))\n",
    "    #polymer_terms\n",
    "    C_p_cc = ((2.0*R_G)**3.0) + (b_3/b_2 - 1.0)*d_c*((2.0*R_G)**2.0)\n",
    "    C_p_pp = 0.0\n",
    "    C_p_cp = 0.0\n",
    "    \n",
    "    #calculate the various B parameters\n",
    "    \n",
    "    #some convenient transformations of the various inputs\n",
    "    p_c = p*x_c\n",
    "    p_p = p*x_p\n",
    "    X_c = p_c/(p_c + p_p)\n",
    "    X_p = p_p/(p_c + p_p)\n",
    "    n_c = p_c*(pi/6.0)*(d_c**3.0)\n",
    "    n_p = p_p*(4.0/3.0)*pi*(R_G**3.0)\n",
    "    Q = X_c*(d_c**3.0)\n",
    "    \n",
    "    #calculate the reference hard sphere excess free energy\n",
    "    f_ex_hs = calculate_f_ex_hs((n_c + n_p))\n",
    "    \n",
    "    #\n",
    "    f_ex_ao_lower = log(1.0 - n_c - n_p)*((b_3*Q*B_2 - b_2*B_3)/((b_3 - b_2)*(Q**2.0)))\n",
    "    f_ex_ao_upper = f_ex_hs*((B_3 - Q*B_2)/((b_3 - b_2)*(Q**2.0)))"
   ]
  },
  {
   "cell_type": "code",
   "execution_count": null,
   "metadata": {
    "collapsed": true
   },
   "outputs": [],
   "source": [
    "\n",
    "\n",
    "p_c = 6.0*n_c/(pi*d_c*d_c*d_c)\n",
    "p_p = 0.5*p_c\n",
    "p_pos = 10.0*p_c\n",
    "p_neg = 20.0*p_c\n",
    "\n",
    "\n",
    "p = \n",
    "x_c = \n",
    "x_p = \n"
   ]
  },
  {
   "cell_type": "code",
   "execution_count": 39,
   "metadata": {
    "collapsed": false
   },
   "outputs": [
    {
     "data": {
      "text/plain": [
       "True"
      ]
     },
     "execution_count": 39,
     "metadata": {},
     "output_type": "execute_result"
    }
   ],
   "source": [
    "4.0 < [1.0,1.2,1.0]"
   ]
  },
  {
   "cell_type": "code",
   "execution_count": 91,
   "metadata": {
    "collapsed": true
   },
   "outputs": [],
   "source": [
    "nd.Hessian?"
   ]
  },
  {
   "cell_type": "code",
   "execution_count": 102,
   "metadata": {
    "collapsed": false
   },
   "outputs": [],
   "source": [
    "nd.MinStepGenerator?"
   ]
  },
  {
   "cell_type": "code",
   "execution_count": 81,
   "metadata": {
    "collapsed": false
   },
   "outputs": [],
   "source": [
    "nd.MinStepGenerator.base_step=0.00001\n",
    "nd.MinStepGenerator.num_step=2"
   ]
  },
  {
   "cell_type": "code",
   "execution_count": 88,
   "metadata": {
    "collapsed": false
   },
   "outputs": [],
   "source": [
    "nd.core.MinStepGenerator.base_step=0.00001\n",
    "nd.core.MinStepGenerator.num_step=2"
   ]
  },
  {
   "cell_type": "code",
   "execution_count": 87,
   "metadata": {
    "collapsed": false
   },
   "outputs": [
    {
     "ename": "AttributeError",
     "evalue": "type object 'MinStepGenerator' has no attribute 'steps'",
     "output_type": "error",
     "traceback": [
      "\u001b[1;31m---------------------------------------------------------------------------\u001b[0m",
      "\u001b[1;31mAttributeError\u001b[0m                            Traceback (most recent call last)",
      "\u001b[1;32m<ipython-input-87-325f46c8150d>\u001b[0m in \u001b[0;36m<module>\u001b[1;34m()\u001b[0m\n\u001b[1;32m----> 1\u001b[1;33m \u001b[1;32mprint\u001b[0m \u001b[0mnd\u001b[0m\u001b[1;33m.\u001b[0m\u001b[0mMinStepGenerator\u001b[0m\u001b[1;33m.\u001b[0m\u001b[0msteps\u001b[0m\u001b[1;33m\u001b[0m\u001b[0m\n\u001b[0m",
      "\u001b[1;31mAttributeError\u001b[0m: type object 'MinStepGenerator' has no attribute 'steps'"
     ]
    }
   ],
   "source": [
    "print nd.MinStepGenerator.steps"
   ]
  },
  {
   "cell_type": "code",
   "execution_count": 104,
   "metadata": {
    "collapsed": false
   },
   "outputs": [
    {
     "name": "stdout",
     "output_type": "stream",
     "text": [
      "MinStepGenerator(scale=None,use_exact_steps=True,check_num_steps=True,num_steps=None,offset=0,num_extrap=0,step_ratio=2.0,base_step=1e-05)\n",
      "MinStepGenerator(scale=None,use_exact_steps=True,check_num_steps=True,num_steps=None,offset=0,num_extrap=0,step_ratio=2.0,base_step=1e-05)\n"
     ]
    }
   ],
   "source": [
    "hess_steps = nd.MinStepGenerator(base_step=0.00001, step_ratio=2.0)\n",
    "for k in range(2):\n",
    "    print hess_steps"
   ]
  },
  {
   "cell_type": "code",
   "execution_count": null,
   "metadata": {
    "collapsed": true
   },
   "outputs": [],
   "source": [
    "#################################################################################################"
   ]
  },
  {
   "cell_type": "code",
   "execution_count": null,
   "metadata": {
    "collapsed": true
   },
   "outputs": [],
   "source": [
    "def calculate_f_derivatives(element, Dp, p_c, p_p, p_s, d_c, d_p, l, Z_c, R_cp, BA): \n",
    "        \n",
    "    #perform calculations\n",
    "    if element in [\"cc\", \"pp\", \"ss\"]: \n",
    "        if element == \"cc\":\n",
    "            f_bck = calculate_f(p_c - Dp, p_p, p_s, d_c, d_p, l, Z_c, R_cp, BA, \"V\")\n",
    "            f_cen = calculate_f(p_c, p_p, p_s, d_c, d_p, l, Z_c, R_cp, BA, \"V\")\n",
    "            f_frd = calculate_f(p_c + Dp, p_p, p_s, d_c, d_p, l, Z_c, R_cp, BA, \"V\")\n",
    "        elif element == \"pp\":\n",
    "            f_bck = calculate_f(p_c, p_p - Dp, p_s, d_c, d_p, l, Z_c, R_cp, BA, \"V\")\n",
    "            f_cen = calculate_f(p_c, p_p, p_s, d_c, d_p, l, Z_c, R_cp, BA, \"V\")\n",
    "            f_frd = calculate_f(p_c, p_p + Dp, p_s, d_c, d_p, l, Z_c, R_cp, BA, \"V\")\n",
    "        elif element == \"ss\":\n",
    "            f_bck = calculate_f(p_c, p_p, p_s - Dp, d_c, d_p, l, Z_c, R_cp, BA, \"V\")\n",
    "            f_cen = calculate_f(p_c, p_p, p_s, d_c, d_p, l, Z_c, R_cp, BA, \"V\")\n",
    "            f_frd = calculate_f(p_c, p_p, p_s + Dp, d_c, d_p, l, Z_c, R_cp, BA, \"V\")\n",
    "            \n",
    "        d2f_pure = (f_bck - 2.0*f_cen + f_frd) / (Dp**2.0)\n",
    "        return d2f_pure\n",
    "    \n",
    "    elif element in [\"cp\", \"cs\", \"ps\"]:\n",
    "        if element == \"cp\":\n",
    "            f_frd_frd = calculate_f(p_c + Dp, p_p + Dp, p_s, d_c, d_p, l, Z_c, R_cp, BA, \"V\")\n",
    "            f_frd_bck = calculate_f(p_c + Dp, p_p - Dp, p_s, d_c, d_p, l, Z_c, R_cp, BA, \"V\")\n",
    "            f_bck_frd = calculate_f(p_c - Dp, p_p + Dp, p_s, d_c, d_p, l, Z_c, R_cp, BA, \"V\")\n",
    "            f_bck_bck = calculate_f(p_c - Dp, p_p - Dp, p_s, d_c, d_p, l, Z_c, R_cp, BA, \"V\")\n",
    "        elif element == \"cs\":\n",
    "            f_frd_frd = calculate_f(p_c + Dp, p_p, p_s + Dp, d_c, d_p, l, Z_c, R_cp, BA, \"V\")\n",
    "            f_frd_bck = calculate_f(p_c + Dp, p_p, p_s - Dp, d_c, d_p, l, Z_c, R_cp, BA, \"V\")\n",
    "            f_bck_frd = calculate_f(p_c - Dp, p_p, p_s + Dp, d_c, d_p, l, Z_c, R_cp, BA, \"V\")\n",
    "            f_bck_bck = calculate_f(p_c - Dp, p_p, p_s - Dp, d_c, d_p, l, Z_c, R_cp, BA, \"V\")\n",
    "        elif element == \"ps\":\n",
    "            f_frd_frd = calculate_f(p_c, p_p + Dp, p_s + Dp, d_c, d_p, l, Z_c, R_cp, BA, \"V\")\n",
    "            f_frd_bck = calculate_f(p_c, p_p + Dp, p_s - Dp, d_c, d_p, l, Z_c, R_cp, BA, \"V\")\n",
    "            f_bck_frd = calculate_f(p_c, p_p - Dp, p_s + Dp, d_c, d_p, l, Z_c, R_cp, BA, \"V\")\n",
    "            f_bck_bck = calculate_f(p_c, p_p - Dp, p_s - Dp, d_c, d_p, l, Z_c, R_cp, BA, \"V\")\n",
    "            \n",
    "        d2f_mixed = (f_frd_frd - f_frd_bck - f_bck_frd + f_bck_bck) / (4.0*(Dp**2.0))\n",
    "        return d2f_mixed\n",
    "    \n",
    "    else:\n",
    "        raise ValueError('Stability matrix element type not found')    "
   ]
  },
  {
   "cell_type": "code",
   "execution_count": null,
   "metadata": {
    "collapsed": true
   },
   "outputs": [],
   "source": [
    "def calculate_stability_determinant(Dp, p_c, p_p, p_s, #state variables\n",
    "                                    d_c, d_p, #particle sizes\n",
    "                                    l, Z_c, #ionic solution parameters \n",
    "                                    R_cp, BA #interfacial attraction parameters\n",
    "                                   ):\n",
    "    \n",
    "    #check to make sure the numerical derivative is defined\n",
    "    if((Dp < p_c) and (Dp < p_p) and (Dp < p_s)):\n",
    "    \n",
    "        #the six double derivatives (3 same and 3 mixed)\n",
    "            #same\n",
    "        d2f_cc = calculate_f_derivatives(\"cc\", Dp, p_c, p_p, p_s, d_c, d_p, l, Z_c, R_cp, BA)\n",
    "        d2f_pp = calculate_f_derivatives(\"pp\", Dp, p_c, p_p, p_s, d_c, d_p, l, Z_c, R_cp, BA)\n",
    "        d2f_ss = calculate_f_derivatives(\"ss\", Dp, p_c, p_p, p_s, d_c, d_p, l, Z_c, R_cp, BA)\n",
    "            #mixed\n",
    "        d2f_cp = calculate_f_derivatives(\"cp\", Dp, p_c, p_p, p_s, d_c, d_p, l, Z_c, R_cp, BA)\n",
    "        d2f_cs = calculate_f_derivatives(\"cs\", Dp, p_c, p_p, p_s, d_c, d_p, l, Z_c, R_cp, BA)\n",
    "        d2f_ps = calculate_f_derivatives(\"ps\", Dp, p_c, p_p, p_s, d_c, d_p, l, Z_c, R_cp, BA)\n",
    "            #using symmetry\n",
    "        d2f_pc = d2f_cp\n",
    "        d2f_sc = d2f_cs\n",
    "        d2f_sp = d2f_ps\n",
    "    \n",
    "        #build the 3x3 stability matrix as a numpy array and calculate the determinant \n",
    "        #logdet is used to avoid issues with a small determinant (such as when an instability is reached)\n",
    "        stability_matrix = array([[d2f_cc, d2f_cp, d2f_cs], [d2f_pc, d2f_pp, d2f_ps], [d2f_sc, d2f_sp, d2f_ss]])\n",
    "        (sign, logdet) = slogdet(stability_matrix)\n",
    "        stability_determinant = sign*exp(logdet)\n",
    "        \n",
    "        #return the stability determinant\n",
    "        return (stability_matrix, stability_determinant)\n",
    "        #return (stability_matrix, det(stability_matrix))\n",
    "    \n",
    "    #if the derivative is not defined the return a characteristic number for easy identification\n",
    "    else:\n",
    "        return 12345678910"
   ]
  },
  {
   "cell_type": "code",
   "execution_count": 61,
   "metadata": {
    "collapsed": false
   },
   "outputs": [
    {
     "ename": "ValueError",
     "evalue": "negative number cannot be raised to a fractional power",
     "output_type": "error",
     "traceback": [
      "\u001b[1;31m---------------------------------------------------------------------------\u001b[0m",
      "\u001b[1;31mValueError\u001b[0m                                Traceback (most recent call last)",
      "\u001b[1;32m<ipython-input-61-93855e21f927>\u001b[0m in \u001b[0;36m<module>\u001b[1;34m()\u001b[0m\n\u001b[1;32m----> 1\u001b[1;33m \u001b[1;33m(\u001b[0m\u001b[1;33m-\u001b[0m\u001b[1;36m8.0\u001b[0m\u001b[1;33m)\u001b[0m\u001b[1;33m**\u001b[0m\u001b[1;33m(\u001b[0m\u001b[1;36m1.\u001b[0m\u001b[1;33m/\u001b[0m\u001b[1;36m3\u001b[0m\u001b[1;33m)\u001b[0m\u001b[1;33m\u001b[0m\u001b[0m\n\u001b[0m",
      "\u001b[1;31mValueError\u001b[0m: negative number cannot be raised to a fractional power"
     ]
    }
   ],
   "source": [
    "(-8.0)**(1./3)"
   ]
  },
  {
   "cell_type": "code",
   "execution_count": null,
   "metadata": {
    "collapsed": true
   },
   "outputs": [],
   "source": [
    "######################################################################"
   ]
  },
  {
   "cell_type": "code",
   "execution_count": 45,
   "metadata": {
    "collapsed": true
   },
   "outputs": [],
   "source": [
    "def calculate_f_ex_ao_pure(p_c, p_p, #state variables\n",
    "                        d_c, d_p #system parameters\n",
    "                      ):\n",
    "    \n",
    "    vol = (d_c/2.0 + d_p/2.0)**3.0\n",
    "    \n",
    "    #calculate the needed densities\n",
    "    p = p_c + p_p\n",
    "    x_c = p_c/p\n",
    "    x_p = p_p/p\n",
    "    R_G = d_p/2.0\n",
    "    \n",
    "    #the effective volume fraction for use in the carnahan starling free energy\n",
    "    n_eff = (pi/6.0)*(p_c/(p_c + p_p))*(p_c*(d_c**3.0) + p_p*((d_c/2.0 + R_G)**3.0))\n",
    "    \n",
    "    #modified carnahan starling free energy\n",
    "    f_ex_ao = x_c*log(x_c) + x_p*log(x_p) + log(p*vol) - 1.0 + (-3.0 + 2.0/(1.0 - n_eff) + 1.0/((1.0 - n_eff)**2.0))\n",
    "    \n",
    "    return (p*f_ex_ao)"
   ]
  },
  {
   "cell_type": "code",
   "execution_count": 25,
   "metadata": {
    "collapsed": true
   },
   "outputs": [],
   "source": [
    "def calculate_f_ex_ao_fv(p_c, p_p, #state variables\n",
    "                        d_c, d_p #system parameters\n",
    "                      ):\n",
    "    \n",
    "    vol = (d_c/2.0 + d_p/2.0)**3.0\n",
    "    \n",
    "    #calculate the needed densities\n",
    "    n_c = (pi/6.0)*(d_c**3.0)*p_c\n",
    "    \n",
    "    #ratio\n",
    "    q = d_p/d_c\n",
    "    \n",
    "    #some params\n",
    "    A = 3.0*q + 3.0*(q**2.0) + q**3.0\n",
    "    B = (9.0/2.0)*(q**2.0) + 3.0*(q**3.0)\n",
    "    C = 3.0*(q**3.0)\n",
    "    \n",
    "    #modified carnahan starling free energy\n",
    "    f_hs_ex = p_c*(-3.0 + 2.0/(1.0 - n_c) + 1.0/((1.0 - n_c)**2.0))\n",
    "    f_hs = p_c*log(p_c) - p_c + f_hs_ex\n",
    "    f_ao_id = p_p*log(p_p) - p_p\n",
    "    w = -log(1.0 - n_c) + A*(n_c/(1.0 - n_c)) + B*((n_c/(1.0 - n_c))**2.0) + C*((n_c/(1.0 - n_c))**3.0) \n",
    "    f_ex_ao = p_p*w\n",
    "    \n",
    "    f_ao = f_hs + f_ao_id + f_ex_ao\n",
    "    \n",
    "    return f_ao"
   ]
  },
  {
   "cell_type": "code",
   "execution_count": 99,
   "metadata": {
    "collapsed": true
   },
   "outputs": [],
   "source": [
    "def calculate_stability_determinant_ao_pure(p_c, p_p, #state variables\n",
    "                                            d_c, d_p, #particle sizes\n",
    "                                            min_step #minimum step to use for hessian calculation\n",
    "                                           ):\n",
    "    \n",
    "    #calculate the hessian matrix\n",
    "    hess_steps = nd.MinStepGenerator(base_step=min_step, step_ratio=2.0, num_steps = 3)\n",
    "    calculate_hessian = lambda x: calculate_f_ex_ao_fv(x[0], x[1], d_c, d_p)\n",
    "    stability_matrix = nd.Hessian(calculate_hessian, step = hess_steps)([p_c, p_p])\n",
    "    \n",
    "    #build the 3x3 stability matrix as a numpy array and calculate the determinant \n",
    "    #logdet is used to avoid issues with a small determinant (such as when an instability is reached)\n",
    "    (sign, logdet) = slogdet(stability_matrix)\n",
    "    #stability_determinant = sign*exp(logdet)\n",
    "    #stability_determinant = sign*(exp(logdet)**(1.0/3.0))\n",
    "    stability_determinant = det(stability_matrix)\n",
    "        \n",
    "    #return the stability determinant\n",
    "    return (stability_matrix, stability_determinant)\n",
    "    #return (stability_matrix, det(stability_matrix))"
   ]
  },
  {
   "cell_type": "code",
   "execution_count": 101,
   "metadata": {
    "collapsed": false
   },
   "outputs": [
    {
     "name": "stdout",
     "output_type": "stream",
     "text": [
      "0.045\n",
      "(array([[ 117.21631256,    6.09887854],\n",
      "       [   6.09887854,    0.31415926]]), -0.37172883369891219)\n"
     ]
    }
   ],
   "source": [
    "d_c = 1.0 #1.0\n",
    "d_p = 0.3 #0.3\n",
    "\n",
    "n_c = 0.5\n",
    "n_p = 0.045\n",
    "\n",
    "p_c = 6.0*n_c/(pi*d_c*d_c*d_c)\n",
    "p_p = 6.0*n_p/(pi*d_p*d_p*d_p)\n",
    "\n",
    "min_step= 0.001\n",
    "\n",
    "print (pi/6.0)*p_p*(d_p**3.0)\n",
    "\n",
    "print calculate_stability_determinant_ao_pure(p_c, p_p, d_c, d_p, min_step)\n"
   ]
  },
  {
   "cell_type": "code",
   "execution_count": 103,
   "metadata": {
    "collapsed": false
   },
   "outputs": [
    {
     "name": "stdout",
     "output_type": "stream",
     "text": [
      "2.33917816195\n",
      "165.463007665\n",
      "0.0477464829276\n",
      "3465.44912881\n"
     ]
    }
   ],
   "source": [
    "d_c = 1.0 #1.0\n",
    "d_p = 0.3 #0.3\n",
    "\n",
    "n_c = 0.025\n",
    "\n",
    "t_1 = 1.0 - n_c\n",
    "t_2 = 1.0 + 2.0*n_c\n",
    "q = d_p/d_c\n",
    "\n",
    "n_p_s = (((t_1**4.0)*t_2)/n_c)/(12.0*(t_1**3.0) + 15.0*q*(t_1**2.0)*t_2 + 6.0*(q**2.0)*t_1*(t_2**2.0) + (q**3.0)*(t_2**3.0))\n",
    "print n_p_s\n",
    "print 6.0*n_p_s/(pi*d_p*d_p*d_p)\n",
    "print 6.0*n_c/(pi*d_c*d_c*d_c)\n",
    "print (6.0*n_p_s/(pi*d_p*d_p*d_p)) / (6.0*n_c/(pi*d_c*d_c*d_c))"
   ]
  },
  {
   "cell_type": "code",
   "execution_count": null,
   "metadata": {
    "collapsed": true
   },
   "outputs": [],
   "source": []
  },
  {
   "cell_type": "code",
   "execution_count": null,
   "metadata": {
    "collapsed": true
   },
   "outputs": [],
   "source": [
    "    a = stability_matrix[0][0]\n",
    "    b = stability_matrix[0][1]\n",
    "    c = stability_matrix[0][2]\n",
    "    d = stability_matrix[1][1]\n",
    "    e = stability_matrix[1][2]\n",
    "    f = stability_matrix[2][2]\n",
    "    \n",
    "    stability_determinant = a*(d*f - e*e) + b*(c*e - b*f) + c*(b*e - d*c)"
   ]
  },
  {
   "cell_type": "code",
   "execution_count": null,
   "metadata": {
    "collapsed": true
   },
   "outputs": [],
   "source": [
    "#takes as input the desired volume fraction and the gr data in dataframe format\n",
    "#and linearly interpolates between the two nearest stored volume fractions\n",
    "def calculate_rdf(eta, d):\n",
    "    global rdf_current #need to make this global since we need to modify it\n",
    "    rdf = pd.DataFrame()\n",
    "    \n",
    "    if eta in rdf_current.columns: #use the stored version so as to not compute it more than needed\n",
    "        rdf[\"gr\"] = rdf_current[eta]\n",
    "        rdf[\"r\"] = d*rdf_data[\"r\"]\n",
    "        return rdf\n",
    "    else: #empty out the stored rdf and generate a new one\n",
    "        rdf_current = pd.DataFrame()\n",
    "        eta_inc = rdf_data.columns[1] #store the eta increment\n",
    "        eta_max = rdf_data.columns[-2] #store the maximum eta to check if overstepped\n",
    "        upper_index = int(eta / eta_inc) + 1 #for storing the nearest low and high volume fractions\n",
    "        lower_index = int(eta / eta_inc)\n",
    "        if eta >= eta_max:\n",
    "            print \"error: eta is too large to calculate!\"\n",
    "            return rdf\n",
    "        try:\n",
    "            eta_upper = rdf_data.columns[upper_index] #grab the lower and upper packing fractions for interpolation\n",
    "            eta_lower = rdf_data.columns[lower_index]\n",
    "        except:\n",
    "            print \"error: something went wrong with rdf calculation!\"\n",
    "            return rdf\n",
    "        #create the interpolated rdf\n",
    "        rdf[\"gr\"] = ((eta_upper - eta)/(eta_upper - eta_lower))*rdf_data[eta_lower] + ((eta - eta_lower)/(eta_upper - eta_lower))*rdf_data[eta_upper]\n",
    "        rdf[\"r\"] = d*rdf_data[\"r\"]\n",
    "        rdf_current[eta] = rdf[\"gr\"][:]\n",
    "        return rdf"
   ]
  },
  {
   "cell_type": "code",
   "execution_count": null,
   "metadata": {
    "collapsed": true
   },
   "outputs": [],
   "source": []
  },
  {
   "cell_type": "markdown",
   "metadata": {},
   "source": [
    "###RETIRED FUNCTIONS STORED HERE"
   ]
  },
  {
   "cell_type": "markdown",
   "metadata": {},
   "source": [
    "###Calculate the effective volume fraction factor according to Hamad's theory to get effective RDF to be used for the two perturbative free energy terms\n",
    "\n",
    "---"
   ]
  },
  {
   "cell_type": "code",
   "execution_count": null,
   "metadata": {
    "collapsed": true
   },
   "outputs": [],
   "source": [
    "#evaluate the volume fraction factor for calculating the colloid-colloid AO RDF\n",
    "def calculate_n_scale(components, p_c, p_p, #state variables  \n",
    "                   d_c, d_p #system parameters\n",
    "                  ):\n",
    "    \n",
    "    #set the needed parameters to compute the scale parameter\n",
    "    b_2 = 4.0\n",
    "    b_3 = 10.0\n",
    "    Q = p_c*(d_c**3.0)\n",
    "    \n",
    "    #detect if for colloid-colloid or colloid-polymer\n",
    "    #note: the x_c and x_p used should technically should sum to unity\n",
    "    #but it does not matter due to the division step (see Santos paper for definitions)\n",
    "    if components == \"cc\":\n",
    "        C_c_cc = (b_3/b_2)*(d_c**3.0)\n",
    "        C_p_cc = (d_p**3.0) + (b_3/b_2 - 1.0)*d_c*(d_p**2.0)\n",
    "        w_cc = (b_2/b_3)*(p_c*C_c_cc + p_p*C_p_cc)/Q\n",
    "        return w_cc\n",
    "    elif components == \"cp\":\n",
    "        C_c_cp = (d_c**3.0) + (b_3/b_2 - 1.0)*((2.0*d_p*(d_c**3.0))/(d_c + d_p))\n",
    "        C_p_cp = 0.0\n",
    "        w_cp = (b_2/b_3)*(p_c*C_c_cp + p_p*C_p_cp)/Q\n",
    "        return w_cp\n",
    "    \n",
    "    #return a zero if no coded type used\n",
    "    return 0"
   ]
  },
  {
   "cell_type": "markdown",
   "metadata": {},
   "source": [
    "**Checking for scale invariance DLVO**"
   ]
  },
  {
   "cell_type": "code",
   "execution_count": null,
   "metadata": {
    "collapsed": true
   },
   "outputs": [],
   "source": [
    "d_c = 1.0\n",
    "d_p = 0.30\n",
    "l = 0.1 \n",
    "Z_c = 100.0\n",
    "\n",
    "n_c = 0.025\n",
    "\n",
    "p_c = 6.0*n_c/(pi*d_c*d_c*d_c)\n",
    "p_p = 0.5*p_c\n",
    "p_pos = 10.0*p_c\n",
    "p_neg = 20.0*p_c\n",
    "p = p_c + p_p + p_pos + p_neg\n",
    "\n",
    "#(OLD VALUES FOR 1/N f CALC)\n",
    "#p = p_c + p_p + p_pos + p_neg\n",
    "#x_c = p_c/p\n",
    "#x_p = p_p/p\n",
    "#x_pos = p_pos/p\n",
    "#x_neg = p_neg/p\n",
    "\n",
    "#calculate the free energy contribution\n",
    "calculate_f_ex_dlvo(p_c, p_pos, p_neg, l, Z_c, d_c, d_p)/p #(NEED 1/p TO COMPARE TO OLD VALUES)\n",
    "#-17.67148544525654 (OLD VALUE WITH NO PERT)\n",
    "#-18.025917790970816 (OLD VALUE WITH PERT)"
   ]
  },
  {
   "cell_type": "markdown",
   "metadata": {},
   "source": [
    "**Checking for scale invariance INT**"
   ]
  },
  {
   "cell_type": "code",
   "execution_count": null,
   "metadata": {
    "collapsed": true
   },
   "outputs": [],
   "source": [
    "d_c = 1.0 #1.0\n",
    "d_p = 0.30 #0.3\n",
    "R_cp = 0.01 #0.05\n",
    "BA = 13.0\n",
    "\n",
    "n_c = 0.025\n",
    "\n",
    "p_c = 6.0*n_c/(pi*d_c*d_c*d_c)\n",
    "p_p = 0.5*p_c\n",
    "p_pos = 10.0*p_c\n",
    "p_neg = 20.0*p_c\n",
    "\n",
    "p = p_c + p_p + p_pos + p_neg\n",
    "x_c = p_c/p\n",
    "x_p = p_p/p\n",
    "x_pos = p_pos/p\n",
    "x_neg = p_neg/p\n",
    "\n",
    "\n",
    "calculate_f_ex_int(p_c, p_p, d_c, d_p, R_cp, BA)/p\n",
    "\n",
    "#-18.577585661644907 (OLD VALUE)"
   ]
  },
  {
   "cell_type": "markdown",
   "metadata": {},
   "source": [
    "**Checking for scale invariance AO**"
   ]
  },
  {
   "cell_type": "code",
   "execution_count": null,
   "metadata": {
    "collapsed": true
   },
   "outputs": [],
   "source": [
    "d_c = 5.0 #1.0\n",
    "d_p = 1.5 #0.3\n",
    "\n",
    "n_c = 0.4\n",
    "n_p = 0.108\n",
    "\n",
    "p_c = 6.0*n_c/(pi*d_c*d_c*d_c)\n",
    "p_p = 6.0*n_p/(pi*d_p*d_p*d_p)\n",
    "\n",
    "calculate_f_ex_ao(p_c, p_p, #state variables\n",
    "                      d_c, d_p #system parameters\n",
    "                      )/(p_c + p_p)\n",
    "\n",
    "#1.6908515771610024"
   ]
  }
 ],
 "metadata": {
  "kernelspec": {
   "display_name": "Python 2",
   "language": "python",
   "name": "python2"
  },
  "language_info": {
   "codemirror_mode": {
    "name": "ipython",
    "version": 2
   },
   "file_extension": ".py",
   "mimetype": "text/x-python",
   "name": "python",
   "nbconvert_exporter": "python",
   "pygments_lexer": "ipython2",
   "version": "2.7.10"
  }
 },
 "nbformat": 4,
 "nbformat_minor": 0
}
