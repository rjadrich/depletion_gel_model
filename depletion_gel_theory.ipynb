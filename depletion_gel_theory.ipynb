{
 "cells": [
  {
   "cell_type": "markdown",
   "metadata": {},
   "source": [
    "#Theoretical model for a mixture of charged colloids, with counterions and salt and a polymer depletant"
   ]
  },
  {
   "cell_type": "markdown",
   "metadata": {},
   "source": [
    "###Required imports\n",
    "\n",
    "---"
   ]
  },
  {
   "cell_type": "code",
   "execution_count": 2,
   "metadata": {
    "collapsed": false
   },
   "outputs": [],
   "source": [
    "import os\n",
    "import csv\n",
    "import pandas as pd\n",
    "import numdifftools as nd\n",
    "from math import pi, exp, sqrt, log\n",
    "from numpy.linalg import det, slogdet\n",
    "from numpy import array\n",
    "import matplotlib.pyplot as plt\n",
    "import collections\n",
    "import functools\n",
    "import pickle\n",
    "%matplotlib inline "
   ]
  },
  {
   "cell_type": "markdown",
   "metadata": {},
   "source": [
    "###Create a memoized class to decorate some functions with and prevent trivial re-evaluation\n",
    "\n",
    "---"
   ]
  },
  {
   "cell_type": "code",
   "execution_count": 3,
   "metadata": {
    "collapsed": true
   },
   "outputs": [],
   "source": [
    "class memoized(object):\n",
    "    '''Decorator. Caches a function's return value each time it is called.\n",
    "    If called later with the same arguments, the cached value is returned\n",
    "    (not reevaluated).\n",
    "    '''\n",
    "    def __init__(self, func):\n",
    "        self.func = func\n",
    "        self.cache = {}\n",
    "    def __call__(self, *args):\n",
    "        if not isinstance(args, collections.Hashable):\n",
    "            # uncacheable. a list, for instance.\n",
    "            # better to not cache than blow up.\n",
    "            return self.func(*args)\n",
    "        if args in self.cache:\n",
    "            return self.cache[args]\n",
    "        else:\n",
    "            value = self.func(*args)\n",
    "            self.cache[args] = value\n",
    "            return value\n",
    "    def __repr__(self):\n",
    "        '''Return the function's docstring.'''\n",
    "        return self.func.__doc__\n",
    "    def __get__(self, obj, objtype):\n",
    "        '''Support instance methods.'''\n",
    "        return functools.partial(self.__call__, obj)"
   ]
  },
  {
   "cell_type": "markdown",
   "metadata": {},
   "source": [
    "###Function to make the hard sphere RDF dictionary\n",
    "This reads in all of the hard sphere g(r) csv files in \"\\data\\hs_structure\\\" of the working directory and places each (in order of increasing volumne fraction) into a pandas dataframe. There is also an \"r\" column that correpsonds to the radial distance and appears at the very end of the dataframe\n",
    "\n",
    "**NOTE**: the RDF files must start at zero volume fraction and increase in one fixed increment (automatically detected when read in)\n",
    "\n",
    "---"
   ]
  },
  {
   "cell_type": "code",
   "execution_count": 4,
   "metadata": {
    "collapsed": true
   },
   "outputs": [],
   "source": [
    "#read each rdf file at each volume fraction and store in a dictionary within a dictionary\n",
    "#with volume fraction as the first key and r as the second key for very rapid read\n",
    "def load_hs_rdf_data(rdf_directory):    \n",
    "    rdf_files = os.listdir(rdf_directory) \n",
    "    \n",
    "    rdf_file = rdf_files[0] #extract first filename\n",
    "    eta = rdf_file[-11:-4] #extract the volume fraction from filename\n",
    "    rdf_data = pd.read_csv(filepath_or_buffer = rdf_directory + rdf_file, header = None, names = [\"r\", float(eta)]) \n",
    "    \n",
    "    for rdf_file in rdf_files[1:]: #loop over the various files in the rdf_data folder\n",
    "        eta = rdf_file[-11:-4]\n",
    "        rdf_data_2 = pd.read_csv(filepath_or_buffer = rdf_directory + rdf_file, header = None, names = [\"r\", float(eta)])[float(eta)]\n",
    "        rdf_data = pd.concat([rdf_data, rdf_data_2], axis=1)   \n",
    "    \n",
    "    rdf_data = rdf_data.reindex_axis(sorted(rdf_data.columns), axis=1) #make sure columns go in ascending order of volume fraction\n",
    "        \n",
    "    return rdf_data"
   ]
  },
  {
   "cell_type": "markdown",
   "metadata": {},
   "source": [
    "###Function to create an RDF at a specified volume fraction\n",
    "This works by linearly interpolating between the two nearest stored volume fractions.\n",
    "\n",
    "---"
   ]
  },
  {
   "cell_type": "code",
   "execution_count": 5,
   "metadata": {
    "collapsed": false
   },
   "outputs": [],
   "source": [
    "#takes as input the desired volume fraction and the gr data in dataframe format\n",
    "#and linearly interpolates between the two nearest stored volume fractions\n",
    "@memoized\n",
    "def calculate_rdf(eta, d):\n",
    "    rdf = pd.DataFrame()\n",
    "    \n",
    "    eta_inc = rdf_data.columns[1] #store the eta increment\n",
    "    eta_max = rdf_data.columns[-2] #store the maximum eta to check if overstepped\n",
    "    upper_index = int(eta / eta_inc) + 1 #for storing the nearest low and high volume fractions\n",
    "    lower_index = int(eta / eta_inc)\n",
    "    \n",
    "    if eta >= eta_max:\n",
    "        print \"error: eta is too large to calculate!\"\n",
    "        return rdf\n",
    "    try:\n",
    "        eta_upper = rdf_data.columns[upper_index] #grab the lower and upper packing fractions for interpolation\n",
    "        eta_lower = rdf_data.columns[lower_index]\n",
    "    except:\n",
    "        print \"error: something went wrong with rdf calculation!\"\n",
    "        return rdf\n",
    "    \n",
    "    #create the interpolated rdf\n",
    "    rdf[\"gr\"] = ((eta_upper - eta)/(eta_upper - eta_lower))*rdf_data[eta_lower] + ((eta - eta_lower)/(eta_upper - eta_lower))*rdf_data[eta_upper]\n",
    "    rdf[\"r\"] = d*rdf_data[\"r\"]\n",
    "    return rdf"
   ]
  },
  {
   "cell_type": "markdown",
   "metadata": {},
   "source": [
    "###Load RDF data into memory\n",
    "The loaded RDF data will be used as a **global** variable to avoid having to copy things around from one function to another. All RDF's are normalized to use a core diameter of unit length which is then easily converted (by rescaling r) to another of different size when generating the desired interpolated RDF.\n",
    "\n",
    "---"
   ]
  },
  {
   "cell_type": "markdown",
   "metadata": {},
   "source": [
    "**Global structure variable**"
   ]
  },
  {
   "cell_type": "code",
   "execution_count": 6,
   "metadata": {
    "collapsed": false
   },
   "outputs": [],
   "source": [
    "rdf_data = load_hs_rdf_data(\"data/hs_structure/\")"
   ]
  },
  {
   "cell_type": "markdown",
   "metadata": {},
   "source": [
    "Example calculation of an RDF follows as:"
   ]
  },
  {
   "cell_type": "code",
   "execution_count": 7,
   "metadata": {
    "collapsed": false
   },
   "outputs": [
    {
     "name": "stdout",
     "output_type": "stream",
     "text": [
      "         gr     r\n",
      "0  2.741410  4.00\n",
      "1  2.697945  4.02\n",
      "2  2.655185  4.04\n",
      "3  2.613303  4.06\n",
      "4  2.572280  4.08\n"
     ]
    }
   ],
   "source": [
    "rdf = calculate_rdf(0.332, 4.0)\n",
    "if not rdf.empty:\n",
    "    print rdf.head()"
   ]
  },
  {
   "cell_type": "code",
   "execution_count": 8,
   "metadata": {
    "collapsed": false
   },
   "outputs": [
    {
     "name": "stdout",
     "output_type": "stream",
     "text": [
      "error: eta is too large to calculate!\n"
     ]
    }
   ],
   "source": [
    "rdf = calculate_rdf(0.61, 2.0)\n",
    "if not rdf.empty:\n",
    "    print rdf.head()"
   ]
  },
  {
   "cell_type": "markdown",
   "metadata": {},
   "source": [
    "###Calculates ideal free energy contribution\n",
    "This is comprised of the large colloids (or polyions), the polymer and the two monovalent ions. The form I use below is technically incorrect as the density has dimensions and I apply a log to it. This is irrelevant though as any arbitrary constant volume multiplicative factor can be introduced in the log without penalty. Upon taking a derivative with repect to density, one would find this term cancels itself. This is the same as saying the free energy is totally arbitrary to within a constant additive factor\n",
    "\n",
    "---"
   ]
  },
  {
   "cell_type": "code",
   "execution_count": 9,
   "metadata": {
    "collapsed": true
   },
   "outputs": [],
   "source": [
    "def calculate_f_id(p_c, p_p, p_pos, p_neg, d_c, d_p):\n",
    "    \n",
    "    #just creating an arbitrary length scale to non-dimensionalize the log term\n",
    "    vol = (d_c/2.0 + d_p/2.0)**3.0\n",
    "    p = p_c + p_p + p_pos + p_neg\n",
    "    \n",
    "    #ideal contribution containing both mixing and translational entropy\n",
    "    fid = p_c*log(p_c*vol) + p_p*log(p_p*vol) + p_pos*log(p_pos*vol) + p_neg*log(p_neg*vol) - p\n",
    "    \n",
    "    return fid"
   ]
  },
  {
   "cell_type": "markdown",
   "metadata": {},
   "source": [
    "###Calculates perturbative polyion-polyion DLVO free energy contribution\n",
    "I use an approximation due to Hamad which says the non-additive RDF contact values can be determined from a purely hard sphere contact value at a rescaled volume fraction. I go beyond this and extend this argument to say the whole RDF can be approximated as this is needed for the repulsive DLVO pair contribution to the free energy.\n",
    "\n",
    "---"
   ]
  },
  {
   "cell_type": "code",
   "execution_count": 10,
   "metadata": {
    "collapsed": false
   },
   "outputs": [],
   "source": [
    "def cc_perturb_integral(p_c, #state variables (removed p_p)\n",
    "                        n_c, k, #redundant state variables already calculated in calling function\n",
    "                        l, Z_c, d_c, d_p #system parameters\n",
    "                        ):\n",
    "    \n",
    "    #effective charge parameter to be used in calculating the DLVO colloid-colloid pair interaction\n",
    "    Z_eff = Z_c*(exp(k*(d_c/2.0))/(1.0 + k*(d_c/2.0)))\n",
    "    \n",
    "    #use a bare HS fluid (colloid) + ideal point particle (polymer) system as the reference \n",
    "    rdf = calculate_rdf(n_c, d_c)\n",
    "    \n",
    "    #calculate the integral\n",
    "    #the rdf only contains data outside the core region\n",
    "    dr = rdf[\"r\"][1] - rdf[\"r\"][0]\n",
    "    integral = 0.0\n",
    "    for index in rdf.index.values[:-1]:\n",
    "        r_1 = rdf[\"r\"][index]\n",
    "        r_2 = rdf[\"r\"][index + 1]\n",
    "        gr_1 = rdf[\"gr\"][index]\n",
    "        gr_2 = rdf[\"gr\"][index + 1]\n",
    "        Bur_1 = (Z_eff**2.0)*l*(exp(-k*r_1)/r_1)\n",
    "        Bur_2 = (Z_eff**2.0)*l*(exp(-k*r_2)/r_2)\n",
    "        fr_1 = exp(-Bur_1) - 1.0\n",
    "        fr_2 = exp(-Bur_2) - 1.0\n",
    "        integral = integral + (1.0/2.0)*dr*((r_1**2.0)*gr_1*fr_1 + (r_2**2.0)*gr_2*fr_2)\n",
    "        #integral = integral - (1.0/2.0)*dr*((r_1**2.0)*gr_1*Bur_1 + (r_2**2.0)*gr_2*Bur_2)\n",
    "        \n",
    "    return integral\n",
    "\n",
    "#############################################################################################\n",
    "\n",
    "@memoized\n",
    "def calculate_f_ex_dlvo(p_c, p_pos, p_neg, #state variables\n",
    "                        l, Z_c, d_c, d_p #system parameters\n",
    "                        ):\n",
    "    \n",
    "    #calculate various other parameters that make the below expression a little cleaner\n",
    "    #ion variables\n",
    "    p_ions = p_pos + p_neg\n",
    "    s = (2.0*p_pos*p_neg)/p_ions\n",
    "    k = sqrt(4.0*pi*l*p_ions)\n",
    "    #colloid variables\n",
    "    n_c = (pi/6.0)*(d_c**3.0)*p_c\n",
    "        \n",
    "    #breaking up the various contributions for simplicity\n",
    "    f_ex_dlvo_ion_coord = -(p_c*(Z_c**2.0)*(l/d_c))*((k*(d_c/2.0))/(1.0 + k*(d_c/2.0)))\n",
    "    f_ex_dlvo_exc_vol = (n_c*s)/(1.0-n_c)\n",
    "    f_ex_dlvo_neg_mean_field = -(1.0/2.0)*((4.0*pi*l*((p_c*Z_c)**2.0))/(k**2.0))\n",
    "    f_ex_dlvo_pair_perturb = -2.0*pi*(p_c**2.0)*cc_perturb_integral(p_c, n_c, k, l, Z_c, d_c, d_p)\n",
    "    \n",
    "    #total DLVO contribution to the free energy\n",
    "    f_ex_dlvo = f_ex_dlvo_ion_coord + f_ex_dlvo_exc_vol + f_ex_dlvo_neg_mean_field + f_ex_dlvo_pair_perturb\n",
    "    #f_ex_dlvo = f_ex_dlvo_neg_mean_field + f_ex_dlvo_pair_perturb\n",
    "    #return (f_ex_dlvo_ion_coord, f_ex_dlvo_exc_vol, f_ex_dlvo_neg_mean_field*((1.0 + 2.0*k*(d_c/2.0))/((1.0 + k*(d_c/2.0))**2.0)), f_ex_dlvo_pair_perturb)\n",
    "    #return (f_ex_dlvo_ion_coord, f_ex_dlvo_exc_vol, f_ex_dlvo_neg_mean_field, f_ex_dlvo_pair_perturb)\n",
    "    \n",
    "    return f_ex_dlvo"
   ]
  },
  {
   "cell_type": "markdown",
   "metadata": {},
   "source": [
    "###Calculates the perturbative polyion-polymer adsorption free energy contribution\n",
    "This uses a perturbative inclusion of short range attractions between the polyions and polymers. These attractions can be throught of as including both VDW and dipole-ion interactions\n",
    "\n",
    "---"
   ]
  },
  {
   "cell_type": "code",
   "execution_count": 11,
   "metadata": {
    "collapsed": true
   },
   "outputs": [],
   "source": [
    "def calculate_f_ex_int(p_c, p_p, #state variables\n",
    "                        d_c, d_p, R_cp, BA, #system parameters\n",
    "                        ):\n",
    "    \n",
    "    #transform to some helpful variables\n",
    "    n_c = (pi/6.0)*(d_c**3.0)*p_c\n",
    "    \n",
    "    #use a bare HS fluid (colloid) + ideal point particle (polymer) system as the reference \n",
    "    g_contact = 1.0/(1.0 - n_c)\n",
    "    \n",
    "    #interfacial free energy contribution\n",
    "    f_ex_int = -4.0*pi*p_c*p_p*R_cp*((d_c/2.0 + d_p/2.0)**2.0)*g_contact*(exp(BA)-1.0)\n",
    "    \n",
    "    return f_ex_int"
   ]
  },
  {
   "cell_type": "markdown",
   "metadata": {
    "collapsed": true
   },
   "source": [
    "###Calculates the excess contribution of the non-addittive AO model to the free energy\n",
    "This uses the approximate equation of state of Woodward et al. I use this as apposed to the Santos theory as it is simpler and yields similar results to the free volume form which agrees well with Santos.\n",
    "\n",
    "---"
   ]
  },
  {
   "cell_type": "code",
   "execution_count": 12,
   "metadata": {
    "collapsed": true
   },
   "outputs": [],
   "source": [
    "def calculate_f_ex_ao(p_c, p_p, #state variables\n",
    "                      d_c, d_p #system parameters\n",
    "                      ):\n",
    "    \n",
    "    #calculate volume fraction\n",
    "    n_c = (pi/6.0)*(d_c**3.0)*p_c\n",
    "    \n",
    "    #ratio\n",
    "    q = d_p/d_c\n",
    "    \n",
    "    #some parameters\n",
    "    A = 3.0*q + 3.0*(q**2.0) + q**3.0\n",
    "    B = (9.0/2.0)*(q**2.0) + 3.0*(q**3.0)\n",
    "    C = 3.0*(q**3.0)\n",
    "    w = -log(1.0 - n_c) + A*(n_c/(1.0 - n_c)) + B*((n_c/(1.0 - n_c))**2.0) + C*((n_c/(1.0 - n_c))**3.0)\n",
    "    \n",
    "    #free volume theory free energy\n",
    "    f_ex_hs_ref = p_c*(-3.0 + 2.0/(1.0 - n_c) + 1.0/((1.0 - n_c)**2.0)) \n",
    "    f_ex_fv_pert = p_p*w\n",
    "    \n",
    "    #total free energy\n",
    "    f_ex_ao = f_ex_hs_ref + f_ex_fv_pert\n",
    "    \n",
    "    return f_ex_ao   "
   ]
  },
  {
   "cell_type": "markdown",
   "metadata": {
    "collapsed": false
   },
   "source": [
    "###Calculates the total free energy of the colloid-polymer-ion system\n",
    "This just calls the four separate free energy functions and adds them all up. \n",
    "\n",
    "Up to this point I have treated the colloid and ions all as separate entities. Formally this is fine but electroneutrality ultimately sets a linear constraint on what combinations of the three charges species are possible. For this I first assume that the charge on the colloid is positive (as it is in the experimental system) which means the density of positive ions is the density of the added salt in this simple system. Thus, when performing phase coexistence calculations the phases can be expressed as the amount of colloid, polymer and extra salt.\n",
    "\n",
    "---"
   ]
  },
  {
   "cell_type": "code",
   "execution_count": 13,
   "metadata": {
    "collapsed": false
   },
   "outputs": [],
   "source": [
    "def calculate_f_explicit_ions(p_c, p_p, p_pos, p_neg, #state variables\n",
    "               d_c, d_p, #particle sizes\n",
    "               l, Z_c, #ionic solution parameters\n",
    "               R_cp, BA #interfacial attraction parameters\n",
    "               ):\n",
    "    \n",
    "    #ideal\n",
    "    f_id = calculate_f_id(p_c, p_p, p_pos, p_neg, d_c, d_p)\n",
    "    #excess dlvo\n",
    "    f_ex_dlvo = calculate_f_ex_dlvo(p_c, p_pos, p_neg, l, Z_c, d_c, d_p) \n",
    "    #excess c-p interfacial\n",
    "    f_ex_int = calculate_f_ex_int(p_c, p_p, d_c, d_p, R_cp, BA)\n",
    "    #excess ao\n",
    "    f_ex_ao = calculate_f_ex_ao(p_c, p_p, d_c, d_p)\n",
    "    #the whole thing\n",
    "    f = f_id + f_ex_dlvo + f_ex_int + f_ex_ao\n",
    "    \n",
    "    return f"
   ]
  },
  {
   "cell_type": "markdown",
   "metadata": {
    "collapsed": true
   },
   "source": [
    "This is an alternative form that expresses the free energy in terms of densities alone by simply referencing the other form--this makes the stability calculation easier to work with."
   ]
  },
  {
   "cell_type": "code",
   "execution_count": 14,
   "metadata": {
    "collapsed": false
   },
   "outputs": [],
   "source": [
    "def calculate_f(p_c, p_p, p_s, #state variables\n",
    "               d_c, d_p, #particle sizes\n",
    "               l, Z_c, #ionic solution parameters\n",
    "               R_cp, BA, #interfacial attraction parameters\n",
    "               ):\n",
    "    \n",
    "    #calculate the various densities based on specifying the salt density and the colloid and polymer\n",
    "    if Z_c > 0.0:\n",
    "        p_pos = p_s\n",
    "        p_neg = p_pos + Z_c*p_c #charge neutrality condition\n",
    "    else:\n",
    "        p_neg = p_s\n",
    "        p_pos = p_neg - Z_c*p_c #charge neutrality condition\n",
    "    \n",
    "    #sum up the contributions\n",
    "    f = calculate_f_explicit_ions(p_c, p_p, p_pos, p_neg, d_c, d_p, l, Z_c, R_cp, BA)\n",
    "\n",
    "    return (f, f/(p_c + p_p + p_neg + p_pos))"
   ]
  },
  {
   "cell_type": "markdown",
   "metadata": {
    "collapsed": true
   },
   "source": [
    "###Function for calculating the stability matrix and its determinant\n",
    "This calculates the determinant of the 3x3 stability matrix for use in finding homogenous phase spinodal limits. The matrix is only 3x3 despite the 4 components due to charge neutrality. The particular choice I make for the matrix is the 3x3 of chemical potential derivatives with respect to the colloid, polymer and salt particle numbers. Also, the **free energy is per V** (not N) as this simplifies the matrix elements.\n",
    "\n",
    "---"
   ]
  },
  {
   "cell_type": "code",
   "execution_count": 15,
   "metadata": {
    "collapsed": false
   },
   "outputs": [],
   "source": [
    "def calculate_stability_determinant(p_c, p_p, p_s, #state variables\n",
    "                                    d_c, d_p, #particle sizes\n",
    "                                    l, Z_c, #ionic solution parameters \n",
    "                                    R_cp, BA, #interfacial attraction parameters\n",
    "                                    min_step #minimum step to use for hessian calculation\n",
    "                                   ):\n",
    "    \n",
    "    #calculate the hessian matrix\n",
    "    \n",
    "    #generate steps for calculating hessian\n",
    "    hess_steps = nd.MinStepGenerator(base_step=min_step, step_ratio=2.0, num_steps = 2)\n",
    "    \n",
    "    if p_s > 0.00000000001:\n",
    "        #full solution\n",
    "        calculate_hessian = lambda x: calculate_f(x[0], x[1], x[2], d_c, d_p, l, Z_c, R_cp, BA)[0]\n",
    "        stability_matrix = nd.Hessian(calculate_hessian, step = hess_steps)([p_c, p_p, p_s])\n",
    "    else:\n",
    "        #zero salt solution (to avoid numerical issues)\n",
    "        calculate_hessian = lambda x: calculate_f(x[0], x[1], p_s, d_c, d_p, l, Z_c, R_cp, BA)[0]\n",
    "        stability_matrix = nd.Hessian(calculate_hessian, step = hess_steps)([p_c, p_p])\n",
    "    \n",
    "    #build the 3x3 (or 2x2) stability matrix as a numpy array and calculate the determinant \n",
    "    #logdet is used to avoid issues with a small determinant (such as when an instability is reached)\n",
    "    (sign, logdet) = slogdet(stability_matrix)\n",
    "    stability_determinant = sign*exp(logdet)    \n",
    "        \n",
    "    #return the stability determinant\n",
    "    return (stability_matrix, stability_determinant)"
   ]
  },
  {
   "cell_type": "markdown",
   "metadata": {},
   "source": [
    "**Test to see if stability calculation is even working**"
   ]
  },
  {
   "cell_type": "code",
   "execution_count": 20,
   "metadata": {
    "collapsed": false
   },
   "outputs": [
    {
     "name": "stdout",
     "output_type": "stream",
     "text": [
      "0.0477464829276\n",
      "63.6619772368\n",
      "0.9\n",
      "(array([[  1.26763816e+02,   1.21014058e+00],\n",
      "       [  1.21014058e+00,   1.57079786e-02]]), 0.52676309056074455)\n",
      "0.0477464829276\n",
      "70.7355302631\n",
      "1.0\n",
      "(array([[  1.36030277e+02,   1.21014056e+00],\n",
      "       [  1.21014056e+00,   1.41371460e-02]]), 0.45863970310070046)\n",
      "0.0477464829276\n",
      "77.8090832894\n",
      "1.1\n",
      "(array([[  1.45296739e+02,   1.21014059e+00],\n",
      "       [  1.21014059e+00,   1.28519530e-02]]), 0.40290660165142894)\n",
      "0.0477464829276\n",
      "84.8826363157\n",
      "1.2\n",
      "(array([[  1.54563200e+02,   1.21014057e+00],\n",
      "       [  1.21014057e+00,   1.17809957e-02]]), 0.35646819700826282)\n",
      "0.0477464829276\n",
      "91.956189342\n",
      "1.3\n",
      "(array([[  1.63829662e+02,   1.21014057e+00],\n",
      "       [  1.21014057e+00,   1.08747151e-02]]), 0.31716068456453306)\n",
      "0.0477464829276\n",
      "99.0297423683\n",
      "1.4\n",
      "(array([[  1.73096123e+02,   1.21014058e+00],\n",
      "       [  1.21014058e+00,   1.00979953e-02]]), 0.28348361817902273)\n",
      "0.0477464829276\n",
      "106.103295395\n",
      "1.5\n",
      "(array([[  1.82362585e+02,   1.21014059e+00],\n",
      "       [  1.21014059e+00,   9.42476319e-03]]), 0.25428392455522214)\n",
      "0.0477464829276\n",
      "113.176848421\n",
      "1.6\n",
      "(array([[  1.91629046e+02,   1.21014057e+00],\n",
      "       [  1.21014057e+00,   8.83570787e-03]]), 0.2287380634819336)\n",
      "0.0477464829276\n",
      "120.250401447\n",
      "1.7\n",
      "(array([[  2.00895508e+02,   1.21014057e+00],\n",
      "       [  1.21014057e+00,   8.31594231e-03]]), 0.20619524600814651)\n",
      "0.0477464829276\n",
      "127.323954474\n",
      "1.8\n",
      "(array([[  2.10161969e+02,   1.21014057e+00],\n",
      "       [  1.21014057e+00,   7.85400308e-03]]), 0.18617254494701702)\n",
      "0.0477464829276\n",
      "134.3975075\n",
      "1.9\n",
      "(array([[  2.19428431e+02,   1.21014057e+00],\n",
      "       [  1.21014057e+00,   7.44063655e-03]]), 0.16824699681294517)\n",
      "0.0477464829276\n",
      "141.471060526\n",
      "2.0\n",
      "(array([[  2.28694892e+02,   1.21014056e+00],\n",
      "       [  1.21014056e+00,   7.06857624e-03]]), 0.15210711982612496)\n",
      "0.0477464829276\n",
      "148.544613552\n",
      "2.1\n",
      "(array([[  2.37961354e+02,   1.21014057e+00],\n",
      "       [  1.21014057e+00,   6.73205255e-03]]), 0.13752813214760021)\n",
      "0.0477464829276\n",
      "155.618166579\n",
      "2.2\n",
      "(array([[  2.47227815e+02,   1.21014057e+00],\n",
      "       [  1.21014057e+00,   6.42595666e-03]]), 0.1242350194313518)\n",
      "0.0477464829276\n",
      "162.691719605\n",
      "2.3\n",
      "(array([[  2.56494277e+02,   1.21014055e+00],\n",
      "       [  1.21014055e+00,   6.14660915e-03]]), 0.11212991153202113)\n",
      "0.0477464829276\n",
      "169.765272631\n",
      "2.4\n",
      "(array([[  2.65760739e+02,   1.21014054e+00],\n",
      "       [  1.21014054e+00,   5.89046678e-03]]), 0.10101468372071916)\n",
      "0.0477464829276\n",
      "176.838825658\n",
      "2.5\n",
      "(array([[  2.75027200e+02,   1.21014057e+00],\n",
      "       [  1.21014057e+00,   5.65497989e-03]]), 0.090833082202535831)\n",
      "0.0477464829276\n",
      "183.912378684\n",
      "2.6\n",
      "(array([[  2.84293661e+02,   1.21014054e+00],\n",
      "       [  1.21014054e+00,   5.43732170e-03]]), 0.081355977448828859)\n",
      "0.0477464829276\n",
      "190.98593171\n",
      "2.7\n",
      "(array([[  2.93560123e+02,   1.21014065e+00],\n",
      "       [  1.21014065e+00,   5.23595152e-03]]), 0.072626186081230976)\n",
      "0.0477464829276\n",
      "198.059484737\n",
      "2.8\n",
      "(array([[  3.02826585e+02,   1.21014054e+00],\n",
      "       [  1.21014054e+00,   5.04908115e-03]]), 0.064555882875553625)\n",
      "0.0477464829276\n",
      "205.133037763\n",
      "2.9\n",
      "(array([[  3.12093046e+02,   1.21014057e+00],\n",
      "       [  1.21014057e+00,   4.87485607e-03]]), 0.056968477079653003)\n",
      "0.0477464829276\n",
      "212.206590789\n",
      "3.0\n",
      "(array([[  3.21359508e+02,   1.21014054e+00],\n",
      "       [  1.21014054e+00,   4.71240706e-03]]), 0.049936687283004336)\n",
      "0.0477464829276\n",
      "219.280143816\n",
      "3.1\n",
      "(array([[  3.30625969e+02,   1.21014061e+00],\n",
      "       [  1.21014061e+00,   4.56030591e-03]]), 0.043315264926667575)\n",
      "0.0477464829276\n",
      "226.353696842\n",
      "3.2\n",
      "(array([[  3.39892431e+02,   1.21014057e+00],\n",
      "       [  1.21014057e+00,   4.41794631e-03]]), 0.037186303910657456)\n",
      "0.0477464829276\n",
      "233.427249868\n",
      "3.3\n",
      "(array([[  3.49158892e+02,   1.21014057e+00],\n",
      "       [  1.21014057e+00,   4.28393795e-03]]), 0.031334816562120969)\n",
      "0.0477464829276\n",
      "240.500802894\n",
      "3.4\n",
      "(array([[  3.58425354e+02,   1.21014057e+00],\n",
      "       [  1.21014057e+00,   4.15801319e-03]]), 0.025897139237723996)\n",
      "0.0477464829276\n",
      "247.574355921\n",
      "3.5\n",
      "(array([[  3.67691815e+02,   1.21014053e+00],\n",
      "       [  1.21014053e+00,   4.03909913e-03]]), 0.020703578080592078)\n",
      "0.0477464829276\n",
      "254.647908947\n",
      "3.6\n",
      "(array([[  3.76958277e+02,   1.21014057e+00],\n",
      "       [  1.21014057e+00,   3.92699680e-03]]), 0.015873742910079477)\n",
      "0.0477464829276\n",
      "261.721461973\n",
      "3.7\n",
      "(array([[  3.86224738e+02,   1.21014054e+00],\n",
      "       [  1.21014054e+00,   3.82087724e-03]]), 0.011277189216713364)\n",
      "0.0477464829276\n",
      "268.795015\n",
      "3.8\n",
      "(array([[  3.95491200e+02,   1.21014057e+00],\n",
      "       [  1.21014057e+00,   3.72014360e-03]]), 0.0068438511295474142)\n",
      "0.0477464829276\n",
      "275.868568026\n",
      "3.9\n",
      "(array([[  4.04757661e+02,   1.21014053e+00],\n",
      "       [  1.21014053e+00,   3.62489772e-03]]), 0.0027650090740575996)\n",
      "0.0477464829276\n",
      "282.942121052\n",
      "4.0\n",
      "(array([[  4.14024123e+02,   1.21014057e+00],\n",
      "       [  1.21014057e+00,   3.53441010e-03]]), -0.0011091696623822119)\n",
      "0.0477464829276\n",
      "290.015674079\n",
      "4.1\n",
      "(array([[  4.23290584e+02,   1.21014054e+00],\n",
      "       [  1.21014054e+00,   3.44812889e-03]]), -0.0048796242863677316)\n",
      "0.0477464829276\n",
      "297.089227105\n",
      "4.2\n",
      "(array([[  4.32557046e+02,   1.21014053e+00],\n",
      "       [  1.21014053e+00,   3.36598778e-03]]), -0.0084583803785568436)\n",
      "0.0477464829276\n",
      "304.162780131\n",
      "4.3\n",
      "(array([[  4.41823507e+02,   1.21014062e+00],\n",
      "       [  1.21014062e+00,   3.28777598e-03]]), -0.011823616888100073)\n",
      "0.0477464829276\n",
      "311.236333157\n",
      "4.4\n",
      "(array([[  4.51089969e+02,   1.21014053e+00],\n",
      "       [  1.21014053e+00,   3.21316425e-03]]), -0.015013949093404299)\n",
      "0.0477464829276\n",
      "318.309886184\n",
      "4.5\n",
      "(array([[  4.60356430e+02,   1.21014068e+00],\n",
      "       [  1.21014068e+00,   3.14148944e-03]]), -0.01823560429032935)\n",
      "0.0477464829276\n",
      "325.38343921\n",
      "4.6\n",
      "(array([[  4.69622892e+02,   1.21014061e+00],\n",
      "       [  1.21014061e+00,   3.07337681e-03]]), -0.021112201912221365)\n",
      "0.0477464829276\n",
      "332.456992236\n",
      "4.7\n",
      "(array([[  4.78889353e+02,   1.21014061e+00],\n",
      "       [  1.21014061e+00,   3.00793109e-03]]), -0.023974121438089298)\n",
      "0.0477464829276\n",
      "339.530545263\n",
      "4.8\n",
      "(array([[  4.88155815e+02,   1.21014054e+00],\n",
      "       [  1.21014054e+00,   2.94508595e-03]]), -0.026779291212897079)\n",
      "0.0477464829276\n",
      "346.604098289\n",
      "4.9\n",
      "(array([[  4.97422276e+02,   1.21014061e+00],\n",
      "       [  1.21014061e+00,   2.88521089e-03]]), -0.029272129806929819)\n",
      "0.0477464829276\n",
      "353.677651315\n",
      "5.0\n",
      "(array([[  5.06688738e+02,   1.21014061e+00],\n",
      "       [  1.21014061e+00,   2.82751955e-03]]), -0.031767982940452508)\n",
      "0.0477464829276\n",
      "360.751204342\n",
      "5.1\n",
      "(array([[  5.15955200e+02,   1.21014061e+00],\n",
      "       [  1.21014061e+00,   2.77231986e-03]]), -0.03404744039399045)\n",
      "0.0477464829276\n",
      "367.824757368\n",
      "5.2\n",
      "(array([[  5.25221661e+02,   1.21014061e+00],\n",
      "       [  1.21014061e+00,   2.71857440e-03]]), -0.036586133203833998)\n",
      "0.0477464829276\n",
      "374.898310394\n",
      "5.3\n",
      "(array([[  5.34488122e+02,   1.21014052e+00],\n",
      "       [  1.21014052e+00,   2.66715953e-03]]), -0.038875000677504427)\n",
      "0.0477464829276\n",
      "381.971863421\n",
      "5.4\n",
      "(array([[  5.43754584e+02,   1.21014054e+00],\n",
      "       [  1.21014054e+00,   2.61798050e-03]]), -0.040901226971196074)\n",
      "0.0477464829276\n",
      "389.045416447\n",
      "5.5\n",
      "(array([[  5.53021045e+02,   1.21014062e+00],\n",
      "       [  1.21014062e+00,   2.57033624e-03]]), -0.042990295778044085)\n",
      "0.0477464829276\n",
      "396.118969473\n",
      "5.6\n",
      "(array([[  5.62287507e+02,   1.21014046e+00],\n",
      "       [  1.21014046e+00,   2.52454413e-03]]), -0.044920304458910418)\n",
      "0.0477464829276\n",
      "403.192522499\n",
      "5.7\n",
      "(array([[  5.71553968e+02,   1.21014062e+00],\n",
      "       [  1.21014062e+00,   2.48032942e-03]]), -0.04679820550085672)\n",
      "0.0477464829276\n",
      "410.266075526\n",
      "5.8\n",
      "(array([[  5.80820430e+02,   1.21014061e+00],\n",
      "       [  1.21014061e+00,   2.43758791e-03]]), -0.048639437952033841)\n",
      "0.0477464829276\n",
      "417.339628552\n",
      "5.9\n",
      "(array([[  5.90086891e+02,   1.21014053e+00],\n",
      "       [  1.21014053e+00,   2.39612064e-03]]), -0.050520724151763896)\n",
      "0.0477464829276\n",
      "424.413181578\n",
      "6.0\n",
      "(array([[  5.99353353e+02,   1.21014053e+00],\n",
      "       [  1.21014053e+00,   2.35616445e-03]]), -0.052265050461877044)\n"
     ]
    }
   ],
   "source": [
    "d_c = 1.0 #1.0\n",
    "d_p = 0.3 #0.3\n",
    "R_cp = 0.01 #0.05\n",
    "l = 1.0\n",
    "Z_c = 1.0\n",
    "BA = 0.00000001\n",
    "\n",
    "#colloid and polymer\n",
    "n_c = 0.025\n",
    "p_c = 6.0*n_c/(pi*d_c*d_c*d_c)\n",
    "\n",
    "#salt\n",
    "p_s = 0.0000000000000000000000001 #0.1*p_c\n",
    "\n",
    "n_p_inc = 0.1\n",
    "n_p_min = 1.0 #2.1\n",
    "n_p_max = 6.0 #2.5\n",
    "n_p_data_2 = []\n",
    "det_data_2 = []\n",
    "#det_data_3 = []\n",
    "#det_data_4 = []\n",
    "min_step= 0.001 #0.001\n",
    "for k in range(int(n_p_min/n_p_inc) - 1, int(n_p_max/n_p_inc) + 1):\n",
    "    n_p = n_p_inc*k\n",
    "    p_p = 6.0*n_p/(pi*d_p*d_p*d_p)\n",
    "    \n",
    "    print p_c\n",
    "    print p_p\n",
    "    \n",
    "    determinant = calculate_stability_determinant(p_c, p_p, p_s, d_c, d_p, l, Z_c, R_cp, BA, min_step)\n",
    "    #determinant2 = calculate_stability_determinant_ao_pure(p_c, p_p, d_c, d_p, min_step)\n",
    "\n",
    "    \n",
    "    print n_p\n",
    "    print determinant\n",
    "    n_p_data_2.append(n_p)\n",
    "    det_data_2.append(determinant[1])\n",
    "    #det_data_3.append(determinant[1])\n",
    "    #det_data_4.append(determinant[1])\n"
   ]
  },
  {
   "cell_type": "code",
   "execution_count": 21,
   "metadata": {
    "collapsed": false
   },
   "outputs": [
    {
     "data": {
      "text/plain": [
       "[<matplotlib.lines.Line2D at 0x14a6ccc0>]"
      ]
     },
     "execution_count": 21,
     "metadata": {},
     "output_type": "execute_result"
    },
    {
     "data": {
      "image/png": "[encoded data removed]",
      "text/plain": [
       "<matplotlib.figure.Figure at 0x14905438>"
      ]
     },
     "metadata": {},
     "output_type": "display_data"
    }
   ],
   "source": [
    "#plt.plot(n_p_data, det_data, 'ro')\n",
    "plt.plot(n_p_data_2, det_data_2, 'ro')\n",
    "#plt.plot(n_p_data_2, det_data_3, 'go')\n",
    "#plt.plot(n_p_data_2, det_data_4, 'bo')\n",
    "#plt.plot(0.04954419342053111, 0, 'o')\n",
    "#plt.ylim((-60,60))\n",
    "#plt.xlim((0.043,0.045))"
   ]
  },
  {
   "cell_type": "markdown",
   "metadata": {},
   "source": [
    "###Spinodal calculation from stability matrix\n",
    "This is a grid search that identifies points as being stable or unstable. Both types are passed back in separate arrays that can be plotted together to get a coarse grained view of the underlying phase behavior.\n",
    "\n",
    "---"
   ]
  },
  {
   "cell_type": "code",
   "execution_count": 22,
   "metadata": {
    "collapsed": true
   },
   "outputs": [],
   "source": [
    "#performs grid search and labels each point as stable or unstable\n",
    "def calculate_spinodal(p_c_low, p_c_hi, p_c_inc, p_p_low, p_p_hi, p_p_inc, #state variables for grid search\n",
    "                    p_s, #state variables held fixed\n",
    "                    d_c, d_p, #particle sizes\n",
    "                    l, Z_c, #ionic solution parameters \n",
    "                    R_cp, BA, #interfacial attraction parameters\n",
    "                    min_step #minimum step to use for hessian calculation\n",
    "                    ):\n",
    "    \n",
    "    #lists for storing the grid points classified as stable and unstable \n",
    "    stable = [[],[],[],[],[]]\n",
    "    unstable = [[],[],[],[],[]]\n",
    "    \n",
    "    #sample the grid points\n",
    "    p_c = p_c_low\n",
    "    while p_c < p_c_hi:\n",
    "        p_p = p_p_low\n",
    "        while p_p < p_p_hi:\n",
    "            determinant = calculate_stability_determinant(p_c, p_p, p_s, d_c, d_p, l, Z_c, R_cp, BA, min_step)[1]\n",
    "            if determinant < 0.0:\n",
    "                unstable[0].append(p_c)\n",
    "                unstable[1].append(p_p)\n",
    "                unstable[2].append(p_p/p_c)\n",
    "                unstable[3].append(((pi/6.0)*d_c*d_c*d_c)*p_c)\n",
    "                unstable[4].append(((pi/6.0)*d_p*d_p*d_p)*p_p)\n",
    "            else:\n",
    "                stable[0].append(p_c)\n",
    "                stable[1].append(p_p)\n",
    "                stable[2].append(p_p/p_c)\n",
    "                stable[3].append(((pi/6.0)*d_c*d_c*d_c)*p_c)\n",
    "                stable[4].append(((pi/6.0)*d_p*d_p*d_p)*p_p)\n",
    "            p_p = p_p + p_p_inc\n",
    "            #print p_p\n",
    "        p_c = p_c + p_c_inc\n",
    "        #print p_c\n",
    "    \n",
    "    return (stable, unstable)"
   ]
  },
  {
   "cell_type": "code",
   "execution_count": 59,
   "metadata": {
    "collapsed": false
   },
   "outputs": [],
   "source": [
    "#explicitly finds the spinodal boundary only\n",
    "def calculate_spinodal_boundary_density(p_c_low, p_c_hi, p_c_inc, p_p_low, p_p_hi, p_p_inc, #state variables for grid search\n",
    "                    p_s, #state variables held fixed\n",
    "                    d_c, d_p, #particle sizes\n",
    "                    l, Z_c, #ionic solution parameters \n",
    "                    R_cp, BA, #interfacial attraction parameters\n",
    "                    min_step #minimum step to use for hessian calculation\n",
    "                    ):\n",
    "    \n",
    "    #list for storing the boundary\n",
    "    boundary = [[],[],[],[],[]]\n",
    "    \n",
    "    #sample the grid points\n",
    "    p_p = p_p_low\n",
    "    while p_p < p_p_hi:\n",
    "        p_c = p_c_low\n",
    "        determinant_previous = 0.0001\n",
    "        boundary_count = 0 \n",
    "        while (p_c < p_c_hi) and (boundary_count < 2):\n",
    "            determinant = calculate_stability_determinant(p_c, p_p, p_s, d_c, d_p, l, Z_c, R_cp, BA, min_step)[1]   \n",
    "            if ((determinant < 0.0) and (determinant_previous > 0.0)) or ((determinant > 0.0) and (determinant_previous < 0.0)):\n",
    "                slope = (determinant - determinant_previous)/p_c_inc\n",
    "                intercept = determinant - slope*p_c\n",
    "                p_c_spinodal = -intercept/slope\n",
    "                boundary[0].append(p_c_spinodal)\n",
    "                boundary[1].append(p_p)\n",
    "                boundary[2].append(p_p/p_c_spinodal)\n",
    "                boundary[3].append(((pi/6.0)*d_c*d_c*d_c)*p_c_spinodal)\n",
    "                boundary[4].append(((pi/6.0)*d_p*d_p*d_p)*p_p)\n",
    "                boundary_count = boundary_count + 1\n",
    "            p_c = p_c + p_c_inc\n",
    "            determinant_previous = determinant\n",
    "        p_p = p_p + p_p_inc       \n",
    "        \n",
    "    #sort from smallest to largest\n",
    "    zipped_list = zip(boundary[0][:], boundary[1][:], boundary[2][:], boundary[3][:], boundary[4][:])\n",
    "    boundary[0], boundary[1], boundary[2], boundary[3], boundary[4] = zip(*sorted(zipped_list[:]))\n",
    "    \n",
    "    return boundary"
   ]
  },
  {
   "cell_type": "code",
   "execution_count": 17,
   "metadata": {
    "collapsed": true
   },
   "outputs": [],
   "source": [
    "#explicitly finds the spinodal boundary only\n",
    "def calculate_spinodal_boundary_ratio(p_c_low, p_c_hi, p_c_inc, g_pc_low, g_pc_hi, g_pc_inc, #state variables for grid search\n",
    "                    p_s, #state variables held fixed\n",
    "                    d_c, d_p, #particle sizes\n",
    "                    l, Z_c, #ionic solution parameters \n",
    "                    R_cp, BA, #interfacial attraction parameters\n",
    "                    min_step #minimum step to use for hessian calculation\n",
    "                    ):\n",
    "    \n",
    "    #list for storing the boundary\n",
    "    boundary = [[],[],[],[],[]]\n",
    "    \n",
    "    #sample the grid points\n",
    "    g_pc = g_pc_low\n",
    "    while g_pc < g_pc_hi:\n",
    "        #get initial point manualy\n",
    "        p_c = p_c_low\n",
    "        p_p = g_pc * p_c \n",
    "        determinant_previous = calculate_stability_determinant(p_c, p_p, p_s, d_c, d_p, l, Z_c, R_cp, BA, min_step)[1]\n",
    "        #move on next point\n",
    "        p_c = p_c_low + p_c_inc\n",
    "        boundary_count = 0 \n",
    "        while (p_c < p_c_hi) and (boundary_count < 2):\n",
    "            p_p = g_pc * p_c \n",
    "            determinant = calculate_stability_determinant(p_c, p_p, p_s, d_c, d_p, l, Z_c, R_cp, BA, min_step)[1]\n",
    "            if ((determinant < 0.0) and (determinant_previous > 0.0)) or ((determinant > 0.0) and (determinant_previous < 0.0)):\n",
    "                slope = (determinant - determinant_previous)/p_c_inc\n",
    "                intercept = determinant - slope*p_c\n",
    "                p_c_spinodal = -intercept/slope\n",
    "                p_p_spinodal = g_pc*p_c_spinodal\n",
    "                boundary[0].append(p_c_spinodal)\n",
    "                boundary[1].append(p_p_spinodal)\n",
    "                boundary[2].append(p_p_spinodal/p_c_spinodal)\n",
    "                boundary[3].append(((pi/6.0)*d_c*d_c*d_c)*p_c_spinodal)\n",
    "                boundary[4].append(((pi/6.0)*d_p*d_p*d_p)*p_p_spinodal)\n",
    "                boundary_count = boundary_count + 1\n",
    "            p_c = p_c + p_c_inc\n",
    "            determinant_previous = determinant\n",
    "        g_pc = g_pc + g_pc_inc       \n",
    "        \n",
    "    #sort from smallest to largest\n",
    "    zipped_list = zip(boundary[0][:], boundary[1][:], boundary[2][:], boundary[3][:], boundary[4][:])\n",
    "    boundary[0], boundary[1], boundary[2], boundary[3], boundary[4] = zip(*sorted(zipped_list[:]))\n",
    "    \n",
    "    return boundary"
   ]
  },
  {
   "cell_type": "markdown",
   "metadata": {
    "collapsed": true
   },
   "source": [
    "**Set parameters and calculate the phase diagram**"
   ]
  },
  {
   "cell_type": "code",
   "execution_count": 69,
   "metadata": {
    "collapsed": false
   },
   "outputs": [],
   "source": [
    "#actual experimental parameters (with dimensions of nm)\n",
    "#d_c_exp = 6.6\n",
    "#d_p_exp = 2.2\n",
    "#l_exp = 1.56\n",
    "\n",
    "#parameters\n",
    "d_c = 1.0\n",
    "d_p = 0.33 ############0.45\n",
    "R_cp = 0.01\n",
    "l = 0.24\n",
    "Z_c = 2.0    ################45.0\n",
    "BA = 3.5\n",
    "\n",
    "#colloid\n",
    "n_c_low = 0.015 #0.005\n",
    "n_c_hi = 0.6\n",
    "n_c_inc = 0.015 #0.005\n",
    "#polymer\n",
    "n_p_low = 0.03 #0.01\n",
    "n_p_hi = 10.5\n",
    "n_p_inc = 0.03 #0.01\n",
    "\n",
    "#recalculate in terms of densities\n",
    "p_c_low = 6.0*n_c_low/(pi*d_c*d_c*d_c)\n",
    "p_c_hi = 6.0*n_c_hi/(pi*d_c*d_c*d_c)\n",
    "p_c_inc = 6.0*n_c_inc/(pi*d_c*d_c*d_c)\n",
    "p_p_low = 6.0*n_p_low/(pi*d_p*d_p*d_p)\n",
    "p_p_hi = 6.0*n_p_hi/(pi*d_p*d_p*d_p)\n",
    "p_p_inc = 6.0*n_p_inc/(pi*d_p*d_p*d_p)\n",
    "\n",
    "#salt\n",
    "p_s = 0.0000000000000000000000001 ###15.0\n",
    "\n",
    "min_step= 0.001 #0.001\n",
    "stable, unstable = calculate_spinodal(p_c_low, p_c_hi, p_c_inc, p_p_low, p_p_hi, p_p_inc, p_s, d_c, d_p, l, Z_c, R_cp, BA, min_step)"
   ]
  },
  {
   "cell_type": "markdown",
   "metadata": {},
   "source": [
    "**Plot the phase diagram**"
   ]
  },
  {
   "cell_type": "code",
   "execution_count": 24,
   "metadata": {
    "collapsed": false
   },
   "outputs": [
    {
     "data": {
      "text/plain": [
       "<matplotlib.text.Text at 0x193cf5c0>"
      ]
     },
     "execution_count": 24,
     "metadata": {},
     "output_type": "execute_result"
    },
    {
     "data": {
      "image/png": "[encoded data removed]",
      "text/plain": [
       "<matplotlib.figure.Figure at 0x14905400>"
      ]
     },
     "metadata": {},
     "output_type": "display_data"
    }
   ],
   "source": [
    "#font scpecifications\n",
    "title_font = {'family' : 'arial', 'color'  : 'black', 'weight' : 'heavy','size': 20}\n",
    "axis_label_font = {'family' : 'arial', 'color'  : 'black', 'weight' : 'normal','size': 20}\n",
    "\n",
    "#figure size and tick style\n",
    "plt.rcParams[\"figure.figsize\"] = [6,6]\n",
    "plt.rc('axes',edgecolor='black',linewidth=1)\n",
    "plt.tick_params(which='both', axis='both', color='black', length=4, width=0.5)\n",
    "plt.rcParams['xtick.direction'] = 'in'\n",
    "plt.rcParams['ytick.direction'] = 'in'\n",
    "\n",
    "\n",
    "plt.xlabel('Colloid volume fraction', fontsize=20, fontdict = axis_label_font)\n",
    "plt.ylabel('Polymer volume fraction', fontsize=20, fontdict = axis_label_font)\n",
    "plt.scatter(stable[3], stable[4], c=\"b\", marker=\"s\", s=40, alpha=0.3, linewidths=0.0)\n",
    "plt.scatter(unstable[3],unstable[4], c=\"g\", marker=\"s\", s=40, alpha=0.8, linewidths=0.0)\n",
    "plt.ylim((0,4))\n",
    "plt.xlim((0,0.3))\n",
    "\n",
    "#title and axis labels\n",
    "plt.tick_params(axis='both', labelsize=20)\n",
    "plt.title(\"Stability phase diagram\", y=1.05, fontdict = title_font)\n"
   ]
  },
  {
   "cell_type": "code",
   "execution_count": 72,
   "metadata": {
    "collapsed": false
   },
   "outputs": [
    {
     "data": {
      "text/plain": [
       "<matplotlib.text.Text at 0x23b365c0>"
      ]
     },
     "execution_count": 72,
     "metadata": {},
     "output_type": "execute_result"
    },
    {
     "data": {
      "image/png": "[encoded data removed]",
      "text/plain": [
       "<matplotlib.figure.Figure at 0x22ce4b38>"
      ]
     },
     "metadata": {},
     "output_type": "display_data"
    }
   ],
   "source": [
    "#font scpecifications\n",
    "title_font = {'family' : 'arial', 'color'  : 'black', 'weight' : 'heavy','size': 20}\n",
    "axis_label_font = {'family' : 'arial', 'color'  : 'black', 'weight' : 'normal','size': 20}\n",
    "\n",
    "#figure size and tick style\n",
    "plt.rcParams[\"figure.figsize\"] = [6,6]\n",
    "plt.rc('axes',edgecolor='black',linewidth=1)\n",
    "plt.tick_params(which='both', axis='both', color='black', length=4, width=0.5)\n",
    "plt.rcParams['xtick.direction'] = 'in'\n",
    "plt.rcParams['ytick.direction'] = 'in'\n",
    "\n",
    "\n",
    "plt.xlabel('Colloid volume fraction', fontsize=20, fontdict = axis_label_font)\n",
    "plt.ylabel('Polymer / Colloid', fontsize=20, fontdict = axis_label_font)\n",
    "plt.scatter(stable[3], stable[2], c=\"b\", marker=\"s\", s=90, alpha=0.3, linewidths=0.0)\n",
    "plt.scatter(unstable[3],unstable[2], c=\"g\", marker=\"s\", s=90, alpha=0.8, linewidths=0.0)\n",
    "plt.ylim((0,2000))\n",
    "plt.xlim((0,0.3))\n",
    "\n",
    "#title and axis labels\n",
    "plt.tick_params(axis='both', labelsize=20)\n",
    "plt.title(\"Stability phase diagram\", y=1.05, fontdict = title_font)"
   ]
  },
  {
   "cell_type": "code",
   "execution_count": null,
   "metadata": {
    "collapsed": true
   },
   "outputs": [],
   "source": []
  },
  {
   "cell_type": "code",
   "execution_count": null,
   "metadata": {
    "collapsed": true
   },
   "outputs": [],
   "source": []
  },
  {
   "cell_type": "code",
   "execution_count": 121,
   "metadata": {
    "collapsed": false
   },
   "outputs": [],
   "source": [
    "#parameters\n",
    "d_c = 1.0\n",
    "d_p = 0.33\n",
    "R_cp = 0.01\n",
    "l = 0.2364\n",
    "Z_c = 0.000000001\n",
    "BA = 3.5 #3.5 \n",
    "\n",
    "#colloid\n",
    "n_c_low = 0.005\n",
    "n_c_hi = 0.6\n",
    "n_c_inc = 0.005\n",
    "#polymer\n",
    "n_p_low = 0.02\n",
    "n_p_hi = 3.0\n",
    "n_p_inc = 0.02\n",
    "\n",
    "#recalculate in terms of densities\n",
    "p_c_low = 6.0*n_c_low/(pi*d_c*d_c*d_c)\n",
    "p_c_hi = 6.0*n_c_hi/(pi*d_c*d_c*d_c)\n",
    "p_c_inc = 6.0*n_c_inc/(pi*d_c*d_c*d_c)\n",
    "p_p_low = 6.0*n_p_low/(pi*d_p*d_p*d_p)\n",
    "p_p_hi = 6.0*n_p_hi/(pi*d_p*d_p*d_p)\n",
    "p_p_inc = 6.0*n_p_inc/(pi*d_p*d_p*d_p)\n",
    "\n",
    "#salt\n",
    "p_s = 0.01\n",
    "\n",
    "min_step= 0.001 #0.001\n",
    "boundary = calculate_spinodal_boundary_density(p_c_low, p_c_hi, p_c_inc, p_p_low, p_p_hi, p_p_inc, p_s, d_c, d_p, l, Z_c, R_cp, BA, min_step)"
   ]
  },
  {
   "cell_type": "code",
   "execution_count": 20,
   "metadata": {
    "collapsed": false
   },
   "outputs": [],
   "source": [
    "#SINGLE CALCULATION\n",
    "\n",
    "#parameters\n",
    "d_c = 1.0\n",
    "d_p = 0.33 ############0.45\n",
    "R_cp = 0.01\n",
    "l = 0.24\n",
    "Z_c = 4.0    ################45.0\n",
    "BA = 0.0000000000001\n",
    "\n",
    "#colloid\n",
    "n_c_low = 0.01\n",
    "n_c_hi = 0.4\n",
    "n_c_inc = 0.01\n",
    "#polymer\n",
    "g_pc_low = 1.0\n",
    "g_pc_hi = 2000.0\n",
    "g_pc_inc = 1.0 #####################0.5\n",
    "\n",
    "#recalculate in terms of densities\n",
    "p_c_low = 6.0*n_c_low/(pi*d_c*d_c*d_c)\n",
    "p_c_hi = 6.0*n_c_hi/(pi*d_c*d_c*d_c)\n",
    "p_c_inc = 6.0*n_c_inc/(pi*d_c*d_c*d_c)\n",
    "\n",
    "#salt\n",
    "p_s = 0.00000000000000000000000000000000001\n",
    "\n",
    "#perform spinodal calculation\n",
    "min_step= 0.001 #0.001\n",
    "boundary_4 = calculate_spinodal_boundary_ratio(p_c_low, p_c_hi, p_c_inc, g_pc_low, g_pc_hi, g_pc_inc, p_s, d_c, d_p, l, Z_c, R_cp, BA, min_step)\n",
    "boundary = boundary_4\n",
    "\n",
    "#persist via pickle\n",
    "#filename = \"data\\calculations\\spinodal-d_c=%f-d_p=%f-R_cp=%f-l=%f-Z_c=%f-BA=%f.csv\" % (d_c, d_p, R_cp, l, Z_c, BA)\n",
    "#with open(filename, 'wb') as f:\n",
    "    #pickle.dump(boundary, f)"
   ]
  },
  {
   "cell_type": "code",
   "execution_count": 25,
   "metadata": {
    "collapsed": false
   },
   "outputs": [
    {
     "name": "stdout",
     "output_type": "stream",
     "text": [
      "0.1\n",
      "0.2\n",
      "0.33\n",
      "0.4\n",
      "0.5\n"
     ]
    }
   ],
   "source": [
    "#ITERATIVE CALCULATION\n",
    "boundaries = []\n",
    "for d_p in [0.10, 0.20, 0.33, 0.40, 0.50]:\n",
    "    #parameters\n",
    "    d_c = 1.0\n",
    "    #d_p = 0.33 ############0.45\n",
    "    R_cp = 0.01\n",
    "    l = 0.24\n",
    "    Z_c = 4.0    ################45.0\n",
    "    BA = 0.0000000000001\n",
    "\n",
    "    #colloid\n",
    "    n_c_low = 0.01\n",
    "    n_c_hi = 0.4\n",
    "    n_c_inc = 0.01\n",
    "    #polymer\n",
    "    g_pc_low = 1.0\n",
    "    g_pc_hi = 2000.0\n",
    "    g_pc_inc = 1.0 #####################0.5\n",
    "\n",
    "    #recalculate in terms of densities\n",
    "    p_c_low = 6.0*n_c_low/(pi*d_c*d_c*d_c)\n",
    "    p_c_hi = 6.0*n_c_hi/(pi*d_c*d_c*d_c)\n",
    "    p_c_inc = 6.0*n_c_inc/(pi*d_c*d_c*d_c)\n",
    "\n",
    "    #salt\n",
    "    p_s = 0.00000000000000000000000000000000001\n",
    "\n",
    "    #perform spinodal calculation\n",
    "    min_step= 0.001 #0.001\n",
    "    boundary= calculate_spinodal_boundary_ratio(p_c_low, p_c_hi, p_c_inc, g_pc_low, g_pc_hi, g_pc_inc, p_s, d_c, d_p, l, Z_c, R_cp, BA, min_step)\n",
    "    print d_p\n",
    "    boundaries.append((d_p, boundary))"
   ]
  },
  {
   "cell_type": "code",
   "execution_count": 51,
   "metadata": {
    "collapsed": false
   },
   "outputs": [
    {
     "data": {
      "image/png": "[encoded data removed]",
      "text/plain": [
       "<matplotlib.figure.Figure at 0x1144e358>"
      ]
     },
     "metadata": {},
     "output_type": "display_data"
    }
   ],
   "source": [
    "#font scpecifications\n",
    "title_font = {'family' : 'arial', 'color'  : 'black', 'weight' : 'heavy','size': 20}\n",
    "axis_label_font = {'family' : 'arial', 'color'  : 'black', 'weight' : 'normal','size': 20}\n",
    "axescolor = '#f6f6f6'\n",
    "\n",
    "flatui = [\"#9b59b6\", \"#3498db\", \"#e74c3c\", \"#34495e\", \"#2ecc71\"]\n",
    "\n",
    "#figure size and tick style\n",
    "plt.rcParams[\"figure.figsize\"] = [6,6]\n",
    "plt.rc('axes',edgecolor='black',linewidth=1)\n",
    "plt.tick_params(which='both', axis='both', color='black', length=4, width=0.5)\n",
    "plt.rcParams['xtick.direction'] = 'in'\n",
    "plt.rcParams['ytick.direction'] = 'in'\n",
    "\n",
    "#text for labeling regions\n",
    "#plt.text(0.025, 370, 'Fluid', fontsize=20, fontdict = axis_label_font)\n",
    "#plt.text(0.12, 900.0, 'Phase separated', fontsize=20, fontdict = axis_label_font)\n",
    "#plt.text(0.027, 1100.0, 'Gel', fontsize=20, fontdict = axis_label_font)\n",
    "\n",
    "\n",
    "plt.xlabel('Nanocrystal volume fraction', fontsize=20, fontdict = axis_label_font)\n",
    "plt.ylabel(' # Polymer / # Nanocrystal', fontsize=20, fontdict = axis_label_font)\n",
    "#plt.scatter([0.043, 0.043, 0.043, 0.043], [19, 108, 200, 633], c=\"none\", linestyle = '-', linewidth = 2, edgecolor=\"#33a6cc\", s=90.0)\n",
    "#plt.scatter([0.043], [1247], c=\"#33a6cc\", linestyle = '-', linewidth = 2, edgecolor=\"#33a6cc\", s=90.0)\n",
    "#plt.plot(boundary[3], boundary[2], c=\"r\", linestyle = '-', linewidth = 2)\n",
    "#plt.scatter(boundary[3], boundary[2], c=\"b\", linestyle = '-', linewidth = 2)\n",
    "plt.ylim((0,1600))\n",
    "plt.xlim((0,0.3))\n",
    "\n",
    "#fill in where the instability lies\n",
    "#lower_bound = [0.0 for x in range(len(boundary[2]))]\n",
    "#upper_bound = [20000000.0 for x in range(len(boundary[2]))]\n",
    "\n",
    "i = 0\n",
    "for boundary in boundaries:\n",
    "    if boundary[0] == 0.33:\n",
    "        plt.plot(boundary[1][3], boundary[1][2], linestyle = '-', linewidth = 2, label = boundary[0], c = 'black')\n",
    "    else:\n",
    "        plt.plot(boundary[1][3], boundary[1][2], linestyle = '--', linewidth = 2, label = boundary[0], c = flatui[i])\n",
    "        i = i + 1\n",
    "\n",
    "\n",
    "legend = plt.legend(shadow = True, frameon = True, fancybox = False, ncol = 1\n",
    "                        , fontsize = 15, loc = 'lower right', bbox_to_anchor=(1.0, 0.22))\n",
    "frame = legend.get_frame()\n",
    "frame.set_facecolor('white')\n",
    "frame.set_edgecolor('black')\n",
    "\n",
    "#plt.fill_between(boundary_2[3], boundary_2[2], upper_bound, alpha=0.5, color='#999999')\n",
    "#plt.plot(boundary_0[3], boundary_0[2], c=\"grey\", linestyle = '--', linewidth = 2)\n",
    "#plt.plot(boundary_4[3], boundary_4[2], c=\"grey\", linestyle = '--', linewidth = 2)\n",
    "#plt.fill_between(boundary[3], upper_bound, lower_bound, alpha=0.5, color='r')\n",
    "\n",
    "#title and axis labels\n",
    "plt.tick_params(axis='both', labelsize=20)\n",
    "plt.title(\"Phase diagram\", y=1.05, fontdict = title_font)\n",
    "plt.savefig(\"depletion.png\", bbox_inches='tight')"
   ]
  },
  {
   "cell_type": "code",
   "execution_count": 24,
   "metadata": {
    "collapsed": false
   },
   "outputs": [
    {
     "data": {
      "image/png": "[encoded data removed]",
      "text/plain": [
       "<matplotlib.figure.Figure at 0x1117f3c8>"
      ]
     },
     "metadata": {},
     "output_type": "display_data"
    }
   ],
   "source": [
    "#font scpecifications\n",
    "title_font = {'family' : 'arial', 'color'  : 'black', 'weight' : 'heavy','size': 20}\n",
    "axis_label_font = {'family' : 'arial', 'color'  : 'black', 'weight' : 'normal','size': 20}\n",
    "axescolor = '#f6f6f6'\n",
    "\n",
    "#figure size and tick style\n",
    "plt.rcParams[\"figure.figsize\"] = [6,6]\n",
    "plt.rc('axes',edgecolor='black',linewidth=1)\n",
    "plt.tick_params(which='both', axis='both', color='black', length=4, width=0.5)\n",
    "plt.rcParams['xtick.direction'] = 'in'\n",
    "plt.rcParams['ytick.direction'] = 'in'\n",
    "\n",
    "#text for labeling regions\n",
    "plt.text(0.025, 370, 'Fluid', fontsize=20, fontdict = axis_label_font)\n",
    "plt.text(0.12, 900.0, 'Phase separated', fontsize=20, fontdict = axis_label_font)\n",
    "plt.text(0.027, 1100.0, 'Gel', fontsize=20, fontdict = axis_label_font)\n",
    "\n",
    "\n",
    "plt.xlabel('Nanocrystal volume fraction', fontsize=20, fontdict = axis_label_font)\n",
    "plt.ylabel(' # Polymer / # Nanocrystal', fontsize=20, fontdict = axis_label_font)\n",
    "plt.scatter([0.043, 0.043, 0.043, 0.043], [19, 108, 200, 633], c=\"none\", linestyle = '-', linewidth = 2, edgecolor=\"#33a6cc\", s=90.0)\n",
    "plt.scatter([0.043], [1247], c=\"#33a6cc\", linestyle = '-', linewidth = 2, edgecolor=\"#33a6cc\", s=90.0)\n",
    "#plt.plot(boundary[3], boundary[2], c=\"r\", linestyle = '-', linewidth = 2)\n",
    "#plt.scatter(boundary[3], boundary[2], c=\"b\", linestyle = '-', linewidth = 2)\n",
    "plt.ylim((0,1600))\n",
    "plt.xlim((0,0.3))\n",
    "\n",
    "#fill in where the instability lies\n",
    "lower_bound = [0.0 for x in range(len(boundary[2]))]\n",
    "upper_bound = [20000000.0 for x in range(len(boundary[2]))]\n",
    "plt.fill_between(boundary_2[3], boundary_2[2], upper_bound, alpha=0.5, color='#999999')\n",
    "#plt.plot(boundary_0[3], boundary_0[2], c=\"grey\", linestyle = '--', linewidth = 2)\n",
    "#plt.plot(boundary_4[3], boundary_4[2], c=\"grey\", linestyle = '--', linewidth = 2)\n",
    "#plt.fill_between(boundary[3], upper_bound, lower_bound, alpha=0.5, color='r')\n",
    "\n",
    "#title and axis labels\n",
    "plt.tick_params(axis='both', labelsize=20)\n",
    "plt.title(\"Phase diagram\", y=1.05, fontdict = title_font)\n",
    "plt.savefig(\"depletion.png\", bbox_inches='tight')"
   ]
  },
  {
   "cell_type": "markdown",
   "metadata": {},
   "source": [
    "**Read data from file via pickle**"
   ]
  },
  {
   "cell_type": "code",
   "execution_count": 40,
   "metadata": {
    "collapsed": false
   },
   "outputs": [],
   "source": [
    "d_c = 1.0\n",
    "d_p = 0.45\n",
    "R_cp = 0.01\n",
    "l = 0.2364\n",
    "Z_c = 0.000000001\n",
    "BA = 0.000000001\n",
    "\n",
    "filename = \"data\\calculations\\spinodal-d_c=%f-d_p=%f-R_cp=%f-l=%f-Z_c=%f-BA=%f.csv\" % (d_c, d_p, R_cp, l, Z_c, BA)\n",
    "with open(filename, 'rb') as f:\n",
    "    boundary = pickle.load(f)"
   ]
  },
  {
   "cell_type": "markdown",
   "metadata": {},
   "source": [
    "###Extra functions\n",
    "\n",
    "---\n",
    "\n",
    "---\n",
    "\n",
    "---"
   ]
  },
  {
   "cell_type": "code",
   "execution_count": 39,
   "metadata": {
    "collapsed": false
   },
   "outputs": [],
   "source": [
    "plt.scatter?"
   ]
  },
  {
   "cell_type": "markdown",
   "metadata": {},
   "source": [
    "**Sizes**"
   ]
  },
  {
   "cell_type": "code",
   "execution_count": null,
   "metadata": {
    "collapsed": true
   },
   "outputs": [],
   "source": [
    "d_c = 1.0 #diameter of colloid\n",
    "d_p = 0.33 #diameter of the polymer (~2xR_G)"
   ]
  },
  {
   "cell_type": "markdown",
   "metadata": {},
   "source": [
    "**Colloid packing fraction**"
   ]
  },
  {
   "cell_type": "code",
   "execution_count": null,
   "metadata": {
    "collapsed": true
   },
   "outputs": [],
   "source": [
    "n_c = 0.05 #set volume fraction of the colloids"
   ]
  },
  {
   "cell_type": "markdown",
   "metadata": {},
   "source": [
    "**Number of polymers and ions per colloid**"
   ]
  },
  {
   "cell_type": "code",
   "execution_count": null,
   "metadata": {
    "collapsed": true
   },
   "outputs": [],
   "source": [
    "\n",
    "\n",
    "p_c = 6.0*n_c/(pi*d_c*d_c*d_c)\n",
    "p_p = 0.5*p_c\n",
    "p_pos = 10.0*p_c\n",
    "p_neg = 20.0*p_c\n",
    "\n",
    "\n",
    "p = \n",
    "x_c = \n",
    "x_p = \n"
   ]
  },
  {
   "cell_type": "code",
   "execution_count": 10,
   "metadata": {
    "collapsed": false
   },
   "outputs": [
    {
     "name": "stdout",
     "output_type": "stream",
     "text": [
      "hi\n",
      "3\n"
     ]
    }
   ],
   "source": [
    "i=3 \n",
    "\n",
    "def test_func(x):\n",
    "    x = 5\n",
    "    return \"hi\"\n",
    "    \n",
    "print test_func(i)\n",
    "\n",
    "print i"
   ]
  },
  {
   "cell_type": "code",
   "execution_count": 34,
   "metadata": {
    "collapsed": false
   },
   "outputs": [
    {
     "name": "stdout",
     "output_type": "stream",
     "text": [
      "hello\n"
     ]
    }
   ],
   "source": [
    "thingy = \"pp\"\n",
    "if thingy in [\"cc\", \"pp\", \"ss\"]:\n",
    "    print \"hello\"\n"
   ]
  },
  {
   "cell_type": "code",
   "execution_count": null,
   "metadata": {
    "collapsed": true
   },
   "outputs": [],
   "source": []
  },
  {
   "cell_type": "code",
   "execution_count": null,
   "metadata": {
    "collapsed": true
   },
   "outputs": [],
   "source": []
  },
  {
   "cell_type": "code",
   "execution_count": null,
   "metadata": {
    "collapsed": true
   },
   "outputs": [],
   "source": [
    "def calculate_f_ex_int(p, x_c, x_p, #state variables\n",
    "                        d_c, R_G, R_cp, BA, #system parameters\n",
    "                        g_AO #reference structure\n",
    "                        ):\n",
    "    \n",
    "    #some convenient transformations of the various inputs\n",
    "    #n_c = p*x_c*(pi/6.0)*(d_c**3.0)\n",
    "    #n_p = p*x_p*(4.0/3.0)*pi*(R_G**3.0)\n",
    "    #z_cp = ((4.0*R_G)/d_c)/(1.0 + (2.0*R_G)/d_c)\n",
    "    \n",
    "    #AO adjusted contact value\n",
    "    #g_AO = (1.0/(1.0-n_c-n_p)) + (g_HS - 1.0/(1.0-n_c-n_p))*z_cp\n",
    "    \n",
    "    #interfacial free energy contribution\n",
    "    f_ex_int = -4.0*pi*p*x_c*x_p*R_cp*((d_c/2.0 + R_G)**2.0)*g_AO*(exp(BA)-1.0)\n",
    "    \n",
    "    return f_ex_int"
   ]
  },
  {
   "cell_type": "code",
   "execution_count": null,
   "metadata": {
    "collapsed": true
   },
   "outputs": [],
   "source": [
    "def calculate_C(type_1, type_2, type_3)\n",
    "\n",
    "def calculate_B_3(type_1, type_2, type_3, d_c, R_G):\n",
    "    if type_1 == \"c\":\n",
    "        d_1 = d_c\n",
    "\n",
    "\n",
    "def calculate_f_ex_ao(p, x_c, x_p, #state variables\n",
    "                        d_c, R_G #system parameters\n",
    "                      ):\n",
    "    \n",
    "    #the dimensionless 2nd and 3rd hard sphere virial coefficients in 3D\n",
    "    b_2 = 4.0\n",
    "    b_3 = 10.0\n",
    "    \n",
    "    #various c parameters used to calculate the mixture virial coefficients\n",
    "    #colloid terms\n",
    "    C_c_cc = (b_3/b_2)*(d_c**3.0)\n",
    "    C_c_pp = (d_c + 2.0*R_G)**3.0\n",
    "    C_c_cp = (d_c**3.0) + (b_3/b_2 - 1.0)*((4.0*R_G*(d_c**3.0))/(d_c + 2.0*R_G))\n",
    "    #polymer_terms\n",
    "    C_p_cc = ((2.0*R_G)**3.0) + (b_3/b_2 - 1.0)*d_c*((2.0*R_G)**2.0)\n",
    "    C_p_pp = 0.0\n",
    "    C_p_cp = 0.0\n",
    "    \n",
    "    #calculate the various B parameters\n",
    "    \n",
    "    #some convenient transformations of the various inputs\n",
    "    p_c = p*x_c\n",
    "    p_p = p*x_p\n",
    "    X_c = p_c/(p_c + p_p)\n",
    "    X_p = p_p/(p_c + p_p)\n",
    "    n_c = p_c*(pi/6.0)*(d_c**3.0)\n",
    "    n_p = p_p*(4.0/3.0)*pi*(R_G**3.0)\n",
    "    Q = X_c*(d_c**3.0)\n",
    "    \n",
    "    #calculate the reference hard sphere excess free energy\n",
    "    f_ex_hs = calculate_f_ex_hs((n_c + n_p))\n",
    "    \n",
    "    #\n",
    "    f_ex_ao_lower = log(1.0 - n_c - n_p)*((b_3*Q*B_2 - b_2*B_3)/((b_3 - b_2)*(Q**2.0)))\n",
    "    f_ex_ao_upper = f_ex_hs*((B_3 - Q*B_2)/((b_3 - b_2)*(Q**2.0)))"
   ]
  },
  {
   "cell_type": "code",
   "execution_count": null,
   "metadata": {
    "collapsed": true
   },
   "outputs": [],
   "source": [
    "\n",
    "\n",
    "p_c = 6.0*n_c/(pi*d_c*d_c*d_c)\n",
    "p_p = 0.5*p_c\n",
    "p_pos = 10.0*p_c\n",
    "p_neg = 20.0*p_c\n",
    "\n",
    "\n",
    "p = \n",
    "x_c = \n",
    "x_p = \n"
   ]
  },
  {
   "cell_type": "code",
   "execution_count": 39,
   "metadata": {
    "collapsed": false
   },
   "outputs": [
    {
     "data": {
      "text/plain": [
       "True"
      ]
     },
     "execution_count": 39,
     "metadata": {},
     "output_type": "execute_result"
    }
   ],
   "source": [
    "4.0 < [1.0,1.2,1.0]"
   ]
  },
  {
   "cell_type": "code",
   "execution_count": 91,
   "metadata": {
    "collapsed": true
   },
   "outputs": [],
   "source": [
    "nd.Hessian?"
   ]
  },
  {
   "cell_type": "code",
   "execution_count": 102,
   "metadata": {
    "collapsed": false
   },
   "outputs": [],
   "source": [
    "nd.MinStepGenerator?"
   ]
  },
  {
   "cell_type": "code",
   "execution_count": 81,
   "metadata": {
    "collapsed": false
   },
   "outputs": [],
   "source": [
    "nd.MinStepGenerator.base_step=0.00001\n",
    "nd.MinStepGenerator.num_step=2"
   ]
  },
  {
   "cell_type": "code",
   "execution_count": 88,
   "metadata": {
    "collapsed": false
   },
   "outputs": [],
   "source": [
    "nd.core.MinStepGenerator.base_step=0.00001\n",
    "nd.core.MinStepGenerator.num_step=2"
   ]
  },
  {
   "cell_type": "code",
   "execution_count": 87,
   "metadata": {
    "collapsed": false
   },
   "outputs": [
    {
     "ename": "AttributeError",
     "evalue": "type object 'MinStepGenerator' has no attribute 'steps'",
     "output_type": "error",
     "traceback": [
      "\u001b[1;31m---------------------------------------------------------------------------\u001b[0m",
      "\u001b[1;31mAttributeError\u001b[0m                            Traceback (most recent call last)",
      "\u001b[1;32m<ipython-input-87-325f46c8150d>\u001b[0m in \u001b[0;36m<module>\u001b[1;34m()\u001b[0m\n\u001b[1;32m----> 1\u001b[1;33m \u001b[1;32mprint\u001b[0m \u001b[0mnd\u001b[0m\u001b[1;33m.\u001b[0m\u001b[0mMinStepGenerator\u001b[0m\u001b[1;33m.\u001b[0m\u001b[0msteps\u001b[0m\u001b[1;33m\u001b[0m\u001b[0m\n\u001b[0m",
      "\u001b[1;31mAttributeError\u001b[0m: type object 'MinStepGenerator' has no attribute 'steps'"
     ]
    }
   ],
   "source": [
    "print nd.MinStepGenerator.steps"
   ]
  },
  {
   "cell_type": "code",
   "execution_count": 104,
   "metadata": {
    "collapsed": false
   },
   "outputs": [
    {
     "name": "stdout",
     "output_type": "stream",
     "text": [
      "MinStepGenerator(scale=None,use_exact_steps=True,check_num_steps=True,num_steps=None,offset=0,num_extrap=0,step_ratio=2.0,base_step=1e-05)\n",
      "MinStepGenerator(scale=None,use_exact_steps=True,check_num_steps=True,num_steps=None,offset=0,num_extrap=0,step_ratio=2.0,base_step=1e-05)\n"
     ]
    }
   ],
   "source": [
    "hess_steps = nd.MinStepGenerator(base_step=0.00001, step_ratio=2.0)\n",
    "for k in range(2):\n",
    "    print hess_steps"
   ]
  },
  {
   "cell_type": "code",
   "execution_count": null,
   "metadata": {
    "collapsed": true
   },
   "outputs": [],
   "source": [
    "#################################################################################################"
   ]
  },
  {
   "cell_type": "code",
   "execution_count": null,
   "metadata": {
    "collapsed": true
   },
   "outputs": [],
   "source": [
    "def calculate_f_derivatives(element, Dp, p_c, p_p, p_s, d_c, d_p, l, Z_c, R_cp, BA): \n",
    "        \n",
    "    #perform calculations\n",
    "    if element in [\"cc\", \"pp\", \"ss\"]: \n",
    "        if element == \"cc\":\n",
    "            f_bck = calculate_f(p_c - Dp, p_p, p_s, d_c, d_p, l, Z_c, R_cp, BA, \"V\")\n",
    "            f_cen = calculate_f(p_c, p_p, p_s, d_c, d_p, l, Z_c, R_cp, BA, \"V\")\n",
    "            f_frd = calculate_f(p_c + Dp, p_p, p_s, d_c, d_p, l, Z_c, R_cp, BA, \"V\")\n",
    "        elif element == \"pp\":\n",
    "            f_bck = calculate_f(p_c, p_p - Dp, p_s, d_c, d_p, l, Z_c, R_cp, BA, \"V\")\n",
    "            f_cen = calculate_f(p_c, p_p, p_s, d_c, d_p, l, Z_c, R_cp, BA, \"V\")\n",
    "            f_frd = calculate_f(p_c, p_p + Dp, p_s, d_c, d_p, l, Z_c, R_cp, BA, \"V\")\n",
    "        elif element == \"ss\":\n",
    "            f_bck = calculate_f(p_c, p_p, p_s - Dp, d_c, d_p, l, Z_c, R_cp, BA, \"V\")\n",
    "            f_cen = calculate_f(p_c, p_p, p_s, d_c, d_p, l, Z_c, R_cp, BA, \"V\")\n",
    "            f_frd = calculate_f(p_c, p_p, p_s + Dp, d_c, d_p, l, Z_c, R_cp, BA, \"V\")\n",
    "            \n",
    "        d2f_pure = (f_bck - 2.0*f_cen + f_frd) / (Dp**2.0)\n",
    "        return d2f_pure\n",
    "    \n",
    "    elif element in [\"cp\", \"cs\", \"ps\"]:\n",
    "        if element == \"cp\":\n",
    "            f_frd_frd = calculate_f(p_c + Dp, p_p + Dp, p_s, d_c, d_p, l, Z_c, R_cp, BA, \"V\")\n",
    "            f_frd_bck = calculate_f(p_c + Dp, p_p - Dp, p_s, d_c, d_p, l, Z_c, R_cp, BA, \"V\")\n",
    "            f_bck_frd = calculate_f(p_c - Dp, p_p + Dp, p_s, d_c, d_p, l, Z_c, R_cp, BA, \"V\")\n",
    "            f_bck_bck = calculate_f(p_c - Dp, p_p - Dp, p_s, d_c, d_p, l, Z_c, R_cp, BA, \"V\")\n",
    "        elif element == \"cs\":\n",
    "            f_frd_frd = calculate_f(p_c + Dp, p_p, p_s + Dp, d_c, d_p, l, Z_c, R_cp, BA, \"V\")\n",
    "            f_frd_bck = calculate_f(p_c + Dp, p_p, p_s - Dp, d_c, d_p, l, Z_c, R_cp, BA, \"V\")\n",
    "            f_bck_frd = calculate_f(p_c - Dp, p_p, p_s + Dp, d_c, d_p, l, Z_c, R_cp, BA, \"V\")\n",
    "            f_bck_bck = calculate_f(p_c - Dp, p_p, p_s - Dp, d_c, d_p, l, Z_c, R_cp, BA, \"V\")\n",
    "        elif element == \"ps\":\n",
    "            f_frd_frd = calculate_f(p_c, p_p + Dp, p_s + Dp, d_c, d_p, l, Z_c, R_cp, BA, \"V\")\n",
    "            f_frd_bck = calculate_f(p_c, p_p + Dp, p_s - Dp, d_c, d_p, l, Z_c, R_cp, BA, \"V\")\n",
    "            f_bck_frd = calculate_f(p_c, p_p - Dp, p_s + Dp, d_c, d_p, l, Z_c, R_cp, BA, \"V\")\n",
    "            f_bck_bck = calculate_f(p_c, p_p - Dp, p_s - Dp, d_c, d_p, l, Z_c, R_cp, BA, \"V\")\n",
    "            \n",
    "        d2f_mixed = (f_frd_frd - f_frd_bck - f_bck_frd + f_bck_bck) / (4.0*(Dp**2.0))\n",
    "        return d2f_mixed\n",
    "    \n",
    "    else:\n",
    "        raise ValueError('Stability matrix element type not found')    "
   ]
  },
  {
   "cell_type": "code",
   "execution_count": null,
   "metadata": {
    "collapsed": true
   },
   "outputs": [],
   "source": [
    "def calculate_stability_determinant(Dp, p_c, p_p, p_s, #state variables\n",
    "                                    d_c, d_p, #particle sizes\n",
    "                                    l, Z_c, #ionic solution parameters \n",
    "                                    R_cp, BA #interfacial attraction parameters\n",
    "                                   ):\n",
    "    \n",
    "    #check to make sure the numerical derivative is defined\n",
    "    if((Dp < p_c) and (Dp < p_p) and (Dp < p_s)):\n",
    "    \n",
    "        #the six double derivatives (3 same and 3 mixed)\n",
    "            #same\n",
    "        d2f_cc = calculate_f_derivatives(\"cc\", Dp, p_c, p_p, p_s, d_c, d_p, l, Z_c, R_cp, BA)\n",
    "        d2f_pp = calculate_f_derivatives(\"pp\", Dp, p_c, p_p, p_s, d_c, d_p, l, Z_c, R_cp, BA)\n",
    "        d2f_ss = calculate_f_derivatives(\"ss\", Dp, p_c, p_p, p_s, d_c, d_p, l, Z_c, R_cp, BA)\n",
    "            #mixed\n",
    "        d2f_cp = calculate_f_derivatives(\"cp\", Dp, p_c, p_p, p_s, d_c, d_p, l, Z_c, R_cp, BA)\n",
    "        d2f_cs = calculate_f_derivatives(\"cs\", Dp, p_c, p_p, p_s, d_c, d_p, l, Z_c, R_cp, BA)\n",
    "        d2f_ps = calculate_f_derivatives(\"ps\", Dp, p_c, p_p, p_s, d_c, d_p, l, Z_c, R_cp, BA)\n",
    "            #using symmetry\n",
    "        d2f_pc = d2f_cp\n",
    "        d2f_sc = d2f_cs\n",
    "        d2f_sp = d2f_ps\n",
    "    \n",
    "        #build the 3x3 stability matrix as a numpy array and calculate the determinant \n",
    "        #logdet is used to avoid issues with a small determinant (such as when an instability is reached)\n",
    "        stability_matrix = array([[d2f_cc, d2f_cp, d2f_cs], [d2f_pc, d2f_pp, d2f_ps], [d2f_sc, d2f_sp, d2f_ss]])\n",
    "        (sign, logdet) = slogdet(stability_matrix)\n",
    "        stability_determinant = sign*exp(logdet)\n",
    "        \n",
    "        #return the stability determinant\n",
    "        return (stability_matrix, stability_determinant)\n",
    "        #return (stability_matrix, det(stability_matrix))\n",
    "    \n",
    "    #if the derivative is not defined the return a characteristic number for easy identification\n",
    "    else:\n",
    "        return 12345678910"
   ]
  },
  {
   "cell_type": "code",
   "execution_count": 61,
   "metadata": {
    "collapsed": false
   },
   "outputs": [
    {
     "ename": "ValueError",
     "evalue": "negative number cannot be raised to a fractional power",
     "output_type": "error",
     "traceback": [
      "\u001b[1;31m---------------------------------------------------------------------------\u001b[0m",
      "\u001b[1;31mValueError\u001b[0m                                Traceback (most recent call last)",
      "\u001b[1;32m<ipython-input-61-93855e21f927>\u001b[0m in \u001b[0;36m<module>\u001b[1;34m()\u001b[0m\n\u001b[1;32m----> 1\u001b[1;33m \u001b[1;33m(\u001b[0m\u001b[1;33m-\u001b[0m\u001b[1;36m8.0\u001b[0m\u001b[1;33m)\u001b[0m\u001b[1;33m**\u001b[0m\u001b[1;33m(\u001b[0m\u001b[1;36m1.\u001b[0m\u001b[1;33m/\u001b[0m\u001b[1;36m3\u001b[0m\u001b[1;33m)\u001b[0m\u001b[1;33m\u001b[0m\u001b[0m\n\u001b[0m",
      "\u001b[1;31mValueError\u001b[0m: negative number cannot be raised to a fractional power"
     ]
    }
   ],
   "source": [
    "(-8.0)**(1./3)"
   ]
  },
  {
   "cell_type": "code",
   "execution_count": null,
   "metadata": {
    "collapsed": true
   },
   "outputs": [],
   "source": [
    "######################################################################"
   ]
  },
  {
   "cell_type": "code",
   "execution_count": 45,
   "metadata": {
    "collapsed": true
   },
   "outputs": [],
   "source": [
    "def calculate_f_ex_ao_pure(p_c, p_p, #state variables\n",
    "                        d_c, d_p #system parameters\n",
    "                      ):\n",
    "    \n",
    "    vol = (d_c/2.0 + d_p/2.0)**3.0\n",
    "    \n",
    "    #calculate the needed densities\n",
    "    p = p_c + p_p\n",
    "    x_c = p_c/p\n",
    "    x_p = p_p/p\n",
    "    R_G = d_p/2.0\n",
    "    \n",
    "    #the effective volume fraction for use in the carnahan starling free energy\n",
    "    n_eff = (pi/6.0)*(p_c/(p_c + p_p))*(p_c*(d_c**3.0) + p_p*((d_c/2.0 + R_G)**3.0))\n",
    "    \n",
    "    #modified carnahan starling free energy\n",
    "    f_ex_ao = x_c*log(x_c) + x_p*log(x_p) + log(p*vol) - 1.0 + (-3.0 + 2.0/(1.0 - n_eff) + 1.0/((1.0 - n_eff)**2.0))\n",
    "    \n",
    "    return (p*f_ex_ao)"
   ]
  },
  {
   "cell_type": "code",
   "execution_count": 25,
   "metadata": {
    "collapsed": true
   },
   "outputs": [],
   "source": [
    "def calculate_f_ex_ao_fv(p_c, p_p, #state variables\n",
    "                        d_c, d_p #system parameters\n",
    "                      ):\n",
    "    \n",
    "    vol = (d_c/2.0 + d_p/2.0)**3.0\n",
    "    \n",
    "    #calculate the needed densities\n",
    "    n_c = (pi/6.0)*(d_c**3.0)*p_c\n",
    "    \n",
    "    #ratio\n",
    "    q = d_p/d_c\n",
    "    \n",
    "    #some params\n",
    "    A = 3.0*q + 3.0*(q**2.0) + q**3.0\n",
    "    B = (9.0/2.0)*(q**2.0) + 3.0*(q**3.0)\n",
    "    C = 3.0*(q**3.0)\n",
    "    \n",
    "    #modified carnahan starling free energy\n",
    "    f_hs_ex = p_c*(-3.0 + 2.0/(1.0 - n_c) + 1.0/((1.0 - n_c)**2.0))\n",
    "    f_hs = p_c*log(p_c) - p_c + f_hs_ex\n",
    "    f_ao_id = p_p*log(p_p) - p_p\n",
    "    w = -log(1.0 - n_c) + A*(n_c/(1.0 - n_c)) + B*((n_c/(1.0 - n_c))**2.0) + C*((n_c/(1.0 - n_c))**3.0) \n",
    "    f_ex_ao = p_p*w\n",
    "    \n",
    "    f_ao = f_hs + f_ao_id + f_ex_ao\n",
    "    \n",
    "    return f_ao"
   ]
  },
  {
   "cell_type": "code",
   "execution_count": 99,
   "metadata": {
    "collapsed": true
   },
   "outputs": [],
   "source": [
    "def calculate_stability_determinant_ao_pure(p_c, p_p, #state variables\n",
    "                                            d_c, d_p, #particle sizes\n",
    "                                            min_step #minimum step to use for hessian calculation\n",
    "                                           ):\n",
    "    \n",
    "    #calculate the hessian matrix\n",
    "    hess_steps = nd.MinStepGenerator(base_step=min_step, step_ratio=2.0, num_steps = 3)\n",
    "    calculate_hessian = lambda x: calculate_f_ex_ao_fv(x[0], x[1], d_c, d_p)\n",
    "    stability_matrix = nd.Hessian(calculate_hessian, step = hess_steps)([p_c, p_p])\n",
    "    \n",
    "    #build the 3x3 stability matrix as a numpy array and calculate the determinant \n",
    "    #logdet is used to avoid issues with a small determinant (such as when an instability is reached)\n",
    "    (sign, logdet) = slogdet(stability_matrix)\n",
    "    #stability_determinant = sign*exp(logdet)\n",
    "    #stability_determinant = sign*(exp(logdet)**(1.0/3.0))\n",
    "    stability_determinant = det(stability_matrix)\n",
    "        \n",
    "    #return the stability determinant\n",
    "    return (stability_matrix, stability_determinant)\n",
    "    #return (stability_matrix, det(stability_matrix))"
   ]
  },
  {
   "cell_type": "code",
   "execution_count": 101,
   "metadata": {
    "collapsed": false
   },
   "outputs": [
    {
     "name": "stdout",
     "output_type": "stream",
     "text": [
      "0.045\n",
      "(array([[ 117.21631256,    6.09887854],\n",
      "       [   6.09887854,    0.31415926]]), -0.37172883369891219)\n"
     ]
    }
   ],
   "source": [
    "d_c = 1.0 #1.0\n",
    "d_p = 0.3 #0.3\n",
    "\n",
    "n_c = 0.5\n",
    "n_p = 0.045\n",
    "\n",
    "p_c = 6.0*n_c/(pi*d_c*d_c*d_c)\n",
    "p_p = 6.0*n_p/(pi*d_p*d_p*d_p)\n",
    "\n",
    "min_step= 0.001\n",
    "\n",
    "print (pi/6.0)*p_p*(d_p**3.0)\n",
    "\n",
    "print calculate_stability_determinant_ao_pure(p_c, p_p, d_c, d_p, min_step)\n"
   ]
  },
  {
   "cell_type": "code",
   "execution_count": 103,
   "metadata": {
    "collapsed": false
   },
   "outputs": [
    {
     "name": "stdout",
     "output_type": "stream",
     "text": [
      "2.33917816195\n",
      "165.463007665\n",
      "0.0477464829276\n",
      "3465.44912881\n"
     ]
    }
   ],
   "source": [
    "d_c = 1.0 #1.0\n",
    "d_p = 0.3 #0.3\n",
    "\n",
    "n_c = 0.025\n",
    "\n",
    "t_1 = 1.0 - n_c\n",
    "t_2 = 1.0 + 2.0*n_c\n",
    "q = d_p/d_c\n",
    "\n",
    "n_p_s = (((t_1**4.0)*t_2)/n_c)/(12.0*(t_1**3.0) + 15.0*q*(t_1**2.0)*t_2 + 6.0*(q**2.0)*t_1*(t_2**2.0) + (q**3.0)*(t_2**3.0))\n",
    "print n_p_s\n",
    "print 6.0*n_p_s/(pi*d_p*d_p*d_p)\n",
    "print 6.0*n_c/(pi*d_c*d_c*d_c)\n",
    "print (6.0*n_p_s/(pi*d_p*d_p*d_p)) / (6.0*n_c/(pi*d_c*d_c*d_c))"
   ]
  },
  {
   "cell_type": "code",
   "execution_count": null,
   "metadata": {
    "collapsed": true
   },
   "outputs": [],
   "source": []
  },
  {
   "cell_type": "code",
   "execution_count": null,
   "metadata": {
    "collapsed": true
   },
   "outputs": [],
   "source": [
    "    a = stability_matrix[0][0]\n",
    "    b = stability_matrix[0][1]\n",
    "    c = stability_matrix[0][2]\n",
    "    d = stability_matrix[1][1]\n",
    "    e = stability_matrix[1][2]\n",
    "    f = stability_matrix[2][2]\n",
    "    \n",
    "    stability_determinant = a*(d*f - e*e) + b*(c*e - b*f) + c*(b*e - d*c)"
   ]
  },
  {
   "cell_type": "code",
   "execution_count": null,
   "metadata": {
    "collapsed": true
   },
   "outputs": [],
   "source": [
    "#takes as input the desired volume fraction and the gr data in dataframe format\n",
    "#and linearly interpolates between the two nearest stored volume fractions\n",
    "def calculate_rdf(eta, d):\n",
    "    global rdf_current #need to make this global since we need to modify it\n",
    "    rdf = pd.DataFrame()\n",
    "    \n",
    "    if eta in rdf_current.columns: #use the stored version so as to not compute it more than needed\n",
    "        rdf[\"gr\"] = rdf_current[eta]\n",
    "        rdf[\"r\"] = d*rdf_data[\"r\"]\n",
    "        return rdf\n",
    "    else: #empty out the stored rdf and generate a new one\n",
    "        rdf_current = pd.DataFrame()\n",
    "        eta_inc = rdf_data.columns[1] #store the eta increment\n",
    "        eta_max = rdf_data.columns[-2] #store the maximum eta to check if overstepped\n",
    "        upper_index = int(eta / eta_inc) + 1 #for storing the nearest low and high volume fractions\n",
    "        lower_index = int(eta / eta_inc)\n",
    "        if eta >= eta_max:\n",
    "            print \"error: eta is too large to calculate!\"\n",
    "            return rdf\n",
    "        try:\n",
    "            eta_upper = rdf_data.columns[upper_index] #grab the lower and upper packing fractions for interpolation\n",
    "            eta_lower = rdf_data.columns[lower_index]\n",
    "        except:\n",
    "            print \"error: something went wrong with rdf calculation!\"\n",
    "            return rdf\n",
    "        #create the interpolated rdf\n",
    "        rdf[\"gr\"] = ((eta_upper - eta)/(eta_upper - eta_lower))*rdf_data[eta_lower] + ((eta - eta_lower)/(eta_upper - eta_lower))*rdf_data[eta_upper]\n",
    "        rdf[\"r\"] = d*rdf_data[\"r\"]\n",
    "        rdf_current[eta] = rdf[\"gr\"][:]\n",
    "        return rdf"
   ]
  },
  {
   "cell_type": "code",
   "execution_count": null,
   "metadata": {
    "collapsed": true
   },
   "outputs": [],
   "source": []
  },
  {
   "cell_type": "markdown",
   "metadata": {},
   "source": [
    "###RETIRED FUNCTIONS STORED HERE"
   ]
  },
  {
   "cell_type": "markdown",
   "metadata": {},
   "source": [
    "###Calculate the effective volume fraction factor according to Hamad's theory to get effective RDF to be used for the two perturbative free energy terms\n",
    "\n",
    "---"
   ]
  },
  {
   "cell_type": "code",
   "execution_count": null,
   "metadata": {
    "collapsed": true
   },
   "outputs": [],
   "source": [
    "#evaluate the volume fraction factor for calculating the colloid-colloid AO RDF\n",
    "def calculate_n_scale(components, p_c, p_p, #state variables  \n",
    "                   d_c, d_p #system parameters\n",
    "                  ):\n",
    "    \n",
    "    #set the needed parameters to compute the scale parameter\n",
    "    b_2 = 4.0\n",
    "    b_3 = 10.0\n",
    "    Q = p_c*(d_c**3.0)\n",
    "    \n",
    "    #detect if for colloid-colloid or colloid-polymer\n",
    "    #note: the x_c and x_p used should technically should sum to unity\n",
    "    #but it does not matter due to the division step (see Santos paper for definitions)\n",
    "    if components == \"cc\":\n",
    "        C_c_cc = (b_3/b_2)*(d_c**3.0)\n",
    "        C_p_cc = (d_p**3.0) + (b_3/b_2 - 1.0)*d_c*(d_p**2.0)\n",
    "        w_cc = (b_2/b_3)*(p_c*C_c_cc + p_p*C_p_cc)/Q\n",
    "        return w_cc\n",
    "    elif components == \"cp\":\n",
    "        C_c_cp = (d_c**3.0) + (b_3/b_2 - 1.0)*((2.0*d_p*(d_c**3.0))/(d_c + d_p))\n",
    "        C_p_cp = 0.0\n",
    "        w_cp = (b_2/b_3)*(p_c*C_c_cp + p_p*C_p_cp)/Q\n",
    "        return w_cp\n",
    "    \n",
    "    #return a zero if no coded type used\n",
    "    return 0"
   ]
  },
  {
   "cell_type": "markdown",
   "metadata": {},
   "source": [
    "**Checking for scale invariance DLVO**"
   ]
  },
  {
   "cell_type": "code",
   "execution_count": null,
   "metadata": {
    "collapsed": true
   },
   "outputs": [],
   "source": [
    "d_c = 1.0\n",
    "d_p = 0.30\n",
    "l = 0.1 \n",
    "Z_c = 100.0\n",
    "\n",
    "n_c = 0.025\n",
    "\n",
    "p_c = 6.0*n_c/(pi*d_c*d_c*d_c)\n",
    "p_p = 0.5*p_c\n",
    "p_pos = 10.0*p_c\n",
    "p_neg = 20.0*p_c\n",
    "p = p_c + p_p + p_pos + p_neg\n",
    "\n",
    "#(OLD VALUES FOR 1/N f CALC)\n",
    "#p = p_c + p_p + p_pos + p_neg\n",
    "#x_c = p_c/p\n",
    "#x_p = p_p/p\n",
    "#x_pos = p_pos/p\n",
    "#x_neg = p_neg/p\n",
    "\n",
    "#calculate the free energy contribution\n",
    "calculate_f_ex_dlvo(p_c, p_pos, p_neg, l, Z_c, d_c, d_p)/p #(NEED 1/p TO COMPARE TO OLD VALUES)\n",
    "#-17.67148544525654 (OLD VALUE WITH NO PERT)\n",
    "#-18.025917790970816 (OLD VALUE WITH PERT)"
   ]
  },
  {
   "cell_type": "markdown",
   "metadata": {},
   "source": [
    "**Checking for scale invariance INT**"
   ]
  },
  {
   "cell_type": "code",
   "execution_count": null,
   "metadata": {
    "collapsed": true
   },
   "outputs": [],
   "source": [
    "d_c = 1.0 #1.0\n",
    "d_p = 0.30 #0.3\n",
    "R_cp = 0.01 #0.05\n",
    "BA = 13.0\n",
    "\n",
    "n_c = 0.025\n",
    "\n",
    "p_c = 6.0*n_c/(pi*d_c*d_c*d_c)\n",
    "p_p = 0.5*p_c\n",
    "p_pos = 10.0*p_c\n",
    "p_neg = 20.0*p_c\n",
    "\n",
    "p = p_c + p_p + p_pos + p_neg\n",
    "x_c = p_c/p\n",
    "x_p = p_p/p\n",
    "x_pos = p_pos/p\n",
    "x_neg = p_neg/p\n",
    "\n",
    "\n",
    "calculate_f_ex_int(p_c, p_p, d_c, d_p, R_cp, BA)/p\n",
    "\n",
    "#-18.577585661644907 (OLD VALUE)"
   ]
  },
  {
   "cell_type": "markdown",
   "metadata": {},
   "source": [
    "**Checking for scale invariance AO**"
   ]
  },
  {
   "cell_type": "code",
   "execution_count": null,
   "metadata": {
    "collapsed": true
   },
   "outputs": [],
   "source": [
    "d_c = 5.0 #1.0\n",
    "d_p = 1.5 #0.3\n",
    "\n",
    "n_c = 0.4\n",
    "n_p = 0.108\n",
    "\n",
    "p_c = 6.0*n_c/(pi*d_c*d_c*d_c)\n",
    "p_p = 6.0*n_p/(pi*d_p*d_p*d_p)\n",
    "\n",
    "calculate_f_ex_ao(p_c, p_p, #state variables\n",
    "                      d_c, d_p #system parameters\n",
    "                      )/(p_c + p_p)\n",
    "\n",
    "#1.6908515771610024"
   ]
  },
  {
   "cell_type": "code",
   "execution_count": null,
   "metadata": {
    "collapsed": true
   },
   "outputs": [],
   "source": []
  },
  {
   "cell_type": "code",
   "execution_count": null,
   "metadata": {
    "collapsed": true
   },
   "outputs": [],
   "source": []
  },
  {
   "cell_type": "code",
   "execution_count": null,
   "metadata": {
    "collapsed": true
   },
   "outputs": [],
   "source": []
  },
  {
   "cell_type": "code",
   "execution_count": null,
   "metadata": {
    "collapsed": true
   },
   "outputs": [],
   "source": [
    "def calculate_spinodal_boundary(p_c_low, p_c_hi, p_c_inc, p_p_low, p_p_hi, p_p_inc, #state variables for grid search\n",
    "                    p_s, #state variables held fixed\n",
    "                    d_c, d_p, #particle sizes\n",
    "                    l, Z_c, #ionic solution parameters \n",
    "                    R_cp, BA, #interfacial attraction parameters\n",
    "                    min_step #minimum step to use for hessian calculation\n",
    "                    ):\n",
    "    \n",
    "    #list for storing the boundary\n",
    "    boundary = [[],[],[]]\n",
    "    \n",
    "    #sample the grid points\n",
    "    p_p = p_p_low\n",
    "    while p_p < p_p_hi:\n",
    "        p_c = p_c_low\n",
    "        determinant_previous = 0.0001\n",
    "        while p_c < p_c_hi:\n",
    "            determinant = calculate_stability_determinant(p_c, p_p, p_s, d_c, d_p, l, Z_c, R_cp, BA, min_step)[1]\n",
    "            if (determinant < 0.0) and (determinant_previous > 0.0):\n",
    "                boundary[1].append(p_p)\n",
    "                boundary[2].append(p_p/p_c)\n",
    "                slope = (determinant - determinant_previous)/p_c_inc\n",
    "                intercept = determinant - slope*p_c\n",
    "                p_c_spinodal = -intercept/slope\n",
    "                boundary[0].append(p_c_spinodal)\n",
    "                break\n",
    "            p_c = p_c + p_c_inc\n",
    "            determinant_previous = determinant\n",
    "        p_p = p_p + p_p_inc\n",
    "    \n",
    "    return boundary"
   ]
  },
  {
   "cell_type": "code",
   "execution_count": null,
   "metadata": {
    "collapsed": true
   },
   "outputs": [],
   "source": [
    "#this is the up-down version\n",
    "def calculate_spinodal_boundary(p_c_low, p_c_hi, p_c_inc, p_p_low, p_p_hi, p_p_inc, #state variables for grid search\n",
    "                    p_s, #state variables held fixed\n",
    "                    d_c, d_p, #particle sizes\n",
    "                    l, Z_c, #ionic solution parameters \n",
    "                    R_cp, BA, #interfacial attraction parameters\n",
    "                    min_step #minimum step to use for hessian calculation\n",
    "                    ):\n",
    "    \n",
    "    #lists for storing the grid points classified as stable and unstable \n",
    "    boundary = [[],[],[]]\n",
    "    \n",
    "    #sample the grid points\n",
    "    p_c = p_c_low\n",
    "    while p_c < p_c_hi:\n",
    "        p_p = p_p_low\n",
    "        determinant_previous = 0.0001\n",
    "        while p_p < p_p_hi:\n",
    "            determinant = calculate_stability_determinant(p_c, p_p, p_s, d_c, d_p, l, Z_c, R_cp, BA, min_step)[1]\n",
    "            if (determinant < 0.0) and (determinant_previous > 0.0):\n",
    "                boundary[0].append(p_c)\n",
    "                slope = (determinant - determinant_previous)/p_p_inc\n",
    "                intercept = determinant - slope*p_p\n",
    "                p_p_spinodal = -intercept/slope\n",
    "                boundary[1].append(p_p_spinodal)\n",
    "                boundary[2].append(p_p_spinodal/p_c)\n",
    "                break\n",
    "            p_p = p_p + p_p_inc\n",
    "            determinant_previous = determinant\n",
    "        p_c = p_c + p_c_inc\n",
    "    \n",
    "    return boundary"
   ]
  },
  {
   "cell_type": "code",
   "execution_count": null,
   "metadata": {
    "collapsed": true
   },
   "outputs": [],
   "source": []
  },
  {
   "cell_type": "code",
   "execution_count": null,
   "metadata": {
    "collapsed": true
   },
   "outputs": [],
   "source": []
  },
  {
   "cell_type": "code",
   "execution_count": 27,
   "metadata": {
    "collapsed": true
   },
   "outputs": [],
   "source": [
    "#loop to be parallelized for incrementing over colloid density\n",
    "def iterate_over_c(p_c_low, p_c_hi, p_c_inc, g_pc, #state variables for grid search\n",
    "                    p_s, #state variables held fixed\n",
    "                    d_c, d_p, #particle sizes\n",
    "                    l, Z_c, #ionic solution parameters \n",
    "                    R_cp, BA, #interfacial attraction parameters\n",
    "                    min_step #minimum step to use for hessian calculation\n",
    "                    ):\n",
    "    \n",
    "    boundary = [[],[],[],[],[]]\n",
    "    \n",
    "    p_c = p_c_low\n",
    "    determinant_previous = 0.0001\n",
    "    while p_c < p_c_hi:\n",
    "            p_p = g_pc * p_c \n",
    "            determinant = calculate_stability_determinant(p_c, p_p, p_s, d_c, d_p, l, Z_c, R_cp, BA, min_step)[1]\n",
    "            if (determinant < 0.0) and (determinant_previous > 0.0):\n",
    "                slope = (determinant - determinant_previous)/p_c_inc\n",
    "                intercept = determinant - slope*p_c\n",
    "                p_c_spinodal = -intercept/slope\n",
    "                p_p_spinodal = g_pc*p_c_spinodal\n",
    "                boundary[0].append(p_c_spinodal)\n",
    "                boundary[1].append(p_p_spinodal)\n",
    "                boundary[2].append(p_p_spinodal/p_c_spinodal)\n",
    "                boundary[3].append(((pi/6.0)*d_c*d_c*d_c)*p_c_spinodal)\n",
    "                boundary[4].append(((pi/6.0)*d_p*d_p*d_p)*p_p_spinodal)\n",
    "            elif (determinant > 0.0) and (determinant_previous < 0.0):\n",
    "                slope = (determinant - determinant_previous)/p_c_inc\n",
    "                intercept = determinant - slope*p_c\n",
    "                p_c_spinodal = -intercept/slope\n",
    "                p_p_spinodal = g_pc*p_c_spinodal\n",
    "                boundary[0].append(p_c_spinodal)\n",
    "                boundary[1].append(p_p_spinodal)\n",
    "                boundary[2].append(p_p_spinodal/p_c_spinodal)\n",
    "                boundary[3].append(((pi/6.0)*d_c*d_c*d_c)*p_c_spinodal)\n",
    "                boundary[4].append(((pi/6.0)*d_p*d_p*d_p)*p_p_spinodal)\n",
    "                break\n",
    "                \n",
    "    return boundary\n",
    "\n",
    "\n",
    "class iterate_over_c_class(object):\n",
    "    def __init__(self, p_c_low, p_c_hi, p_c_inc, p_s, d_c, d_p, l, Z_c, R_cp, BA, min_step):\n",
    "        self.p_c_low = p_c_low\n",
    "        self.p_c_hi = p_c_hi\n",
    "        self.p_c_inc = p_c_inc\n",
    "        self.p_s = p_s\n",
    "        self.d_c = d_c\n",
    "        self.d_p = d_p\n",
    "        self.l = l\n",
    "        self.Z_c = Z_c\n",
    "        self.R_cp = R_cp\n",
    "        self.BA = BA\n",
    "        self.min_step = min_step\n",
    "    def __call__(self, src):\n",
    "        iterate_over_c(self.p_c_low, self.p_c_hi, self.p_c_inc, src, self.p_s, self.d_c, self.d_p, self.l, self.Z_c, self.R_cp, self.BA, self.min_step)\n",
    "\n",
    "\n",
    "\n",
    "#explicitly finds the spinodal boundary only\n",
    "def calculate_spinodal_boundary_ratio_parallelized(p_c_low, p_c_hi, p_c_inc, g_pc_low, g_pc_hi, g_pc_inc, #state variables for grid search\n",
    "                    p_s, #state variables held fixed\n",
    "                    d_c, d_p, #particle sizes\n",
    "                    l, Z_c, #ionic solution parameters \n",
    "                    R_cp, BA, #interfacial attraction parameters\n",
    "                    min_step #minimum step to use for hessian calculation\n",
    "                    ):\n",
    "    \n",
    "    #fetch a pool of workers\n",
    "    num_processors = 3\n",
    "    pool = Pool(num_processors)\n",
    "    \n",
    "    #create polymer/colloid ratio list to iterate over via multiprocessing\n",
    "    g_pc_list = []\n",
    "    g_pc = g_pc_low\n",
    "    while g_pc < g_pc_hi:\n",
    "        g_pc_list.append(g_pc)\n",
    "        g_pc = g_pc + g_pc_inc \n",
    "    \n",
    "    #sample the various polymer/colloid ratios over multiple processors\n",
    "    boundary = pool.map(iterate_over_c_class(p_c_low, p_c_hi, p_c_inc, p_s, d_c, d_p, l, Z_c, R_cp, BA, min_step), g_pc_list)\n",
    "             \n",
    "        \n",
    "    #sort from smallest to largest\n",
    "    #zipped_list = zip(boundary[0][:], boundary[1][:], boundary[2][:], boundary[3][:], boundary[4][:])\n",
    "    #boundary[0], boundary[1], boundary[2], boundary[3], boundary[4] = zip(*sorted(zipped_list[:]))\n",
    "    \n",
    "    return boundary"
   ]
  },
  {
   "cell_type": "code",
   "execution_count": null,
   "metadata": {
    "collapsed": false
   },
   "outputs": [],
   "source": [
    "#parameters\n",
    "d_c = 1.0\n",
    "d_p = 0.45\n",
    "R_cp = 0.01\n",
    "l = 0.2364\n",
    "Z_c = 0.000000001\n",
    "BA = 0.000000001 #3.5 #3.5 \n",
    "\n",
    "#colloid\n",
    "n_c_low = 0.01\n",
    "n_c_hi = 0.6\n",
    "n_c_inc = 0.01\n",
    "#polymer\n",
    "g_pc_low = 1.0\n",
    "g_pc_hi = 300.0\n",
    "g_pc_inc = 0.5\n",
    "\n",
    "#recalculate in terms of densities\n",
    "p_c_low = 6.0*n_c_low/(pi*d_c*d_c*d_c)\n",
    "p_c_hi = 6.0*n_c_hi/(pi*d_c*d_c*d_c)\n",
    "p_c_inc = 6.0*n_c_inc/(pi*d_c*d_c*d_c)\n",
    "\n",
    "#salt\n",
    "p_s = 0.01\n",
    "\n",
    "min_step= 0.001 #0.001\n",
    "boundary_2 = calculate_spinodal_boundary_ratio_parallelized(p_c_low, p_c_hi, p_c_inc, g_pc_low, g_pc_hi, g_pc_inc, p_s, d_c, d_p, l, Z_c, R_cp, BA, min_step)"
   ]
  },
  {
   "cell_type": "code",
   "execution_count": null,
   "metadata": {
    "collapsed": false
   },
   "outputs": [],
   "source": [
    "if __name__ == '__main__': \n",
    "    d_c = 1.0\n",
    "    d_p = 0.45\n",
    "    R_cp = 0.01\n",
    "    l = 0.2364\n",
    "    Z_c = 0.000000001\n",
    "    BA = 0.000000001 #3.5 #3.5 \n",
    "\n",
    "    #colloid\n",
    "    n_c_low = 0.01\n",
    "    n_c_hi = 0.6\n",
    "    n_c_inc = 0.01\n",
    "    #polymer\n",
    "    g_pc_low = 1.0\n",
    "    g_pc_hi = 300.0\n",
    "    g_pc_inc = 0.5\n",
    "\n",
    "    #recalculate in terms of densities\n",
    "    p_c_low = 6.0*n_c_low/(pi*d_c*d_c*d_c)\n",
    "    p_c_hi = 6.0*n_c_hi/(pi*d_c*d_c*d_c)\n",
    "    p_c_inc = 6.0*n_c_inc/(pi*d_c*d_c*d_c)\n",
    "\n",
    "    #salt\n",
    "    p_s = 0.01\n",
    "\n",
    "    min_step= 0.001 #0.001\n",
    "    boundary_2 = calculate_spinodal_boundary_ratio_parallelized(p_c_low, p_c_hi, p_c_inc, g_pc_low, g_pc_hi, g_pc_inc, p_s, d_c, d_p, l, Z_c, R_cp, BA, min_step)"
   ]
  },
  {
   "cell_type": "code",
   "execution_count": null,
   "metadata": {
    "collapsed": true
   },
   "outputs": [],
   "source": []
  },
  {
   "cell_type": "code",
   "execution_count": null,
   "metadata": {
    "collapsed": true
   },
   "outputs": [],
   "source": []
  },
  {
   "cell_type": "code",
   "execution_count": 203,
   "metadata": {
    "collapsed": false
   },
   "outputs": [
    {
     "name": "stdout",
     "output_type": "stream",
     "text": [
      "(-79377.57607179083, 1117.4135357688358, -3.1809106314700935, 1.4752968953529773)\n"
     ]
    }
   ],
   "source": [
    "d_c = 1.0\n",
    "l = 0.2364 \n",
    "Z_c = 600.0\n",
    "\n",
    "n_c = 0.5\n",
    "\n",
    "p_c = 6.0*n_c/(pi*d_c*d_c*d_c)\n",
    "p_s = 900.1\n",
    "p_pos = p_s\n",
    "p_neg = p_pos + Z_c*p_c #charge neutrality condition\n",
    "\n",
    "print calculate_f_ex_dlvo(p_c, p_pos, p_neg, #state variables\n",
    "                        l, Z_c, d_c, d_p #system parameters\n",
    "                        )"
   ]
  },
  {
   "cell_type": "code",
   "execution_count": 59,
   "metadata": {
    "collapsed": false
   },
   "outputs": [
    {
     "data": {
      "text/plain": [
       "53.71900826446281"
      ]
     },
     "execution_count": 59,
     "metadata": {},
     "output_type": "execute_result"
    }
   ],
   "source": [
    "(-150.52516851565588, -0.31049082135677597, 0.026188181729252667)\n",
    "(-123.48041990457435, -4.878175679480389, 0.29439203577686368)\n",
    "\n",
    "(-381.96186368234146, 38.880943881134534)\n",
    "(-3.8197185342054905, 1.9281036764427644)\n",
    "(-1.9249317803156538, 1.9281036764427644)"
   ]
  },
  {
   "cell_type": "code",
   "execution_count": 65,
   "metadata": {
    "collapsed": false
   },
   "outputs": [
    {
     "data": {
      "text/plain": [
       "53.73419290850484"
      ]
     },
     "execution_count": 65,
     "metadata": {},
     "output_type": "execute_result"
    }
   ],
   "source": [
    "\n",
    "(-1.5486877516377005e-07, 1.55389277938373e-07)"
   ]
  },
  {
   "cell_type": "code",
   "execution_count": null,
   "metadata": {
    "collapsed": true
   },
   "outputs": [],
   "source": []
  },
  {
   "cell_type": "code",
   "execution_count": null,
   "metadata": {
    "collapsed": true
   },
   "outputs": [],
   "source": []
  },
  {
   "cell_type": "code",
   "execution_count": 24,
   "metadata": {
    "collapsed": true
   },
   "outputs": [],
   "source": [
    "#performs grid search and labels each point as stable or unstable\n",
    "def calculate_spinodal_salt(p_c_low, p_c_hi, p_c_inc, p_s_low, p_s_hi, p_s_inc, #state variables for grid search\n",
    "                    p_p, #state variables held fixed\n",
    "                    d_c, d_p, #particle sizes\n",
    "                    l, Z_c, #ionic solution parameters \n",
    "                    R_cp, BA, #interfacial attraction parameters\n",
    "                    min_step #minimum step to use for hessian calculation\n",
    "                    ):\n",
    "    \n",
    "    #lists for storing the grid points classified as stable and unstable \n",
    "    stable = [[],[],[],[]]\n",
    "    unstable = [[],[],[],[]]\n",
    "    \n",
    "    #sample the grid points\n",
    "    p_c = p_c_low\n",
    "    while p_c < p_c_hi:\n",
    "        p_s = p_s_low\n",
    "        while p_s < p_s_hi:\n",
    "            determinant = calculate_stability_determinant(p_c, p_p, p_s, d_c, d_p, l, Z_c, R_cp, BA, min_step)[1]\n",
    "            if determinant < 0.0:\n",
    "                unstable[0].append(p_c)\n",
    "                unstable[1].append(p_s)\n",
    "                unstable[2].append(p_s/p_c)\n",
    "                unstable[3].append(((pi/6.0)*d_c*d_c*d_c)*p_c)\n",
    "            else:\n",
    "                stable[0].append(p_c)\n",
    "                stable[1].append(p_s)\n",
    "                stable[2].append(p_s/p_c)\n",
    "                stable[3].append(((pi/6.0)*d_c*d_c*d_c)*p_c)\n",
    "            p_s = p_s + p_s_inc\n",
    "            #print p_s\n",
    "        p_c = p_c + p_c_inc\n",
    "        #print p_c\n",
    "    \n",
    "    return (stable, unstable)"
   ]
  },
  {
   "cell_type": "code",
   "execution_count": 34,
   "metadata": {
    "collapsed": false
   },
   "outputs": [],
   "source": [
    "#parameters\n",
    "d_c = 1.0\n",
    "d_p = 0.45\n",
    "R_cp = 0.01\n",
    "l = 0.2364\n",
    "Z_c = 45.0\n",
    "BA = 0.000000001\n",
    "\n",
    "#colloid\n",
    "n_c_low = 0.05 #0.005\n",
    "n_c_hi = 0.4\n",
    "n_c_inc = 0.05 #0.005\n",
    "\n",
    "n_p = 0.001\n",
    "\n",
    "#recalculate in terms of densities\n",
    "p_c_low = 6.0*n_c_low/(pi*d_c*d_c*d_c)\n",
    "p_c_hi = 6.0*n_c_hi/(pi*d_c*d_c*d_c)\n",
    "p_c_inc = 6.0*n_c_inc/(pi*d_c*d_c*d_c)\n",
    "p_s_low = 0.5\n",
    "p_s_hi = 20.0\n",
    "p_s_inc = 0.5\n",
    "\n",
    "p_p = 0.01\n",
    "\n",
    "min_step= 0.001 #0.001\n",
    "stable, unstable = calculate_spinodal_salt(p_c_low, p_c_hi, p_c_inc, p_s_low, p_s_hi, p_s_inc, p_p, d_c, d_p, l, Z_c, R_cp, BA, min_step)"
   ]
  },
  {
   "cell_type": "code",
   "execution_count": 36,
   "metadata": {
    "collapsed": false
   },
   "outputs": [
    {
     "data": {
      "text/plain": [
       "<matplotlib.text.Text at 0x173a1668>"
      ]
     },
     "execution_count": 36,
     "metadata": {},
     "output_type": "execute_result"
    },
    {
     "data": {
      "image/png": "[encoded data removed]",
      "text/plain": [
       "<matplotlib.figure.Figure at 0x16c3b4e0>"
      ]
     },
     "metadata": {},
     "output_type": "display_data"
    }
   ],
   "source": [
    "#font scpecifications\n",
    "title_font = {'family' : 'arial', 'color'  : 'black', 'weight' : 'heavy','size': 20}\n",
    "axis_label_font = {'family' : 'arial', 'color'  : 'black', 'weight' : 'normal','size': 20}\n",
    "\n",
    "#figure size and tick style\n",
    "plt.rcParams[\"figure.figsize\"] = [6,6]\n",
    "plt.rc('axes',edgecolor='black',linewidth=1)\n",
    "plt.tick_params(which='both', axis='both', color='black', length=4, width=0.5)\n",
    "plt.rcParams['xtick.direction'] = 'in'\n",
    "plt.rcParams['ytick.direction'] = 'in'\n",
    "\n",
    "\n",
    "plt.xlabel('Colloid volume fraction', fontsize=20, fontdict = axis_label_font)\n",
    "plt.ylabel('Polymer volume fraction', fontsize=20, fontdict = axis_label_font)\n",
    "plt.scatter(stable[3], stable[1], c=\"b\", marker=\"s\", s=40, alpha=0.3, linewidths=0.0)\n",
    "plt.scatter(unstable[3],unstable[1], c=\"g\", marker=\"s\", s=40, alpha=0.8, linewidths=0.0)\n",
    "plt.ylim((0,15))\n",
    "plt.xlim((0,0.35))\n",
    "\n",
    "#title and axis labels\n",
    "plt.tick_params(axis='both', labelsize=20)\n",
    "plt.title(\"Stability phase diagram\", y=1.05, fontdict = title_font)"
   ]
  },
  {
   "cell_type": "code",
   "execution_count": null,
   "metadata": {
    "collapsed": true
   },
   "outputs": [],
   "source": []
  }
 ],
 "metadata": {
  "anaconda-cloud": {},
  "kernelspec": {
   "display_name": "Python [Root]",
   "language": "python",
   "name": "Python [Root]"
  },
  "language_info": {
   "codemirror_mode": {
    "name": "ipython",
    "version": 2
   },
   "file_extension": ".py",
   "mimetype": "text/x-python",
   "name": "python",
   "nbconvert_exporter": "python",
   "pygments_lexer": "ipython2",
   "version": "2.7.12"
  }
 },
 "nbformat": 4,
 "nbformat_minor": 0
}
