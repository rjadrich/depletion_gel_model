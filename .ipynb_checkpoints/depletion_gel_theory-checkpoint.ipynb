{
 "cells": [
  {
   "cell_type": "markdown",
   "metadata": {},
   "source": [
    "#Theoretical model for a mixture of charged colloids, with counterions and salt and a polymer depletant\n",
    "\n",
    "**General notes**:\n",
    "  1. This model works with free energies that have been non-dimensionalized by the thermal energy and are divided by the total number of particles  \n"
   ]
  },
  {
   "cell_type": "markdown",
   "metadata": {},
   "source": [
    "###Required imports\n",
    "\n",
    "---"
   ]
  },
  {
   "cell_type": "code",
   "execution_count": 29,
   "metadata": {
    "collapsed": false
   },
   "outputs": [],
   "source": [
    "import os\n",
    "import csv\n",
    "import pandas as pd\n",
    "from math import pi, exp, sqrt, log\n",
    "from numpy.linalg import det\n",
    "from numpy import array"
   ]
  },
  {
   "cell_type": "markdown",
   "metadata": {},
   "source": [
    "###Function to make the hard sphere RDF dictionary\n",
    "This reads in all of the hard sphere g(r) csv files in \"\\data\\hs_structure\\\" of the working directory and places each (in order of increasing volumne fraction) into a pandas dataframe. There is also an \"r\" column that correpsonds to the radial distance and appears at the very end of the dataframe\n",
    "\n",
    "**NOTE**: the RDF files must start at zero volume fraction and increase in one fixed increment (automatically detected when read in)\n",
    "\n",
    "---"
   ]
  },
  {
   "cell_type": "code",
   "execution_count": 2,
   "metadata": {
    "collapsed": true
   },
   "outputs": [],
   "source": [
    "#read each rdf file at each volume fraction and store in a dictionary within a dictionary\n",
    "#with volume fraction as the first key and r as the second key for very rapid read\n",
    "def load_hs_rdf_data(rdf_directory):    \n",
    "    rdf_files = os.listdir(rdf_directory) \n",
    "    \n",
    "    rdf_file = rdf_files[0] #extract first filename\n",
    "    eta = rdf_file[-11:-4] #extract the volume fraction from filename\n",
    "    rdf_data = pd.read_csv(filepath_or_buffer = rdf_directory + rdf_file, header = None, names = [\"r\", float(eta)]) \n",
    "    \n",
    "    for rdf_file in rdf_files[1:]: #loop over the various files in the rdf_data folder\n",
    "        eta = rdf_file[-11:-4]\n",
    "        rdf_data_2 = pd.read_csv(filepath_or_buffer = rdf_directory + rdf_file, header = None, names = [\"r\", float(eta)])[float(eta)]\n",
    "        rdf_data = pd.concat([rdf_data, rdf_data_2], axis=1)   \n",
    "    \n",
    "    rdf_data = rdf_data.reindex_axis(sorted(rdf_data.columns), axis=1) #make sure columns go in ascending order of volume fraction\n",
    "        \n",
    "    return rdf_data"
   ]
  },
  {
   "cell_type": "markdown",
   "metadata": {},
   "source": [
    "###Function to create an RDF at a specified volume fraction\n",
    "This works by linearly interpolating between the two nearest stored volume fractions.\n",
    "\n",
    "---"
   ]
  },
  {
   "cell_type": "code",
   "execution_count": 3,
   "metadata": {
    "collapsed": false
   },
   "outputs": [],
   "source": [
    "#actually creates the interpolation for the RDF\n",
    "def interpolate(eta_step, eta_inc, gr):\n",
    "    slope = (gr[1] - gr[0]) / eta_inc\n",
    "    return (gr[0] + slope * eta_step)\n",
    "\n",
    "#takes as input the desired volume fraction and the gr data in dataframe format\n",
    "#and linearly interpolates between the two nearest stored volume fractions\n",
    "def calculate_rdf(eta, d):\n",
    "    rdf = pd.DataFrame()\n",
    "    eta_inc = rdf_data.columns[1] #store the eta increment\n",
    "    eta_max = rdf_data.columns[-2] #store the maximum eta to check if overstepped\n",
    "    upper_index = int(eta / eta_inc) + 1 #for storing the nearest low and high volume fractions\n",
    "    lower_index = int(eta / eta_inc)\n",
    "    \n",
    "    if eta >= eta_max:\n",
    "        print \"error: eta is too large to calculate!\"\n",
    "        return rdf\n",
    "    try:\n",
    "        eta_upper = rdf_data.columns[upper_index] #grab the lower and upper packing fractions for interpolation\n",
    "        eta_lower = rdf_data.columns[lower_index]\n",
    "    except:\n",
    "        print \"error: something went wrong with rdf calculation!\"\n",
    "        return rdf\n",
    "    \n",
    "    eta_step = eta - eta_lower #the step above the lower eta to take in the linear interpolation\n",
    "    rdf[\"gr\"] = rdf_data[[eta_lower, eta_upper]].apply(lambda x: interpolate(eta_step, eta_inc, x), axis = 1) \n",
    "    rdf[\"r\"] = d*rdf_data[\"r\"]  \n",
    "    \n",
    "    return rdf"
   ]
  },
  {
   "cell_type": "markdown",
   "metadata": {},
   "source": [
    "###Calculate the effective volume fraction factor according to Hamad's theory to get effective RDF to be used for the two perturbative free energy terms\n",
    "\n",
    "---"
   ]
  },
  {
   "cell_type": "code",
   "execution_count": 4,
   "metadata": {
    "collapsed": true
   },
   "outputs": [],
   "source": [
    "#evaluate the volume fraction factor for calculating the colloid-colloid AO RDF\n",
    "def calculate_n_scale(components, x_c, x_p, #state variables  \n",
    "                   d_c, d_p #system parameters\n",
    "                  ):\n",
    "    \n",
    "    #set the needed parameters to compute the scale parameter\n",
    "    b_2 = 4.0\n",
    "    b_3 = 10.0\n",
    "    Q = x_c*(d_c**3.0)\n",
    "    \n",
    "    #detect if for colloid-colloid or colloid-polymer\n",
    "    #note: the x_c and x_p used should technically should sum to unity\n",
    "    #but it does not matter due to the division step (see Santos paper for definitions)\n",
    "    if components == \"cc\":\n",
    "        C_c_cc = (b_3/b_2)*(d_c**3.0)\n",
    "        C_p_cc = (d_p**3.0) + (b_3/b_2 - 1.0)*d_c*(d_p**2.0)\n",
    "        w_cc = (b_2/b_3)*(x_c*C_c_cc + x_p*C_p_cc)/Q\n",
    "        return w_cc\n",
    "    elif components == \"cp\":\n",
    "        C_c_cp = (d_c**3.0) + (b_3/b_2 - 1.0)*((2.0*d_p*(d_c**3.0))/(d_c + d_p))\n",
    "        C_p_cp = 0.0\n",
    "        w_cp = (b_2/b_3)*(x_c*C_c_cp + x_p*C_p_cp)/Q\n",
    "        return w_cp\n",
    "    \n",
    "    #return a zero if no coded type used\n",
    "    return 0"
   ]
  },
  {
   "cell_type": "code",
   "execution_count": 5,
   "metadata": {
    "collapsed": false
   },
   "outputs": [
    {
     "data": {
      "text/plain": [
       "1.6480000000000001"
      ]
     },
     "execution_count": 5,
     "metadata": {},
     "output_type": "execute_result"
    }
   ],
   "source": [
    "calculate_n_scale(\"cc\", 0.01, 0.1, 1.0, 0.3)\n",
    "#1.6480000000000001"
   ]
  },
  {
   "cell_type": "markdown",
   "metadata": {},
   "source": [
    "###Load RDF data into memory\n",
    "The loaded RDF data will be used as a **global** variable to avoid having to copy things around from one function to another. All RDF's are normalized to use a core diameter of unit length which is then easily converted (by rescaling r) to another of different size when generating the desired interpolated RDF.\n",
    "\n",
    "---"
   ]
  },
  {
   "cell_type": "markdown",
   "metadata": {},
   "source": [
    "**Global structure variable**"
   ]
  },
  {
   "cell_type": "code",
   "execution_count": 6,
   "metadata": {
    "collapsed": false
   },
   "outputs": [],
   "source": [
    "rdf_data = load_hs_rdf_data(\"data/hs_structure/\")"
   ]
  },
  {
   "cell_type": "markdown",
   "metadata": {},
   "source": [
    "Example calculation of an RDF follows as:"
   ]
  },
  {
   "cell_type": "code",
   "execution_count": 7,
   "metadata": {
    "collapsed": false
   },
   "outputs": [
    {
     "name": "stdout",
     "output_type": "stream",
     "text": [
      "         gr      r\n",
      "0  4.611920  3.000\n",
      "1  4.458095  3.015\n",
      "2  4.309468  3.030\n",
      "3  4.167159  3.045\n",
      "4  4.030865  3.060\n"
     ]
    }
   ],
   "source": [
    "rdf = calculate_rdf(0.45, 3.0)\n",
    "if not rdf.empty:\n",
    "    print rdf.head()"
   ]
  },
  {
   "cell_type": "code",
   "execution_count": 8,
   "metadata": {
    "collapsed": false
   },
   "outputs": [
    {
     "name": "stdout",
     "output_type": "stream",
     "text": [
      "error: eta is too large to calculate!\n"
     ]
    }
   ],
   "source": [
    "rdf = calculate_rdf(0.61, 2.0)\n",
    "if not rdf.empty:\n",
    "    print rdf.head()"
   ]
  },
  {
   "cell_type": "markdown",
   "metadata": {},
   "source": [
    "###Calculates ideal free energy contribution\n",
    "This is comprised of the large colloids (or polyions), the polymer and the two monovalent ions. The form I use below is technically incorrect as the density has dimensions and I apply a log to it. This is irrelevant though as any arbitrary constant volume multiplicative factor can be introduced in the log without penalty. Upon taking a derivative with repect to density, one would find this term cancels itself. This is the same as saying the free energy is totally arbitrary to within a constant additive factor\n",
    "\n",
    "---"
   ]
  },
  {
   "cell_type": "code",
   "execution_count": 9,
   "metadata": {
    "collapsed": true
   },
   "outputs": [],
   "source": [
    "def calculate_f_id(p, x_c, x_p, x_pos, x_neg):\n",
    "    \n",
    "    #ideal contribution containing both mixing and translational entropy\n",
    "    fid = x_c*log(x_c) + x_p*log(x_p) + x_pos*log(x_pos) + x_neg*log(x_neg) + log(p) - 1.0\n",
    "    \n",
    "    return fid"
   ]
  },
  {
   "cell_type": "markdown",
   "metadata": {},
   "source": [
    "###Calculates perturbative polyion-polyion DLVO free energy contribution\n",
    "I use an approximation due to Hamad which says the non-additive RDF contact values can be determined from a purely hard sphere contact value at a rescaled volume fraction. I go beyond this and extend this argument to say the whole RDF can be approximated as this is needed for the repulsive DLVO pair contribution to the free energy.\n",
    "\n",
    "---"
   ]
  },
  {
   "cell_type": "code",
   "execution_count": 10,
   "metadata": {
    "collapsed": false
   },
   "outputs": [],
   "source": [
    "def cc_perturb_integral(x_c, x_p, #state variables\n",
    "                        n_c, k, #redundant state variables already calculated in calling function\n",
    "                        l, Z_c, d_c, d_p #system parameters\n",
    "                        ):\n",
    "    \n",
    "    #effective charge parameter to be used in calculating the DLVO colloid-colloid pair interaction\n",
    "    Z_eff = Z_c*(exp(k*(d_c/2.0))/(1.0 + k*(d_c/2.0)))\n",
    "    \n",
    "    #calculate the AO rdf according to Hamad with extension to the whole RDF (Hamad only used for contact value)\n",
    "    w_cc = calculate_n_scale(\"cc\", x_c, x_p, d_c, d_p)\n",
    "    rdf = calculate_rdf(w_cc*n_c, d_c)\n",
    "    \n",
    "    #calculate the integral\n",
    "    #the rdf only contains data outside the core region\n",
    "    dr = rdf[\"r\"][1] - rdf[\"r\"][0]\n",
    "    integral = 0.0\n",
    "    for index in rdf.index.values[:-1]:\n",
    "        r_1 = rdf[\"r\"][index]\n",
    "        r_2 = rdf[\"r\"][index + 1]\n",
    "        gr_1 = rdf[\"gr\"][index]\n",
    "        gr_2 = rdf[\"gr\"][index + 1]\n",
    "        Bur_1 = (Z_eff**2.0)*l*(exp(-k*r_1)/r_1)\n",
    "        Bur_2 = (Z_eff**2.0)*l*(exp(-k*r_2)/r_2)\n",
    "        fr_1 = exp(-Bur_1) - 1.0\n",
    "        fr_2 = exp(-Bur_2) - 1.0\n",
    "        integral = integral + (1.0/2.0)*dr*((r_1**2.0)*gr_1*fr_1 + (r_2**2.0)*gr_2*fr_2)\n",
    "        \n",
    "    return integral\n",
    "\n",
    "#############################################################################################\n",
    "\n",
    "def calculate_f_ex_dlvo(p, x_c, x_p, x_pos, x_neg, #state variables\n",
    "                        l, Z_c, d_c, d_p #system parameters\n",
    "                        ):\n",
    "    \n",
    "    #calculate various other parameters that make the below expression a little cleaner\n",
    "    #ion variables\n",
    "    p_pos = x_pos*p\n",
    "    p_neg = x_neg*p\n",
    "    p_ions = p_pos + p_neg\n",
    "    s = (2.0*p_pos*p_neg)/p_ions\n",
    "    k = sqrt(4.0*pi*l*p_ions)\n",
    "    #colloid variables\n",
    "    p_c = x_c*p\n",
    "    n_c = (pi/6.0)*(d_c**3.0)*p_c\n",
    "        \n",
    "    #breaking up the various contributions for simplicity\n",
    "    f_ex_dlvo_ion_coord = -(x_c*(Z_c**2.0)*(l/d_c))*((k*(d_c/2.0))/(1.0 + k*(d_c/2.0)))\n",
    "    f_ex_dlvo_exc_vol = (1.0/p)*((n_c*s)/(1.0-n_c))\n",
    "    f_ex_dlvo_neg_mean_field = -(1.0/p)*(1.0/2.0)*((4.0*pi*l*((p_c*Z_c)**2.0))/(k**2.0))\n",
    "    f_ex_dlvo_pair_perturb = -2.0*pi*(x_c**2.0)*p*cc_perturb_integral(x_c, x_p, n_c, k, l, Z_c, d_c, d_p)\n",
    "    \n",
    "    #total DLVO contribution to the free energy\n",
    "    f_ex_dlvo = f_ex_dlvo_ion_coord + f_ex_dlvo_exc_vol + f_ex_dlvo_neg_mean_field + f_ex_dlvo_pair_perturb\n",
    "    \n",
    "    return f_ex_dlvo"
   ]
  },
  {
   "cell_type": "markdown",
   "metadata": {},
   "source": [
    "**Checking for scale invariance**"
   ]
  },
  {
   "cell_type": "code",
   "execution_count": 11,
   "metadata": {
    "collapsed": false
   },
   "outputs": [
    {
     "ename": "NameError",
     "evalue": "name 'calculate_n_scale_for_cc' is not defined",
     "output_type": "error",
     "traceback": [
      "\u001b[1;31m---------------------------------------------------------------------------\u001b[0m",
      "\u001b[1;31mNameError\u001b[0m                                 Traceback (most recent call last)",
      "\u001b[1;32m<ipython-input-11-b7124d245cf1>\u001b[0m in \u001b[0;36m<module>\u001b[1;34m()\u001b[0m\n\u001b[0;32m     18\u001b[0m \u001b[1;33m\u001b[0m\u001b[0m\n\u001b[0;32m     19\u001b[0m \u001b[1;31m#calculate density scale factor\u001b[0m\u001b[1;33m\u001b[0m\u001b[1;33m\u001b[0m\u001b[0m\n\u001b[1;32m---> 20\u001b[1;33m \u001b[0mw_cc\u001b[0m \u001b[1;33m=\u001b[0m \u001b[0mcalculate_n_scale_for_cc\u001b[0m\u001b[1;33m(\u001b[0m\u001b[0mx_c\u001b[0m\u001b[1;33m,\u001b[0m \u001b[0mx_p\u001b[0m\u001b[1;33m,\u001b[0m \u001b[0md_c\u001b[0m\u001b[1;33m,\u001b[0m \u001b[0mR_G\u001b[0m\u001b[1;33m)\u001b[0m\u001b[1;33m\u001b[0m\u001b[0m\n\u001b[0m\u001b[0;32m     21\u001b[0m \u001b[1;31m#calculate g(r) at contact\u001b[0m\u001b[1;33m\u001b[0m\u001b[1;33m\u001b[0m\u001b[0m\n\u001b[0;32m     22\u001b[0m \u001b[0mrdf\u001b[0m \u001b[1;33m=\u001b[0m \u001b[0mcalculate_rdf\u001b[0m\u001b[1;33m(\u001b[0m\u001b[0mw_cc\u001b[0m\u001b[1;33m*\u001b[0m\u001b[0mn_c\u001b[0m\u001b[1;33m,\u001b[0m \u001b[0md_c\u001b[0m\u001b[1;33m,\u001b[0m \u001b[0mrdf_data\u001b[0m\u001b[1;33m)\u001b[0m\u001b[1;33m\u001b[0m\u001b[0m\n",
      "\u001b[1;31mNameError\u001b[0m: name 'calculate_n_scale_for_cc' is not defined"
     ]
    }
   ],
   "source": [
    "d_c = 1.0 \n",
    "R_G = 0.3/2.0 \n",
    "l = 0.1 \n",
    "Z_c = 100.0\n",
    "\n",
    "n_c = 0.025\n",
    "\n",
    "p_c = 6.0*n_c/(pi*d_c*d_c*d_c)\n",
    "p_p = 0.5*p_c\n",
    "p_pos = 10.0*p_c\n",
    "p_neg = 20.0*p_c\n",
    "\n",
    "p = p_c + p_p + p_pos + p_neg\n",
    "x_c = p_c/p\n",
    "x_p = p_p/p\n",
    "x_pos = p_pos/p\n",
    "x_neg = p_neg/p\n",
    "\n",
    "#calculate density scale factor\n",
    "w_cc = calculate_n_scale_for_cc(x_c, x_p, d_c, R_G)\n",
    "#calculate g(r) at contact\n",
    "rdf = calculate_rdf(w_cc*n_c, d_c, rdf_data)\n",
    "#calculate the free energy contribution\n",
    "calculate_f_ex_dlvo(p, x_c, x_pos, x_neg, l, Z_c, d_c, rdf)"
   ]
  },
  {
   "cell_type": "code",
   "execution_count": 13,
   "metadata": {
    "collapsed": false
   },
   "outputs": [
    {
     "data": {
      "text/plain": [
       "-17.67148544525654"
      ]
     },
     "execution_count": 13,
     "metadata": {},
     "output_type": "execute_result"
    }
   ],
   "source": [
    "d_c = 1.0\n",
    "d_p = 0.30\n",
    "l = 0.1 \n",
    "Z_c = 100.0\n",
    "\n",
    "n_c = 0.025\n",
    "\n",
    "p_c = 6.0*n_c/(pi*d_c*d_c*d_c)\n",
    "p_p = 0.5*p_c\n",
    "p_pos = 10.0*p_c\n",
    "p_neg = 20.0*p_c\n",
    "\n",
    "p = p_c + p_p + p_pos + p_neg\n",
    "x_c = p_c/p\n",
    "x_p = p_p/p\n",
    "x_pos = p_pos/p\n",
    "x_neg = p_neg/p\n",
    "\n",
    "#calculate the free energy contribution\n",
    "calculate_f_ex_dlvo(p, x_c, x_p, x_pos, x_neg, l, Z_c, d_c, d_p)\n",
    "#-17.67148544525654"
   ]
  },
  {
   "cell_type": "markdown",
   "metadata": {},
   "source": [
    "###Calculates the perturbative polyion-polymer adsorption free energy contribution\n",
    "This uses a perturbative inclusion of short range attractions between the polyions and polymers. These attractions can be throught of as including both VDW and dipole-ion interactions\n",
    "\n",
    "---"
   ]
  },
  {
   "cell_type": "code",
   "execution_count": 14,
   "metadata": {
    "collapsed": true
   },
   "outputs": [],
   "source": [
    "def calculate_f_ex_int(p, x_c, x_p, #state variables\n",
    "                        d_c, d_p, R_cp, BA, #system parameters\n",
    "                        ):\n",
    "    \n",
    "    #transform to some helpful variables\n",
    "    p_c = x_c*p\n",
    "    n_c = (pi/6.0)*(d_c**3.0)*p_c\n",
    "    R_G = d_p/2.0\n",
    "    \n",
    "    #calculate the AO rdf according to Hamad with extension to the whole RDF (Hamad only used for contact value)\n",
    "    w_cp = calculate_n_scale(\"cp\", x_c, x_p, d_c, d_p)\n",
    "    g_contact = calculate_rdf(w_cp*n_c, (d_c/2.0 + R_G))[\"gr\"][0]\n",
    "    \n",
    "    #interfacial free energy contribution\n",
    "    f_ex_int = -4.0*pi*p*x_c*x_p*R_cp*((d_c/2.0 + R_G)**2.0)*g_contact*(exp(BA)-1.0)\n",
    "    \n",
    "    return f_ex_int"
   ]
  },
  {
   "cell_type": "markdown",
   "metadata": {},
   "source": [
    "**Checking for scale invariance**"
   ]
  },
  {
   "cell_type": "code",
   "execution_count": 15,
   "metadata": {
    "collapsed": false
   },
   "outputs": [
    {
     "data": {
      "text/plain": [
       "-18.577585661644907"
      ]
     },
     "execution_count": 15,
     "metadata": {},
     "output_type": "execute_result"
    }
   ],
   "source": [
    "d_c = 1.0 #1.0\n",
    "d_p = 0.30 #0.3\n",
    "R_cp = 0.01 #0.05\n",
    "BA = 13.0\n",
    "\n",
    "n_c = 0.025\n",
    "\n",
    "p_c = 6.0*n_c/(pi*d_c*d_c*d_c)\n",
    "p_p = 0.5*p_c\n",
    "p_pos = 10.0*p_c\n",
    "p_neg = 20.0*p_c\n",
    "\n",
    "p = p_c + p_p + p_pos + p_neg\n",
    "x_c = p_c/p\n",
    "x_p = p_p/p\n",
    "x_pos = p_pos/p\n",
    "x_neg = p_neg/p\n",
    "\n",
    "\n",
    "calculate_f_ex_int(p, x_c, x_p, d_c, d_p, R_cp, BA)\n",
    "\n",
    "#-18.577585661644907"
   ]
  },
  {
   "cell_type": "markdown",
   "metadata": {
    "collapsed": true
   },
   "source": [
    "###Calculates the excess contribution of the non-addittive AO model to the free energy\n",
    "This uses the approximate equation of state of Woodward et al. I use this as apposed to the Santos theory as it is simpler and yields similar results to the free volume form which agrees well with Santos.\n",
    "\n",
    "---"
   ]
  },
  {
   "cell_type": "code",
   "execution_count": 16,
   "metadata": {
    "collapsed": true
   },
   "outputs": [],
   "source": [
    "def calculate_f_ex_ao(p, x_c, x_p, #state variables\n",
    "                        d_c, d_p #system parameters\n",
    "                      ):\n",
    "    \n",
    "    #calculate the needed densities\n",
    "    R_G = d_p/2.0\n",
    "    p_c = p*x_c\n",
    "    p_p = p*x_p\n",
    "    \n",
    "    #the effective volume fraction for use in the carnahan starling free energy\n",
    "    n_eff = (pi/6.0)*(p_c/(p_c + p_p))*(p_c*(d_c**3.0) + p_p*((d_c/2.0 + R_G)**3.0))\n",
    "    \n",
    "    #modified carnahan starling free energy\n",
    "    f_ex_ao = (x_c + x_p)*(-3.0 + 2.0/(1.0 - n_eff) + 1.0/((1.0 - n_eff)**2.0))\n",
    "    \n",
    "    return f_ex_ao   "
   ]
  },
  {
   "cell_type": "markdown",
   "metadata": {
    "collapsed": false
   },
   "source": [
    "###Calculates the total free energy of the colloid-polymer-ion system\n",
    "This just calls the four separate free energy functions and adds them all up. \n",
    "\n",
    "Up to this point I have treated the colloid and ions all as separate entities. Formally this is fine but electroneutrality ultimately sets a linear constraint on what combinations of the three charges species are possible. For this I first assume that the charge on the colloid is positive (as it is in the experimental system) which means the density of positive ions is the density of the added salt in this simple system. Thus, when performing phase coexistence calculations the phases can be expressed as the amount of colloid, polymer and extra salt.\n",
    "\n",
    "---"
   ]
  },
  {
   "cell_type": "code",
   "execution_count": 24,
   "metadata": {
    "collapsed": false
   },
   "outputs": [],
   "source": [
    "def calculate_f_explicit_ions(p, x_c, x_p, x_pos, x_neg, #state variables\n",
    "               d_c, d_p, #particle sizes\n",
    "               l, Z_c, #ionic solution parameters\n",
    "               R_cp, BA #interfacial attraction parameters\n",
    "               ):\n",
    "    \n",
    "    #ideal\n",
    "    f_id = calculate_f_id(p, x_c, x_p, x_pos, x_neg)\n",
    "    #excess dlvo\n",
    "    f_ex_dlvo = calculate_f_ex_dlvo(p, x_c, x_p, x_pos, x_neg, l, Z_c, d_c, d_p) \n",
    "    #excess c-p interfacial\n",
    "    f_ex_int = calculate_f_ex_int(p, x_c, x_p, d_c, d_p, R_cp, BA)\n",
    "    #excess ao\n",
    "    f_ex_ao = calculate_f_ex_ao(p, x_c, x_p, d_c, d_p)\n",
    "    \n",
    "    f = f_id + f_ex_dlvo + f_ex_int + f_ex_ao\n",
    "    \n",
    "    return f"
   ]
  },
  {
   "cell_type": "markdown",
   "metadata": {
    "collapsed": true
   },
   "source": [
    "This is an alternative form that expresses the free energy in terms of densities alone by simply referencing the other form--this makes the stability calculation easier to work with."
   ]
  },
  {
   "cell_type": "code",
   "execution_count": 25,
   "metadata": {
    "collapsed": true
   },
   "outputs": [],
   "source": [
    "def calculate_f(p_c, p_p, p_s, #state variables\n",
    "               d_c, d_p, #particle sizes\n",
    "               l, Z_c, #ionic solution parameters\n",
    "               R_cp, BA #interfacial attraction parameters\n",
    "               ):\n",
    "    \n",
    "    #calculate the various densities based on specifying the salt density and the colloid and polymer\n",
    "    if Z_c > 0.0:\n",
    "        p_pos = p_s\n",
    "        p_neg = p_pos + Z_c*p_c #charge neutrality condition\n",
    "    else:\n",
    "        p_neg = p_s\n",
    "        p_pos = p_neg - Z_c*p_c #charge neutrality condition\n",
    "    \n",
    "    #calculate the total density and the mole fractions\n",
    "    p = p_c + p_p + p_pos + p_neg\n",
    "    x_c = p_c/p\n",
    "    x_p = p_p/p\n",
    "    x_pos = p_pos/p\n",
    "    x_neg = p_neg/p\n",
    "    \n",
    "    f = calculate_f_explicit_ions(p, x_c, x_p, x_pos, x_neg, d_c, d_p, l, Z_c, R_cp, BA)\n",
    "    \n",
    "    return f"
   ]
  },
  {
   "cell_type": "markdown",
   "metadata": {
    "collapsed": true
   },
   "source": [
    "###Function for calculating the stability matrix and its determinant\n",
    "This calculates the determinant of the 3x3 stability matrix for use in finding homogenous phase spinodal limits. The matrix is only 3x3 despite the 4 components due to charge neutrality. The particular choice I make for the matrix is the 3x3 of chemical potential derivatives with respect to the colloid, polymer and salt particle numbers.\n",
    "\n",
    "---"
   ]
  },
  {
   "cell_type": "code",
   "execution_count": null,
   "metadata": {
    "collapsed": true
   },
   "outputs": [],
   "source": [
    "def calculate_stability_determinant(p_c, p_p, p_s, #state variables\n",
    "                                    d_c, d_p, #particle sizes\n",
    "                                    l, Z_c, #ionic solution parameters \n",
    "                                    R_cp, BA #interfacial attraction parameters\n",
    "                                    ):\n",
    "    #full density\n",
    "    p =     \n",
    "    \n",
    "    #calculate the various stability matrix elements\n",
    "    #first order derivatives\n",
    "    df_c = calculate_f_derivatives(\"c\", p_c, p_p, p_s, d_c, d_p, l, Z_c, R_cp, BA)\n",
    "    df_p = calculate_f_derivatives(\"p\", p_c, p_p, p_s, d_c, d_p, l, Z_c, R_cp, BA)\n",
    "    df_s = calculate_f_derivatives(\"s\", p_c, p_p, p_s, d_c, d_p, l, Z_c, R_cp, BA)\n",
    "    #now the six double derivatives (3 same and 3 mixed)\n",
    "        #same\n",
    "    d2f_cc = calculate_f_derivatives(\"cc\", p_c, p_p, p_s, d_c, d_p, l, Z_c, R_cp, BA)\n",
    "    d2f_pp = calculate_f_derivatives(\"pp\", p_c, p_p, p_s, d_c, d_p, l, Z_c, R_cp, BA)\n",
    "    d2f_ss = calculate_f_derivatives(\"ss\", p_c, p_p, p_s, d_c, d_p, l, Z_c, R_cp, BA)\n",
    "        #mixed\n",
    "    d2f_cp = calculate_f_derivatives(\"cp\", p_c, p_p, p_s, d_c, d_p, l, Z_c, R_cp, BA)\n",
    "    d2f_cs = calculate_f_derivatives(\"cs\", p_c, p_p, p_s, d_c, d_p, l, Z_c, R_cp, BA)\n",
    "    d2f_ps = calculate_f_derivatives(\"ps\", p_c, p_p, p_s, d_c, d_p, l, Z_c, R_cp, BA)\n",
    "    \n",
    "    #now calculate the matrix elements\n",
    "        #diagonal elements\n",
    "    Z_cc = df_c + df_c + p*d2f_cc\n",
    "    Z_pp = df_p + df_p + p*d2f_pp\n",
    "    Z_ss = df_s + df_s + p*d2f_ss\n",
    "        #off-diagonal elements (exploiting symmetry here)\n",
    "    Z_cp = df_c + df_p + p*d2f_cp\n",
    "    Z_pc = Z_cp\n",
    "    Z_cs = df_c + df_s + p*d2f_cs\n",
    "    Z_sc = Z_cs\n",
    "    Z_ps = df_p + df_s + p*d2f_ps\n",
    "    Z_sp = Z_ps\n",
    "    \n",
    "    #build the 3x3 stability matrix as a numpy array and calculate the determinant \n",
    "    stability_matrix = array([[Z_cc, Z_cp, Z_cs], [Z_pc, Z_pp, Z_ps], [Z_sc, Z_sp, Z_ss]])\n",
    "    stability_determinant = det(stability_matrix)\n",
    "    \n",
    "    return stability_determinant"
   ]
  },
  {
   "cell_type": "code",
   "execution_count": 31,
   "metadata": {
    "collapsed": false
   },
   "outputs": [
    {
     "name": "stdout",
     "output_type": "stream",
     "text": [
      "[[1 2 3]\n",
      " [4 5 6]\n",
      " [4 2 6]]\n",
      "-18.0\n"
     ]
    }
   ],
   "source": [
    "a = array([[1, 2, 3], [4, 5, 6], [4, 2, 6]])\n",
    "print a\n",
    "print det(a)"
   ]
  },
  {
   "cell_type": "code",
   "execution_count": null,
   "metadata": {
    "collapsed": true
   },
   "outputs": [],
   "source": []
  },
  {
   "cell_type": "code",
   "execution_count": null,
   "metadata": {
    "collapsed": true
   },
   "outputs": [],
   "source": []
  },
  {
   "cell_type": "code",
   "execution_count": null,
   "metadata": {
    "collapsed": true
   },
   "outputs": [],
   "source": []
  },
  {
   "cell_type": "code",
   "execution_count": null,
   "metadata": {
    "collapsed": true
   },
   "outputs": [],
   "source": []
  },
  {
   "cell_type": "markdown",
   "metadata": {},
   "source": [
    "**Sizes**"
   ]
  },
  {
   "cell_type": "code",
   "execution_count": null,
   "metadata": {
    "collapsed": true
   },
   "outputs": [],
   "source": [
    "d_c = 1.0 #diameter of colloid\n",
    "d_p = 0.33 #diameter of the polymer (~2xR_G)"
   ]
  },
  {
   "cell_type": "markdown",
   "metadata": {},
   "source": [
    "**Colloid packing fraction**"
   ]
  },
  {
   "cell_type": "code",
   "execution_count": null,
   "metadata": {
    "collapsed": true
   },
   "outputs": [],
   "source": [
    "n_c = 0.05 #set volume fraction of the colloids"
   ]
  },
  {
   "cell_type": "markdown",
   "metadata": {},
   "source": [
    "**Number of polymers and ions per colloid**"
   ]
  },
  {
   "cell_type": "code",
   "execution_count": null,
   "metadata": {
    "collapsed": true
   },
   "outputs": [],
   "source": [
    "\n",
    "\n",
    "p_c = 6.0*n_c/(pi*d_c*d_c*d_c)\n",
    "p_p = 0.5*p_c\n",
    "p_pos = 10.0*p_c\n",
    "p_neg = 20.0*p_c\n",
    "\n",
    "\n",
    "p = \n",
    "x_c = \n",
    "x_p = \n"
   ]
  },
  {
   "cell_type": "code",
   "execution_count": 10,
   "metadata": {
    "collapsed": false
   },
   "outputs": [
    {
     "name": "stdout",
     "output_type": "stream",
     "text": [
      "hi\n",
      "3\n"
     ]
    }
   ],
   "source": [
    "i=3 \n",
    "\n",
    "def test_func(x):\n",
    "    x = 5\n",
    "    return \"hi\"\n",
    "    \n",
    "print test_func(i)\n",
    "\n",
    "print i"
   ]
  },
  {
   "cell_type": "code",
   "execution_count": null,
   "metadata": {
    "collapsed": true
   },
   "outputs": [],
   "source": [
    "\n"
   ]
  },
  {
   "cell_type": "code",
   "execution_count": null,
   "metadata": {
    "collapsed": true
   },
   "outputs": [],
   "source": []
  },
  {
   "cell_type": "code",
   "execution_count": null,
   "metadata": {
    "collapsed": true
   },
   "outputs": [],
   "source": []
  },
  {
   "cell_type": "code",
   "execution_count": null,
   "metadata": {
    "collapsed": true
   },
   "outputs": [],
   "source": [
    "def calculate_f_ex_int(p, x_c, x_p, #state variables\n",
    "                        d_c, R_G, R_cp, BA, #system parameters\n",
    "                        g_AO #reference structure\n",
    "                        ):\n",
    "    \n",
    "    #some convenient transformations of the various inputs\n",
    "    #n_c = p*x_c*(pi/6.0)*(d_c**3.0)\n",
    "    #n_p = p*x_p*(4.0/3.0)*pi*(R_G**3.0)\n",
    "    #z_cp = ((4.0*R_G)/d_c)/(1.0 + (2.0*R_G)/d_c)\n",
    "    \n",
    "    #AO adjusted contact value\n",
    "    #g_AO = (1.0/(1.0-n_c-n_p)) + (g_HS - 1.0/(1.0-n_c-n_p))*z_cp\n",
    "    \n",
    "    #interfacial free energy contribution\n",
    "    f_ex_int = -4.0*pi*p*x_c*x_p*R_cp*((d_c/2.0 + R_G)**2.0)*g_AO*(exp(BA)-1.0)\n",
    "    \n",
    "    return f_ex_int"
   ]
  },
  {
   "cell_type": "code",
   "execution_count": null,
   "metadata": {
    "collapsed": true
   },
   "outputs": [],
   "source": [
    "def calculate_C(type_1, type_2, type_3)\n",
    "\n",
    "def calculate_B_3(type_1, type_2, type_3, d_c, R_G):\n",
    "    if type_1 == \"c\":\n",
    "        d_1 = d_c\n",
    "\n",
    "\n",
    "def calculate_f_ex_ao(p, x_c, x_p, #state variables\n",
    "                        d_c, R_G #system parameters\n",
    "                      ):\n",
    "    \n",
    "    #the dimensionless 2nd and 3rd hard sphere virial coefficients in 3D\n",
    "    b_2 = 4.0\n",
    "    b_3 = 10.0\n",
    "    \n",
    "    #various c parameters used to calculate the mixture virial coefficients\n",
    "    #colloid terms\n",
    "    C_c_cc = (b_3/b_2)*(d_c**3.0)\n",
    "    C_c_pp = (d_c + 2.0*R_G)**3.0\n",
    "    C_c_cp = (d_c**3.0) + (b_3/b_2 - 1.0)*((4.0*R_G*(d_c**3.0))/(d_c + 2.0*R_G))\n",
    "    #polymer_terms\n",
    "    C_p_cc = ((2.0*R_G)**3.0) + (b_3/b_2 - 1.0)*d_c*((2.0*R_G)**2.0)\n",
    "    C_p_pp = 0.0\n",
    "    C_p_cp = 0.0\n",
    "    \n",
    "    #calculate the various B parameters\n",
    "    \n",
    "    #some convenient transformations of the various inputs\n",
    "    p_c = p*x_c\n",
    "    p_p = p*x_p\n",
    "    X_c = p_c/(p_c + p_p)\n",
    "    X_p = p_p/(p_c + p_p)\n",
    "    n_c = p_c*(pi/6.0)*(d_c**3.0)\n",
    "    n_p = p_p*(4.0/3.0)*pi*(R_G**3.0)\n",
    "    Q = X_c*(d_c**3.0)\n",
    "    \n",
    "    #calculate the reference hard sphere excess free energy\n",
    "    f_ex_hs = calculate_f_ex_hs((n_c + n_p))\n",
    "    \n",
    "    #\n",
    "    f_ex_ao_lower = log(1.0 - n_c - n_p)*((b_3*Q*B_2 - b_2*B_3)/((b_3 - b_2)*(Q**2.0)))\n",
    "    f_ex_ao_upper = f_ex_hs*((B_3 - Q*B_2)/((b_3 - b_2)*(Q**2.0)))"
   ]
  },
  {
   "cell_type": "code",
   "execution_count": null,
   "metadata": {
    "collapsed": true
   },
   "outputs": [],
   "source": [
    "\n",
    "\n",
    "p_c = 6.0*n_c/(pi*d_c*d_c*d_c)\n",
    "p_p = 0.5*p_c\n",
    "p_pos = 10.0*p_c\n",
    "p_neg = 20.0*p_c\n",
    "\n",
    "\n",
    "p = \n",
    "x_c = \n",
    "x_p = \n"
   ]
  }
 ],
 "metadata": {
  "kernelspec": {
   "display_name": "Python 2",
   "language": "python",
   "name": "python2"
  },
  "language_info": {
   "codemirror_mode": {
    "name": "ipython",
    "version": 2
   },
   "file_extension": ".py",
   "mimetype": "text/x-python",
   "name": "python",
   "nbconvert_exporter": "python",
   "pygments_lexer": "ipython2",
   "version": "2.7.10"
  }
 },
 "nbformat": 4,
 "nbformat_minor": 0
}
