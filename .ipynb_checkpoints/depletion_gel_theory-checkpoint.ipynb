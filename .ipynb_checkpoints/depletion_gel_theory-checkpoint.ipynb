{
 "cells": [
  {
   "cell_type": "markdown",
   "metadata": {},
   "source": [
    "###Required imports"
   ]
  },
  {
   "cell_type": "code",
   "execution_count": 2,
   "metadata": {
    "collapsed": false
   },
   "outputs": [],
   "source": [
    "import os\n",
    "import csv\n",
    "import pandas as pd\n",
    "from math import pi"
   ]
  },
  {
   "cell_type": "markdown",
   "metadata": {},
   "source": [
    "###Function to make the hard sphere RDF dictionary\n",
    "This reads in all of the hard sphere g(r) csv files in \"\\data\\hs_structure\\\" of the working directory and places each (in order of increasing volumne fraction) into a pandas dataframe. There is also an \"r\" column that correpsonds to the radial distance and appears at the very end of the dataframe\n",
    "\n",
    "**NOTE**: the RDF files must start at zero volume fraction and increase in one fixed increment (automatically detected when read in)"
   ]
  },
  {
   "cell_type": "code",
   "execution_count": 3,
   "metadata": {
    "collapsed": true
   },
   "outputs": [],
   "source": [
    "#read each rdf file at each volume fraction and store in a dictionary within a dictionary\n",
    "#with volume fraction as the first key and r as the second key for very rapid read\n",
    "def load_hs_rdf_data(rdf_directory):    \n",
    "    rdf_files = os.listdir(rdf_directory) \n",
    "    \n",
    "    rdf_file = rdf_files[0] #extract first filename\n",
    "    eta = rdf_file[-11:-4] #extract the volume fraction from filename\n",
    "    rdf_data = pd.read_csv(filepath_or_buffer = rdf_directory + rdf_file, header = None, names = [\"r\", float(eta)]) \n",
    "    \n",
    "    for rdf_file in rdf_files[1:]: #loop over the various files in the rdf_data folder\n",
    "        eta = rdf_file[-11:-4]\n",
    "        rdf_data_2 = pd.read_csv(filepath_or_buffer = rdf_directory + rdf_file, header = None, names = [\"r\", float(eta)])[float(eta)]\n",
    "        rdf_data = pd.concat([rdf_data, rdf_data_2], axis=1)   \n",
    "    \n",
    "    rdf_data = rdf_data.reindex_axis(sorted(rdf_data.columns), axis=1) #make sure columns go in ascending order of volume fraction\n",
    "        \n",
    "    return rdf_data"
   ]
  },
  {
   "cell_type": "markdown",
   "metadata": {},
   "source": [
    "###Function to create an RDF at a specified volume fraction\n",
    "This works by linearly interpolating between the two nearest stored volume fractions."
   ]
  },
  {
   "cell_type": "code",
   "execution_count": 4,
   "metadata": {
    "collapsed": false
   },
   "outputs": [],
   "source": [
    "#actually creates the interpolation for the RDF\n",
    "def interpolate(eta_step, eta_inc, gr):\n",
    "    slope = (gr[1] - gr[0]) / eta_inc\n",
    "    return (gr[0] + slope * eta_step)\n",
    "\n",
    "#takes as input the desired volume fraction and the gr data in dataframe format\n",
    "#and linearly interpolates between the two nearest stored volume fractions\n",
    "def calculate_rdf(eta, rdf_data):\n",
    "    rdf = pd.DataFrame()\n",
    "    eta_inc = rdf_data.columns[1] #store the eta increment\n",
    "    eta_max = rdf_data.columns[-2] #store the maximum eta to check if overstepped\n",
    "    upper_index = int(eta / eta_inc) + 1 #for storing the nearest low and high volume fractions\n",
    "    lower_index = int(eta / eta_inc)\n",
    "    \n",
    "    if eta >= eta_max:\n",
    "        print \"error: eta is too large to calculate!\"\n",
    "        return rdf\n",
    "    \n",
    "    try:\n",
    "        eta_upper = rdf_data.columns[upper_index] #grab the lower and upper packing fractions for interpolation\n",
    "        eta_lower = rdf_data.columns[lower_index]\n",
    "    except:\n",
    "        print \"error: something went wrong with rdf calculation!\"\n",
    "        return rdf\n",
    "    \n",
    "    eta_step = eta - eta_lower #the step above the lower eta to take in the linear interpolation\n",
    "    rdf[\"gr\"] = rdf_data[[eta_lower, eta_upper]].apply(lambda x: interpolate(eta_step, eta_inc, x), axis = 1) \n",
    "    rdf[\"r\"] = rdf_data[\"r\"]  \n",
    "    \n",
    "    return rdf"
   ]
  },
  {
   "cell_type": "markdown",
   "metadata": {},
   "source": [
    "###Load RDF data into memory"
   ]
  },
  {
   "cell_type": "code",
   "execution_count": 5,
   "metadata": {
    "collapsed": false
   },
   "outputs": [],
   "source": [
    "rdf_data = load_hs_rdf_data(\"data/hs_structure/\")"
   ]
  },
  {
   "cell_type": "markdown",
   "metadata": {},
   "source": [
    "Example calculation of an RDF follows as:"
   ]
  },
  {
   "cell_type": "code",
   "execution_count": 6,
   "metadata": {
    "collapsed": false
   },
   "outputs": [
    {
     "name": "stdout",
     "output_type": "stream",
     "text": [
      "         gr      r\n",
      "0  4.611920  1.000\n",
      "1  4.458095  1.005\n",
      "2  4.309468  1.010\n",
      "3  4.167159  1.015\n",
      "4  4.030865  1.020\n"
     ]
    }
   ],
   "source": [
    "rdf = calculate_rdf(0.45, rdf_data)\n",
    "if not rdf.empty:\n",
    "    print rdf.head()"
   ]
  },
  {
   "cell_type": "code",
   "execution_count": 7,
   "metadata": {
    "collapsed": false
   },
   "outputs": [
    {
     "name": "stdout",
     "output_type": "stream",
     "text": [
      "error: eta is too large to calculate!\n"
     ]
    }
   ],
   "source": [
    "rdf = calculate_rdf(0.61, rdf_data)\n",
    "if not rdf.empty:\n",
    "    print rdf.head()"
   ]
  },
  {
   "cell_type": "markdown",
   "metadata": {},
   "source": [
    "###Calculates perturbative polyion-polyion DLVO free energy contribution\n",
    "For simplicity, purely hardsphere structure is used as a surrogate for the full Asakura Oosawa non-additive structure since the full rdf (not just at contact is needed). I may try to improve this later"
   ]
  },
  {
   "cell_type": "code",
   "execution_count": null,
   "metadata": {
    "collapsed": true
   },
   "outputs": [],
   "source": [
    "def calculate_delf_dlvo(\"\"\"state variable\"\"\" p, x_c, x_pos, x_neg,\n",
    "                        \"\"\"system parameters\"\"\" l, Z_c, dc, \n",
    "                        \"\"\"structure\"\"\" rdf_data):\n",
    "    \n",
    "    #calculate various other parameters that make the below expression a little cleaner\n",
    "    #ion variables\n",
    "    p_pos = x_pos*p\n",
    "    p_neg = x_neg*p\n",
    "    p_salt = p_pos + p_neg\n",
    "    s = (2.0*p_pos*p_neg)/p_salt\n",
    "    k = 4.0*pi*l*p_salt\n",
    "    #colloid variables\n",
    "    p_c = x_c*p\n",
    "    nc = (pi/6.0)*(dc**3.0)*pc\n",
    "    \n",
    "    #breaking up the various contributions for simplicity\n",
    "    delf_dlvo_ion_coord = -(xc*(Z_c**2.0)*(l/dc))*((k*(dc/2.0))/(1.0 + k*(dc/2.0)))\n",
    "    delf_dlvo_exc_vol = (1.0/p)*((nc*s)/(1.0-nc))\n",
    "    delf_dlvo_neg_mean_field = -(1.0/p)*(1.0/2.0)*((4.0*pi*l*((pc*Z_c)**2.0))/(k**2))\n",
    "    delf_dlvo_pair_perturb = calculate_delf_dlvo_pair_perturb()\n",
    "    \n",
    "    #total DLVO contribution to the free energy\n",
    "    delf_dlvo = delf_dlvo_ion_coord + delf_dlvo_exc_vol + delf_dlvo_neg_mean_field + delf_dlvo_pair_perturb\n",
    "    \n",
    "    return delf_dlvo"
   ]
  },
  {
   "cell_type": "code",
   "execution_count": null,
   "metadata": {
    "collapsed": true
   },
   "outputs": [],
   "source": []
  },
  {
   "cell_type": "markdown",
   "metadata": {},
   "source": [
    "###Function to calculate Asakura Oosawa adjusted RDF\n",
    "This uses a simple approximation "
   ]
  },
  {
   "cell_type": "code",
   "execution_count": 73,
   "metadata": {
    "collapsed": false
   },
   "outputs": [
    {
     "data": {
      "text/plain": [
       "9.0"
      ]
     },
     "execution_count": 73,
     "metadata": {},
     "output_type": "execute_result"
    }
   ],
   "source": [
    "3**2.0"
   ]
  },
  {
   "cell_type": "code",
   "execution_count": null,
   "metadata": {
    "collapsed": true
   },
   "outputs": [],
   "source": []
  }
 ],
 "metadata": {
  "kernelspec": {
   "display_name": "Python 2",
   "language": "python",
   "name": "python2"
  },
  "language_info": {
   "codemirror_mode": {
    "name": "ipython",
    "version": 2
   },
   "file_extension": ".py",
   "mimetype": "text/x-python",
   "name": "python",
   "nbconvert_exporter": "python",
   "pygments_lexer": "ipython2",
   "version": "2.7.10"
  }
 },
 "nbformat": 4,
 "nbformat_minor": 0
}
